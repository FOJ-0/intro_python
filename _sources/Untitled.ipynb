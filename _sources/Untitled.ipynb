{
 "cells": [
  {
   "cell_type": "markdown",
   "id": "9cb28c2c",
   "metadata": {},
   "source": [
    "# Actividad 2\n",
    "**Instrucciones:** \n",
    "- Cada pregunta la debe responder en una celda diferente (en total 4 celdas de código). \n",
    "- Antes de cada celda de código debe ir un `markdown` que muestre la pregunta que está respondiendo. \n",
    "- En la celda de código debe agregar un breve comentario de qué está haciendo.  \n",
    "\n",
    "Revisar las bases y ver como vienen. Limpiar (en excel) para que sea sencillo importar los datos. Por ejemplo, en la base de EMPLEO las primeras 5 filas son celdas vacías o título de la hoja. Eso se puede borrar. Las columnas \"C\", \"E\" y otras son columnas en blanco, eliminar para que no queden a la hora de importar. La fila 7 tiene un subtítulo \"en miles\" que no aporta, también se puede eliminar. La idea es que las bases queden sólo con las filas y columnas que va a importar a python. \n",
    "\n",
    "Utilizando `pandas` importar las 4 bases, llamar: DF_IMACEC, DF_EMP, DF_IMP, DF_EXP. Limpiar para que se puedan trabajar (cambiar los nombres de variables, chequear el tipo de datos, revisar en qué fecha parten).\n",
    "\n",
    "1. Crear un DataFrame que tenga la variación porcentual anual de personas para las categorías independientes (total) y asalariados (total). \n",
    "2. Usando el DataFrame del IMACEC, transponer para que las fechas queden en las filas y las categorías como columnas. Para esto puede usar la función de pandas `pivot_table`. \n",
    "3. Al DF del punto 1), agregar la variación porcentual anual del `imacec` del punto 2), usando un `inner join`. \n",
    "4. Utilizando `plotly`, crear un `subplot` que contenga: \n",
    "    1) Gráfico con la variación anual de independientes, asalariados e IMACEC. Debe usar líneas, markes o dash para diferenciar las tres líneas. \n",
    "    2)  Usando los DataFrame de exportaciones (EXP) e importaciones (IMP), crear un gráfico de `scatter` que tenga el total de exportaciones en el eje horizontal y el total de importaciones (CIF) en el vertical. Agregue al gráfico una línea de 45°.\n",
    "    3) Dentro de las exportaciones seleccione: total exportaciones, minería,  agropecuario-silvícola y pesquero, industriales. Utilizando la primera fecha (enero-2009) como base 100, crear un mapa de calor que en el eje horizontal tenga las fechas y en el vertical las 4 categorías. Cambie la escala de colores (no utilizar el por defecto). \n",
    "    \n",
    "Cada gráfico debe tener un subtítulo, nombre de ejes y una leyenda -según corresponda-. \n",
    "*hint: la clave es que ordene bien los datos antes del gráfico. Luego piense bien a qué debe llegar.*"
   ]
  },
  {
   "cell_type": "code",
   "execution_count": 4,
   "id": "5d437916",
   "metadata": {},
   "outputs": [],
   "source": [
    "import pandas as pd\n",
    "df = pd.read_excel(\"/home/felix/Dropbox/Computational_Economics/Intro_python/Data_SQL/imacec2.ods\")"
   ]
  },
  {
   "cell_type": "code",
   "execution_count": 6,
   "id": "e8492ec8",
   "metadata": {},
   "outputs": [
    {
     "data": {
      "text/html": [
       "<div>\n",
       "<style scoped>\n",
       "    .dataframe tbody tr th:only-of-type {\n",
       "        vertical-align: middle;\n",
       "    }\n",
       "\n",
       "    .dataframe tbody tr th {\n",
       "        vertical-align: top;\n",
       "    }\n",
       "\n",
       "    .dataframe thead th {\n",
       "        text-align: right;\n",
       "    }\n",
       "</style>\n",
       "<table border=\"1\" class=\"dataframe\">\n",
       "  <thead>\n",
       "    <tr style=\"text-align: right;\">\n",
       "      <th></th>\n",
       "      <th>Descripcion series</th>\n",
       "    </tr>\n",
       "  </thead>\n",
       "  <tbody>\n",
       "    <tr>\n",
       "      <th>1996-01-01</th>\n",
       "      <td>47.104201</td>\n",
       "    </tr>\n",
       "    <tr>\n",
       "      <th>1996-02-01</th>\n",
       "      <td>47.845904</td>\n",
       "    </tr>\n",
       "    <tr>\n",
       "      <th>1996-03-01</th>\n",
       "      <td>47.850285</td>\n",
       "    </tr>\n",
       "    <tr>\n",
       "      <th>1996-04-01</th>\n",
       "      <td>47.850344</td>\n",
       "    </tr>\n",
       "    <tr>\n",
       "      <th>1996-05-01</th>\n",
       "      <td>47.902395</td>\n",
       "    </tr>\n",
       "    <tr>\n",
       "      <th>...</th>\n",
       "      <td>...</td>\n",
       "    </tr>\n",
       "    <tr>\n",
       "      <th>2021-01-01</th>\n",
       "      <td>112.784887</td>\n",
       "    </tr>\n",
       "    <tr>\n",
       "      <th>2021-02-01</th>\n",
       "      <td>113.988091</td>\n",
       "    </tr>\n",
       "    <tr>\n",
       "      <th>2021-03-01</th>\n",
       "      <td>112.535383</td>\n",
       "    </tr>\n",
       "    <tr>\n",
       "      <th>2021-04-01</th>\n",
       "      <td>110.961629</td>\n",
       "    </tr>\n",
       "    <tr>\n",
       "      <th>2021-05-01</th>\n",
       "      <td>113.848748</td>\n",
       "    </tr>\n",
       "  </tbody>\n",
       "</table>\n",
       "<p>305 rows × 1 columns</p>\n",
       "</div>"
      ],
      "text/plain": [
       "            Descripcion series\n",
       "1996-01-01           47.104201\n",
       "1996-02-01           47.845904\n",
       "1996-03-01           47.850285\n",
       "1996-04-01           47.850344\n",
       "1996-05-01           47.902395\n",
       "...                        ...\n",
       "2021-01-01          112.784887\n",
       "2021-02-01          113.988091\n",
       "2021-03-01          112.535383\n",
       "2021-04-01          110.961629\n",
       "2021-05-01          113.848748\n",
       "\n",
       "[305 rows x 1 columns]"
      ]
     },
     "execution_count": 6,
     "metadata": {},
     "output_type": "execute_result"
    }
   ],
   "source": [
    "pd.pivot_table(df, columns=\"Descripcion series\")"
   ]
  },
  {
   "cell_type": "code",
   "execution_count": null,
   "id": "6a0e23b8",
   "metadata": {},
   "outputs": [],
   "source": []
  }
 ],
 "metadata": {
  "kernelspec": {
   "display_name": "Python 3",
   "language": "python",
   "name": "python3"
  },
  "language_info": {
   "codemirror_mode": {
    "name": "ipython",
    "version": 3
   },
   "file_extension": ".py",
   "mimetype": "text/x-python",
   "name": "python",
   "nbconvert_exporter": "python",
   "pygments_lexer": "ipython3",
   "version": "3.9.1"
  }
 },
 "nbformat": 4,
 "nbformat_minor": 5
}
