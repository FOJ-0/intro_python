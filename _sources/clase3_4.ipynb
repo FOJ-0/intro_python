{
 "cells": [
  {
   "cell_type": "markdown",
   "id": "5cf5f888",
   "metadata": {},
   "source": [
    "# Clase 3-4: lo básico\n",
    "- Librerías\n",
    "- Funciones (intro)\n",
    "- Variables\n",
    "- Types\n",
    "- Listas \n",
    "- Arrays\n",
    "- Loops"
   ]
  },
  {
   "cell_type": "markdown",
   "id": "3dea429e",
   "metadata": {},
   "source": [
    "Conceptos básicos clases anteriores: \n",
    "- Qué es python\n",
    "- Anaconda\n",
    "- Jupyter lab\n",
    "- Archivo notebook -> crear un nuevo notebook\n",
    "- Terminal\n",
    "- Ruta donde están nuestros archivos\n",
    "- Cómo instalar una librería usando conda o pip"
   ]
  },
  {
   "cell_type": "markdown",
   "id": "f923896c",
   "metadata": {},
   "source": [
    "## 1. Librerías\n",
    "Antes de definir una librería necesitamos definir un `módulo`. Corresponde a un archivo con un código de Python. \n",
    "\n",
    "Entonces, una `librería` va a ser una *colección de módulos*. Un `paquete` va a ser una librería que podemos instalar mediante un *package manager*.  \n",
    "\n",
    "¿Para qué utilizamos una librería?\n",
    "\n",
    "Cada librería va a contener una colección de módulos, por ejemplo, funciones que nos van a permitir realizar operaciones matemáticas, graficar, importar datos, etc. \n",
    "\n",
    "En esta clase vamos a utilizar la librería `numpy` (la instalamos la clase 2). Esta librería es fundamental para la computación científica, entregando un gran número de operaciones matemáticas. \n",
    "\n",
    "Si no la tiene instalada aún, se puede hacer mediante el código **pip install numpy**. La documentación de numpy la encuentra en https://numpy.org/doc/stable/\n",
    "\n",
    "Algunos ejemplos de qué podemos hacer con esta librería: "
   ]
  },
  {
   "cell_type": "code",
   "execution_count": 1,
   "id": "eef8626c",
   "metadata": {},
   "outputs": [],
   "source": [
    "#1. Importar librería\n",
    "import numpy as np\n",
    "#2. usar librería para crear un vector\n",
    "x = np.array([1,2,3])\n",
    "#3. Realizar suma de valores dentro de un vector\n",
    "np.sum(x)\n",
    "#4. Valor absoluto\n",
    "np.abs(x)\n",
    "#5. Raíz cuadrada\n",
    "np.sqrt(x)\n",
    "#6. Transponer\n",
    "np.transpose(x);"
   ]
  },
  {
   "cell_type": "markdown",
   "id": "e9285eb6",
   "metadata": {},
   "source": [
    "## 2. Funciones (intro)\n",
    "Una función va a ser un código que almacena una tarea particular y puede ser llamada cuando uno quiera mediante el nombre de la función. Se le puede entregar un input y retorna un oputput. \n",
    "\n",
    "En esta clase vamos a utilizar algunas funciones básicas como print() o type(). Las funciones se caracterizan por tener 'nombre' + '(input)' o 'nombre' + '()'. "
   ]
  },
  {
   "cell_type": "code",
   "execution_count": 2,
   "id": "ac15de08",
   "metadata": {},
   "outputs": [
    {
     "name": "stdout",
     "output_type": "stream",
     "text": [
      "hola mundo\n",
      "hola mundo\n",
      "hola mundo <class 'str'>\n"
     ]
    }
   ],
   "source": [
    "print('hola mundo')\n",
    "x = 'hola mundo'\n",
    "print(x)\n",
    "print(x, type(x))"
   ]
  },
  {
   "cell_type": "markdown",
   "id": "e0b91179",
   "metadata": {},
   "source": [
    "## 3. Variables\n",
    "Corresponden a un elemento que almacena información. Esta información puede tener diferentes `types`o características.\n",
    "En lo que sigue veremos como crear una variable y los difentes tipos. "
   ]
  },
  {
   "cell_type": "markdown",
   "id": "7cb6bed7",
   "metadata": {},
   "source": [
    "## 4. Types\n",
    "\n",
    "Los lenguajes de programación tienen `tipos` de datos. Cada uno tiene diferentes propiedades y sirve para diferentes acciones. \n",
    "Python tiene los siguientes tipos de datos: \n",
    "- Texto: `str`\n",
    "- Número: `int`, `float`, `comlex`\n",
    "- Secuencial: `list`, `tuple`, `range`\n",
    "- Mapping: `dict`\n",
    "- Set: `set, frozenset`\n",
    "- Boolean: `bool`\n",
    "- Binario: `bytes`, `bytearray`, `memoryview`  \n",
    "\n",
    "### Ejemplos"
   ]
  },
  {
   "cell_type": "code",
   "execution_count": 5,
   "id": "77534f3e",
   "metadata": {},
   "outputs": [
    {
     "name": "stdout",
     "output_type": "stream",
     "text": [
      "Hola mundo <class 'str'>\n"
     ]
    }
   ],
   "source": [
    "x = \"Hola mundo\"\n",
    "print(x, type(x))"
   ]
  },
  {
   "cell_type": "code",
   "execution_count": 6,
   "id": "b173e810",
   "metadata": {},
   "outputs": [
    {
     "name": "stdout",
     "output_type": "stream",
     "text": [
      "20 <class 'int'>\n"
     ]
    }
   ],
   "source": [
    "x = 20\n",
    "print(x, type(x))"
   ]
  },
  {
   "cell_type": "code",
   "execution_count": 7,
   "id": "9afc98cb",
   "metadata": {},
   "outputs": [
    {
     "name": "stdout",
     "output_type": "stream",
     "text": [
      "20.5 <class 'float'>\n"
     ]
    }
   ],
   "source": [
    "x = 20.5\n",
    "print(x, type(x))"
   ]
  },
  {
   "cell_type": "code",
   "execution_count": 11,
   "id": "e372609e",
   "metadata": {},
   "outputs": [
    {
     "name": "stdout",
     "output_type": "stream",
     "text": [
      "1j <class 'complex'>\n"
     ]
    }
   ],
   "source": [
    "x = 1j\n",
    "print(x, type(x))"
   ]
  },
  {
   "cell_type": "code",
   "execution_count": 13,
   "id": "725bd054",
   "metadata": {},
   "outputs": [
    {
     "name": "stdout",
     "output_type": "stream",
     "text": [
      "['gatos', 'perros', 'canarios'] <class 'list'>\n"
     ]
    }
   ],
   "source": [
    "x = [\"gatos\", \"perros\", \"canarios\"]\n",
    "print(x, type(x))"
   ]
  },
  {
   "cell_type": "code",
   "execution_count": 15,
   "id": "2e90a123",
   "metadata": {},
   "outputs": [
    {
     "name": "stdout",
     "output_type": "stream",
     "text": [
      "('gatos', 'perros', 'canarios') <class 'tuple'>\n"
     ]
    }
   ],
   "source": [
    "x = (\"gatos\", \"perros\", \"canarios\")\n",
    "print(x, type(x))"
   ]
  },
  {
   "cell_type": "code",
   "execution_count": 17,
   "id": "46815fc6",
   "metadata": {},
   "outputs": [
    {
     "name": "stdout",
     "output_type": "stream",
     "text": [
      "range(0, 5) <class 'range'>\n"
     ]
    }
   ],
   "source": [
    "x = range(5)\n",
    "print(x, type(x))"
   ]
  },
  {
   "cell_type": "code",
   "execution_count": 19,
   "id": "3b8c1b1c",
   "metadata": {},
   "outputs": [
    {
     "name": "stdout",
     "output_type": "stream",
     "text": [
      "{'gatos': 2, 'perros': 3} <class 'dict'>\n"
     ]
    }
   ],
   "source": [
    "x = {\"gatos\":2, \"perros\":3}\n",
    "print(x, type(x))"
   ]
  },
  {
   "cell_type": "code",
   "execution_count": 23,
   "id": "81c2855a",
   "metadata": {},
   "outputs": [
    {
     "name": "stdout",
     "output_type": "stream",
     "text": [
      "True <class 'bool'>\n"
     ]
    }
   ],
   "source": [
    "x = True\n",
    "print(x, type(x))"
   ]
  },
  {
   "cell_type": "markdown",
   "id": "124a0b78",
   "metadata": {},
   "source": [
    "### Ejercicios:\n",
    "1. Strings (texto)\n",
    "2. Int - Float\n",
    "3. Boolean"
   ]
  },
  {
   "cell_type": "markdown",
   "id": "bf3d1344",
   "metadata": {},
   "source": [
    "¿Cómo creamos una variable de texto? "
   ]
  },
  {
   "cell_type": "code",
   "execution_count": 36,
   "id": "2b8a216e",
   "metadata": {},
   "outputs": [
    {
     "ename": "NameError",
     "evalue": "name 'hola' is not defined",
     "output_type": "error",
     "traceback": [
      "\u001b[0;31m---------------------------------------------------------------------------\u001b[0m",
      "\u001b[0;31mNameError\u001b[0m                                 Traceback (most recent call last)",
      "\u001b[0;32m<ipython-input-36-3ce72fd3b204>\u001b[0m in \u001b[0;36m<module>\u001b[0;34m\u001b[0m\n\u001b[0;32m----> 1\u001b[0;31m \u001b[0mx\u001b[0m \u001b[0;34m=\u001b[0m \u001b[0mhola\u001b[0m\u001b[0;34m\u001b[0m\u001b[0;34m\u001b[0m\u001b[0m\n\u001b[0m",
      "\u001b[0;31mNameError\u001b[0m: name 'hola' is not defined"
     ]
    }
   ],
   "source": [
    "#Para crear un string debe ser entre comillas\n",
    "x = hola"
   ]
  },
  {
   "cell_type": "code",
   "execution_count": 35,
   "id": "39451ccb",
   "metadata": {},
   "outputs": [
    {
     "name": "stdout",
     "output_type": "stream",
     "text": [
      "holamundo\n"
     ]
    }
   ],
   "source": [
    "#Se pueden agregar\n",
    "x = 'hola'\n",
    "y = \"mundo\"\n",
    "z = x + y\n",
    "print(z)"
   ]
  },
  {
   "cell_type": "code",
   "execution_count": 38,
   "id": "bca453bc",
   "metadata": {},
   "outputs": [
    {
     "name": "stdout",
     "output_type": "stream",
     "text": [
      "hola mundo\n",
      "un número puede ser string: 10 o 10\n"
     ]
    }
   ],
   "source": [
    "#Se pueden crear de diferentes maneras\n",
    "x = \"hola\"\n",
    "y = \"mundo\"\n",
    "z = x + \" \" + y + \"\\n\" + \"un número puede ser string: \" + \"10 o \" + str(10)\n",
    "print(z)"
   ]
  },
  {
   "cell_type": "code",
   "execution_count": 40,
   "id": "77427975",
   "metadata": {},
   "outputs": [
    {
     "name": "stdout",
     "output_type": "stream",
     "text": [
      "1010\n"
     ]
    }
   ],
   "source": [
    "#Un número puede ser string -> no se pueden hacer operaciones matemáticas\n",
    "x = \"10\"\n",
    "y = \"10\"\n",
    "z = x+y\n",
    "print(z)"
   ]
  },
  {
   "cell_type": "markdown",
   "id": "b40e2c99",
   "metadata": {},
   "source": [
    "Una variable del tipo numérica nos permite realizar operaciones matemáticas"
   ]
  },
  {
   "cell_type": "code",
   "execution_count": 45,
   "id": "a5b18efc",
   "metadata": {},
   "outputs": [
    {
     "name": "stdout",
     "output_type": "stream",
     "text": [
      "30.5\n"
     ]
    }
   ],
   "source": [
    "x = 10 \n",
    "y = 20.5\n",
    "z = x + y\n",
    "print(z)"
   ]
  },
  {
   "cell_type": "code",
   "execution_count": 46,
   "id": "05ae0a55",
   "metadata": {},
   "outputs": [
    {
     "name": "stdout",
     "output_type": "stream",
     "text": [
      "400\n"
     ]
    }
   ],
   "source": [
    "x = (2 * 5 + 10)**2\n",
    "print(x)"
   ]
  },
  {
   "cell_type": "markdown",
   "id": "383170f3",
   "metadata": {},
   "source": [
    "¿Se pueden juntar variables de diferentes tipos? "
   ]
  },
  {
   "cell_type": "code",
   "execution_count": 47,
   "id": "00145aca",
   "metadata": {},
   "outputs": [
    {
     "ename": "TypeError",
     "evalue": "can only concatenate str (not \"int\") to str",
     "output_type": "error",
     "traceback": [
      "\u001b[0;31m---------------------------------------------------------------------------\u001b[0m",
      "\u001b[0;31mTypeError\u001b[0m                                 Traceback (most recent call last)",
      "\u001b[0;32m<ipython-input-47-013104e6ffaf>\u001b[0m in \u001b[0;36m<module>\u001b[0;34m\u001b[0m\n\u001b[1;32m      1\u001b[0m \u001b[0mx\u001b[0m \u001b[0;34m=\u001b[0m \u001b[0;34m'10'\u001b[0m\u001b[0;34m\u001b[0m\u001b[0;34m\u001b[0m\u001b[0m\n\u001b[1;32m      2\u001b[0m \u001b[0my\u001b[0m \u001b[0;34m=\u001b[0m \u001b[0;36m10\u001b[0m\u001b[0;34m\u001b[0m\u001b[0;34m\u001b[0m\u001b[0m\n\u001b[0;32m----> 3\u001b[0;31m \u001b[0mz\u001b[0m \u001b[0;34m=\u001b[0m \u001b[0mx\u001b[0m \u001b[0;34m+\u001b[0m \u001b[0my\u001b[0m\u001b[0;34m\u001b[0m\u001b[0;34m\u001b[0m\u001b[0m\n\u001b[0m",
      "\u001b[0;31mTypeError\u001b[0m: can only concatenate str (not \"int\") to str"
     ]
    }
   ],
   "source": [
    "x = '10'\n",
    "y = 10 \n",
    "z = x + y"
   ]
  },
  {
   "cell_type": "code",
   "execution_count": 52,
   "id": "fb9799fd",
   "metadata": {},
   "outputs": [
    {
     "name": "stdout",
     "output_type": "stream",
     "text": [
      "20\n"
     ]
    }
   ],
   "source": [
    "x = '10'\n",
    "x = int(x)\n",
    "y = 10 \n",
    "z = x + y\n",
    "print(z)"
   ]
  },
  {
   "cell_type": "markdown",
   "id": "aa982d27",
   "metadata": {},
   "source": [
    "¿Cómo evalúo si se cumple una condición? "
   ]
  },
  {
   "cell_type": "code",
   "execution_count": 54,
   "id": "6a0c2267",
   "metadata": {},
   "outputs": [
    {
     "data": {
      "text/plain": [
       "False"
      ]
     },
     "execution_count": 54,
     "metadata": {},
     "output_type": "execute_result"
    }
   ],
   "source": [
    "z == 10"
   ]
  },
  {
   "cell_type": "code",
   "execution_count": 63,
   "id": "c81a8ed5",
   "metadata": {},
   "outputs": [
    {
     "name": "stdout",
     "output_type": "stream",
     "text": [
      "1\n",
      "2\n",
      "0\n"
     ]
    }
   ],
   "source": [
    "x = True\n",
    "y = False\n",
    "print(x + y)\n",
    "print(x + x)\n",
    "print(y + y)"
   ]
  },
  {
   "cell_type": "markdown",
   "id": "eecf5882",
   "metadata": {},
   "source": [
    "¿Se puede guardar una condición como variable? "
   ]
  },
  {
   "cell_type": "code",
   "execution_count": 14,
   "id": "a5b0f319",
   "metadata": {},
   "outputs": [
    {
     "name": "stdout",
     "output_type": "stream",
     "text": [
      "variable=  True\n"
     ]
    }
   ],
   "source": [
    "x = 10\n",
    "variable = x != 11\n",
    "print(\"variable= \",variable)"
   ]
  },
  {
   "cell_type": "code",
   "execution_count": 25,
   "id": "c9db2b50",
   "metadata": {},
   "outputs": [
    {
     "name": "stdout",
     "output_type": "stream",
     "text": [
      "True\n"
     ]
    }
   ],
   "source": [
    "x = 10\n",
    "y = x != 11\n",
    "print(y)"
   ]
  },
  {
   "cell_type": "markdown",
   "id": "578f01de",
   "metadata": {},
   "source": [
    "Para evaluar un \"o\" se utiliza \"or\", mientras que para un \"y\" se usa \"and\""
   ]
  },
  {
   "cell_type": "code",
   "execution_count": 29,
   "id": "f684a5a3",
   "metadata": {},
   "outputs": [
    {
     "name": "stdout",
     "output_type": "stream",
     "text": [
      "True\n",
      "False\n",
      "False\n",
      "True\n"
     ]
    }
   ],
   "source": [
    "print(x == 10 or y == False)\n",
    "print(x == 10 and y == False)\n",
    "print(x > 10 and y == True)\n",
    "print(x <= 10 and y == True)"
   ]
  },
  {
   "cell_type": "markdown",
   "id": "167900b0",
   "metadata": {},
   "source": [
    "## 5. Listas\n",
    "Una lista va a ser un contenedor de información. Permite diferentes `types`.\n",
    "Para crear una lista se pueden usar dos métodos: \n",
    "- Usando \"[]\"\n",
    "- o usando list()"
   ]
  },
  {
   "cell_type": "code",
   "execution_count": 30,
   "id": "ee68d039",
   "metadata": {},
   "outputs": [
    {
     "name": "stdout",
     "output_type": "stream",
     "text": [
      "['a', 1, 1.1, True]\n"
     ]
    }
   ],
   "source": [
    "x = ['a', 1, 1.1, True]\n",
    "print(x)"
   ]
  },
  {
   "cell_type": "markdown",
   "id": "a57d3a0a",
   "metadata": {},
   "source": [
    "Otra forma de crear listas:"
   ]
  },
  {
   "cell_type": "code",
   "execution_count": 33,
   "id": "d653cf66",
   "metadata": {},
   "outputs": [
    {
     "name": "stdout",
     "output_type": "stream",
     "text": [
      "[[], []]\n"
     ]
    }
   ],
   "source": [
    "x = list()\n",
    "y = [x, x ] \n",
    "print(y)"
   ]
  },
  {
   "cell_type": "markdown",
   "id": "fc59a12b",
   "metadata": {},
   "source": [
    "¿Se puede acceder a los elementos de una lista? "
   ]
  },
  {
   "cell_type": "code",
   "execution_count": 34,
   "id": "96589bdd",
   "metadata": {},
   "outputs": [
    {
     "name": "stdout",
     "output_type": "stream",
     "text": [
      "a\n",
      "1\n",
      "1.1\n"
     ]
    }
   ],
   "source": [
    "x = ['a', 1, 1.1, True]\n",
    "print(x[0])\n",
    "print(x[1])\n",
    "print(x[2])"
   ]
  },
  {
   "cell_type": "markdown",
   "id": "b6d21de2",
   "metadata": {},
   "source": [
    "```{admonition} Posición en una lista\n",
    ":class: tip\n",
    "La posición parte del índice 0. \n",
    "\n",
    "Si la lista es [a, b, c], la posición de cada elemento será [0, 1, 2].  \n",
    "```"
   ]
  },
  {
   "cell_type": "markdown",
   "id": "53e89bfe",
   "metadata": {},
   "source": [
    "¿Se pueden hacer operaciones matemáticas con listas? "
   ]
  },
  {
   "cell_type": "code",
   "execution_count": 35,
   "id": "5d5be70b",
   "metadata": {},
   "outputs": [
    {
     "name": "stdout",
     "output_type": "stream",
     "text": [
      "['a', 1, 1.1, True, 'a', 1, 1.1, True]\n"
     ]
    }
   ],
   "source": [
    "print(x + x)"
   ]
  },
  {
   "cell_type": "markdown",
   "id": "82fd78e9",
   "metadata": {},
   "source": [
    "y si son sólo elementos numéricos? "
   ]
  },
  {
   "cell_type": "code",
   "execution_count": 36,
   "id": "37717bc1",
   "metadata": {},
   "outputs": [
    {
     "name": "stdout",
     "output_type": "stream",
     "text": [
      "[1, 2, 2, 2]\n"
     ]
    },
    {
     "ename": "TypeError",
     "evalue": "can't multiply sequence by non-int of type 'list'",
     "output_type": "error",
     "traceback": [
      "\u001b[0;31m---------------------------------------------------------------------------\u001b[0m",
      "\u001b[0;31mTypeError\u001b[0m                                 Traceback (most recent call last)",
      "\u001b[0;32m<ipython-input-36-d32218a19255>\u001b[0m in \u001b[0;36m<module>\u001b[0;34m\u001b[0m\n\u001b[1;32m      2\u001b[0m \u001b[0my\u001b[0m \u001b[0;34m=\u001b[0m \u001b[0;34m[\u001b[0m\u001b[0;36m2\u001b[0m\u001b[0;34m,\u001b[0m \u001b[0;36m2\u001b[0m\u001b[0;34m]\u001b[0m\u001b[0;34m\u001b[0m\u001b[0;34m\u001b[0m\u001b[0m\n\u001b[1;32m      3\u001b[0m \u001b[0mprint\u001b[0m\u001b[0;34m(\u001b[0m\u001b[0mx\u001b[0m \u001b[0;34m+\u001b[0m \u001b[0my\u001b[0m\u001b[0;34m)\u001b[0m\u001b[0;34m\u001b[0m\u001b[0;34m\u001b[0m\u001b[0m\n\u001b[0;32m----> 4\u001b[0;31m \u001b[0mprint\u001b[0m\u001b[0;34m(\u001b[0m\u001b[0mx\u001b[0m\u001b[0;34m*\u001b[0m\u001b[0mx\u001b[0m\u001b[0;34m)\u001b[0m\u001b[0;34m\u001b[0m\u001b[0;34m\u001b[0m\u001b[0m\n\u001b[0m",
      "\u001b[0;31mTypeError\u001b[0m: can't multiply sequence by non-int of type 'list'"
     ]
    }
   ],
   "source": [
    "x = [1, 2]\n",
    "y = [2, 2]\n",
    "print(x + y)\n",
    "print(x*x)"
   ]
  },
  {
   "cell_type": "markdown",
   "id": "3047c898",
   "metadata": {},
   "source": [
    "Si podemos realizar operaciones matemáticas sobre los elementos de una lista"
   ]
  },
  {
   "cell_type": "code",
   "execution_count": 37,
   "id": "d5af3b70",
   "metadata": {},
   "outputs": [
    {
     "name": "stdout",
     "output_type": "stream",
     "text": [
      "3\n"
     ]
    }
   ],
   "source": [
    "print(x[0] + y[1])"
   ]
  },
  {
   "cell_type": "markdown",
   "id": "f75f87cd",
   "metadata": {},
   "source": [
    "¿Cómo agregar elementos a una lista? "
   ]
  },
  {
   "cell_type": "code",
   "execution_count": 40,
   "id": "368673a2",
   "metadata": {},
   "outputs": [
    {
     "name": "stdout",
     "output_type": "stream",
     "text": [
      "[10, 'hola']\n"
     ]
    }
   ],
   "source": [
    "x = list()\n",
    "x.append(10)\n",
    "x.append('hola')\n",
    "print(x)"
   ]
  },
  {
   "cell_type": "markdown",
   "id": "3c8f7eb8",
   "metadata": {},
   "source": [
    "Para acceder al total de elementos de una lista usamos la función len()"
   ]
  },
  {
   "cell_type": "code",
   "execution_count": 39,
   "id": "9ba9811c",
   "metadata": {},
   "outputs": [
    {
     "data": {
      "text/plain": [
       "2"
      ]
     },
     "execution_count": 39,
     "metadata": {},
     "output_type": "execute_result"
    }
   ],
   "source": [
    "len(x)"
   ]
  },
  {
   "cell_type": "markdown",
   "id": "32e5eb7a",
   "metadata": {},
   "source": [
    "Para borrar elementos podemos usar pop() o remove()"
   ]
  },
  {
   "cell_type": "code",
   "execution_count": 46,
   "id": "fb3a68ea",
   "metadata": {},
   "outputs": [
    {
     "name": "stdout",
     "output_type": "stream",
     "text": [
      "['hola']\n"
     ]
    }
   ],
   "source": [
    "x = [10, 'hola']\n",
    "x.pop(0)\n",
    "print(x)"
   ]
  },
  {
   "cell_type": "code",
   "execution_count": 47,
   "id": "7ef1626e",
   "metadata": {},
   "outputs": [
    {
     "name": "stdout",
     "output_type": "stream",
     "text": [
      "['hola']\n"
     ]
    }
   ],
   "source": [
    "x = [10, 'hola']\n",
    "x.remove(10)\n",
    "print(x)"
   ]
  },
  {
   "cell_type": "markdown",
   "id": "f46f92cd",
   "metadata": {},
   "source": [
    "## 6. Arrays\n",
    "Cuando queremos hacer operaciones matemáticas con vectores o matrices vamos a utilizar `arrays`. \n",
    "\n",
    "Para esto usamos `numpy`: **import numpy as np** "
   ]
  },
  {
   "cell_type": "code",
   "execution_count": 53,
   "id": "1184c763",
   "metadata": {},
   "outputs": [
    {
     "name": "stdout",
     "output_type": "stream",
     "text": [
      "x: [1, 2, 3, 4, 5]\n",
      "x_arr: [1 2 3 4 5]\n"
     ]
    }
   ],
   "source": [
    "import numpy as np\n",
    "x = [1,2,3,4,5]\n",
    "x_arr = np.array(x)\n",
    "print(\"x:\", x)\n",
    "print(\"x_arr:\", x_arr)"
   ]
  },
  {
   "cell_type": "code",
   "execution_count": 54,
   "id": "3494d9a4",
   "metadata": {},
   "outputs": [
    {
     "name": "stdout",
     "output_type": "stream",
     "text": [
      "<class 'list'>\n",
      "<class 'numpy.ndarray'>\n"
     ]
    }
   ],
   "source": [
    "print(type(x))\n",
    "print(type(x_arr))"
   ]
  },
  {
   "cell_type": "markdown",
   "id": "01fa8740",
   "metadata": {},
   "source": [
    "La ventaja de usar arrays es que nos permite hacer operaciones matemáticas"
   ]
  },
  {
   "cell_type": "code",
   "execution_count": 56,
   "id": "927ce33f",
   "metadata": {},
   "outputs": [
    {
     "name": "stdout",
     "output_type": "stream",
     "text": [
      "[0 2 4]\n",
      "[0 2 4]\n",
      "[0 1 4]\n"
     ]
    }
   ],
   "source": [
    "x = np.array([0, 1, 2])\n",
    "print(x + x)\n",
    "print(x * 2)\n",
    "print(x*x)"
   ]
  },
  {
   "cell_type": "code",
   "execution_count": 5,
   "id": "e9f7520e",
   "metadata": {},
   "outputs": [
    {
     "ename": "ValueError",
     "evalue": "invalid literal for int() with base 10: '20.5'",
     "output_type": "error",
     "traceback": [
      "\u001b[0;31m---------------------------------------------------------------------------\u001b[0m",
      "\u001b[0;31mValueError\u001b[0m                                Traceback (most recent call last)",
      "\u001b[0;32m<ipython-input-5-23a447ee9402>\u001b[0m in \u001b[0;36m<module>\u001b[0;34m\u001b[0m\n\u001b[0;32m----> 1\u001b[0;31m \u001b[0mfloat\u001b[0m\u001b[0;34m(\u001b[0m\u001b[0mstr\u001b[0m\u001b[0;34m(\u001b[0m\u001b[0;36m10\u001b[0m\u001b[0;34m)\u001b[0m\u001b[0;34m)\u001b[0m \u001b[0;34m+\u001b[0m \u001b[0mint\u001b[0m\u001b[0;34m(\u001b[0m\u001b[0mstr\u001b[0m\u001b[0;34m(\u001b[0m\u001b[0;36m20.5\u001b[0m\u001b[0;34m)\u001b[0m\u001b[0;34m)\u001b[0m\u001b[0;34m\u001b[0m\u001b[0;34m\u001b[0m\u001b[0m\n\u001b[0m",
      "\u001b[0;31mValueError\u001b[0m: invalid literal for int() with base 10: '20.5'"
     ]
    }
   ],
   "source": []
  },
  {
   "cell_type": "code",
   "execution_count": 60,
   "id": "319dd12d",
   "metadata": {},
   "outputs": [
    {
     "name": "stdout",
     "output_type": "stream",
     "text": [
      "[[1 2]\n",
      " [3 4]]\n",
      "len: 2  x  2\n"
     ]
    }
   ],
   "source": [
    "x = [[1, 2], [3, 4]]\n",
    "x = np.array(x)\n",
    "print(x)\n",
    "print(\"len:\", len(x), \" x \", len(x[0]))"
   ]
  },
  {
   "cell_type": "markdown",
   "id": "ef357e09",
   "metadata": {},
   "source": [
    "¿Si tenemos un vector y una matriz cómo realizamos una multiplicación?\n",
    "\n",
    "\n",
    "$$\\left[ \\begin{array}{cc}\n",
    " 2 & 2  \\\\ \n",
    " 2 & 2 \\end{array}\\right] \n",
    "\\cdot \n",
    "\\left[ \n",
    "\\begin{array}{cc}\n",
    "2 & 2 \\\\\n",
    "2 & 2 \\\\\n",
    "\\end{array}\n",
    "\\right] = \n",
    "\\left[ \\begin{array}{cc}\n",
    "8 & 8 \\\\\n",
    "8 & 8 \\\\\n",
    "\\end{array}\n",
    "\\right]$$"
   ]
  },
  {
   "cell_type": "code",
   "execution_count": 79,
   "id": "169b9567",
   "metadata": {},
   "outputs": [
    {
     "name": "stdout",
     "output_type": "stream",
     "text": [
      "Caso 1:\n",
      " [[4 4]\n",
      " [4 4]]\n",
      "Caso 2:\n",
      " [[8 8]\n",
      " [8 8]]\n"
     ]
    }
   ],
   "source": [
    "x = np.array([[2, 2], [2, 2]])\n",
    "#1. Multiplicación de cada elemento de la matriz\n",
    "print(\"Caso 1:\\n\", x * x)\n",
    "#2. Multiplicación de matrices\n",
    "print(\"Caso 2:\\n\", x @ x)"
   ]
  },
  {
   "cell_type": "markdown",
   "id": "f90623ae",
   "metadata": {},
   "source": [
    "## 7. Loops\n",
    "Vamos a utilizar `loops` para crear iteraciones sobre una secuencia, un rango determinado, por ejemplo una lista, de 0 a 10, etc. \n",
    "\n",
    "Para crear una iteración vamos a usar `for`"
   ]
  },
  {
   "cell_type": "code",
   "execution_count": 67,
   "id": "bf3dc2df",
   "metadata": {},
   "outputs": [
    {
     "name": "stdout",
     "output_type": "stream",
     "text": [
      "0\n",
      "1\n",
      "2\n",
      "3\n",
      "4\n",
      "5\n",
      "6\n",
      "7\n",
      "8\n",
      "9\n"
     ]
    }
   ],
   "source": [
    "for i in range(0, 10): \n",
    "    print(i)"
   ]
  },
  {
   "cell_type": "code",
   "execution_count": 71,
   "id": "ec6699a6",
   "metadata": {},
   "outputs": [
    {
     "name": "stdout",
     "output_type": "stream",
     "text": [
      "0\n",
      "1\n",
      "2\n",
      "3\n"
     ]
    }
   ],
   "source": [
    "x = [0, 1, 'a', True]\n",
    "for i in range(0, len(x)):\n",
    "    print(i)"
   ]
  },
  {
   "cell_type": "code",
   "execution_count": 73,
   "id": "de7eae10",
   "metadata": {},
   "outputs": [
    {
     "name": "stdout",
     "output_type": "stream",
     "text": [
      "0\n",
      "1\n",
      "2\n",
      "3\n"
     ]
    }
   ],
   "source": [
    "x = np.array([0, 1, 2, 3])\n",
    "for i in range(0, len(x)):\n",
    "    print(i)"
   ]
  },
  {
   "cell_type": "code",
   "execution_count": 74,
   "id": "68b9c0e3",
   "metadata": {},
   "outputs": [
    {
     "name": "stdout",
     "output_type": "stream",
     "text": [
      "0\n",
      "1\n",
      "a\n",
      "True\n"
     ]
    }
   ],
   "source": [
    "x = [0, 1, 'a', True]\n",
    "for i in x:\n",
    "    print(i)"
   ]
  },
  {
   "cell_type": "code",
   "execution_count": 75,
   "id": "52017918",
   "metadata": {},
   "outputs": [
    {
     "name": "stdout",
     "output_type": "stream",
     "text": [
      "5\n",
      "7\n",
      "9\n"
     ]
    }
   ],
   "source": [
    "x = [1, 2, 3]\n",
    "y = [4, 5 ,6]\n",
    "for i in range(0, len(x)):\n",
    "    print(x[i] + y[i])   "
   ]
  },
  {
   "cell_type": "code",
   "execution_count": 76,
   "id": "a1e9ca00",
   "metadata": {},
   "outputs": [
    {
     "name": "stdout",
     "output_type": "stream",
     "text": [
      "(1, 4)\n",
      "(1, 5)\n",
      "(1, 6)\n",
      "(2, 4)\n",
      "(2, 5)\n",
      "(2, 6)\n",
      "(3, 4)\n",
      "(3, 5)\n",
      "(3, 6)\n"
     ]
    }
   ],
   "source": [
    "x = [1, 2, 3]\n",
    "y = [4, 5 ,6]\n",
    "for i in x:\n",
    "    for j in y:\n",
    "        print((i,j))"
   ]
  },
  {
   "cell_type": "markdown",
   "id": "941ec8bb",
   "metadata": {},
   "source": [
    "Sintaxis va a ser la estructura del código. "
   ]
  },
  {
   "cell_type": "code",
   "execution_count": 16,
   "id": "bf49256c",
   "metadata": {},
   "outputs": [
    {
     "name": "stdout",
     "output_type": "stream",
     "text": [
      "0\n",
      "1\n",
      "2\n",
      "3\n",
      "4\n",
      "5\n",
      "6\n",
      "7\n",
      "8\n",
      "9\n"
     ]
    }
   ],
   "source": [
    "#nombre de la variable, signo = , valor\n",
    "x = 10 \n",
    "#lista: nombre de la lista, signo = , [ valor ]\n",
    "x = [10, 20]\n",
    "#Iteración: for, iterador 'i', entre 'in', rango o lista (range(0, 10), [1,2,3]), ':'\n",
    "for i in range(0, 10): \n",
    "    print(i)\n",
    "    \n",
    "#Una vez me salgo del espacio se acaba la iteración\n",
    "x = 10"
   ]
  },
  {
   "cell_type": "code",
   "execution_count": 26,
   "id": "b36e6ed1",
   "metadata": {},
   "outputs": [
    {
     "name": "stdout",
     "output_type": "stream",
     "text": [
      "[]\n",
      "[10]\n",
      "[10, 'b']\n",
      "[10, 'b', 'b']\n"
     ]
    }
   ],
   "source": [
    "x = 10\n",
    "z = 'b'\n",
    "a = list()\n",
    "print(a)\n",
    "a.append(x)\n",
    "print(a)\n",
    "a = [x, z]\n",
    "print(a)\n",
    "a.append('b')\n",
    "print(a)"
   ]
  },
  {
   "cell_type": "markdown",
   "id": "5fc492aa",
   "metadata": {},
   "source": [
    "## Actividad en clases\n",
    "1. ¿Cuál es la diferencia entre una librería y una función? de un ejemplo de cada una. \n",
    "2. ¿Cuál es la diferencia entre un type y una variable? muestre con un ejemplo de código.  \n",
    "3. ¿Cuál es la diferencia entre una lista y un array? \n",
    "4. ¿Para qué nos sirve un loop?\n",
    "5. Crear 5 variables que se llamen \"var_\" + type: str, float, int, bool, list. Estas variables deben ser del type respectivo. \n",
    "6. ¿De qué type son las siguientes operaciones?\n",
    "  - 10*10.5\n",
    "  - True*False\n",
    "  - True*10\n",
    "  - str(10) + str(20.5)\n",
    "  - int(str(10)) + float(str(20.5))\n",
    "  - int(10.5) \n",
    "  - [1, 10., \"a\"]\n",
    "7. Crear un array de 2x2 que tenga los elementos (1,2,3,4) y mostrar cómo se puede acceder al elemento 4. \n",
    "8. evalúe si [1,2,3] es igual a np.array([1,2,3]). Entregue una intuición. \n",
    "9. Utilice `for` y `print()` para mostrar mediante un loop números de 0 al 10 y luego otro loop para mostrar los elementos del 5 al 10. \n",
    "10. El siguiente código tiene un error. El objetivo es sumar los iteradores en un loop. Explique el problema que tiene el código y por qué no llega al resultado (45). "
   ]
  },
  {
   "cell_type": "code",
   "execution_count": 6,
   "id": "73ebb080",
   "metadata": {},
   "outputs": [],
   "source": [
    "for i in range(10): \n",
    "  x = 0\n",
    "  x = x+i"
   ]
  },
  {
   "cell_type": "code",
   "execution_count": 7,
   "id": "de5820e1",
   "metadata": {},
   "outputs": [
    {
     "data": {
      "text/plain": [
       "9"
      ]
     },
     "execution_count": 7,
     "metadata": {},
     "output_type": "execute_result"
    }
   ],
   "source": [
    "x"
   ]
  }
 ],
 "metadata": {
  "kernelspec": {
   "display_name": "Python 3",
   "language": "python",
   "name": "python3"
  },
  "language_info": {
   "codemirror_mode": {
    "name": "ipython",
    "version": 3
   },
   "file_extension": ".py",
   "mimetype": "text/x-python",
   "name": "python",
   "nbconvert_exporter": "python",
   "pygments_lexer": "ipython3",
   "version": "3.9.1"
  }
 },
 "nbformat": 4,
 "nbformat_minor": 5
}
