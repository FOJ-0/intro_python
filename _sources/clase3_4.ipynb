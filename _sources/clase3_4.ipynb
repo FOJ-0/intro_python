{
 "cells": [
  {
   "cell_type": "markdown",
   "id": "8dd588f6",
   "metadata": {},
   "source": [
    "# Clase 3-4: lo básico\n",
    "- Librerías\n",
    "- Funciones (intro)\n",
    "- Variables\n",
    "- Types\n",
    "- Listas \n",
    "- Arrays\n",
    "- Loops"
   ]
  },
  {
   "cell_type": "markdown",
   "id": "13305579",
   "metadata": {},
   "source": [
    "Conceptos básicos clases anteriores: \n",
    "- Qué es python\n",
    "- Anaconda\n",
    "- Jupyter lab\n",
    "- Archivo notebook -> crear un nuevo notebook\n",
    "- Terminal\n",
    "- Ruta donde están nuestros archivos\n",
    "- Cómo instalar una librería usando conda o pip"
   ]
  },
  {
   "cell_type": "markdown",
   "id": "f346022f",
   "metadata": {},
   "source": [
    "## 1. Librerías\n",
    "Antes de definir una librería necesitamos definir un `módulo`. Corresponde a un archivo con un código de Python. \n",
    "\n",
    "Entonces, una `librería` va a ser una *colección de módulos*. Un `paquete` va a ser una librería que podemos instalar mediante un *package manager*.  \n",
    "\n",
    "¿Para qué utilizamos una librería?\n",
    "\n",
    "Cada librería va a contener una colección de módulos, por ejemplo, funciones que nos van a permitir realizar operaciones matemáticas, graficar, importar datos, etc. \n",
    "\n",
    "En esta clase vamos a utilizar la librería `numpy` (la instalamos la clase 2). Esta librería es fundamental para la computación científica, entregando un gran número de operaciones matemáticas. \n",
    "\n",
    "Si no la tiene instalada aún, se puede hacer mediante el código **pip install numpy**. La documentación de numpy la encuentra en https://numpy.org/doc/stable/\n",
    "\n",
    "Algunos ejemplos de qué podemos hacer con esta librería: "
   ]
  },
  {
   "cell_type": "code",
   "execution_count": 1,
   "id": "42417898",
   "metadata": {},
   "outputs": [],
   "source": [
    "#1. Importar librería\n",
    "import numpy as np\n",
    "#2. usar librería para crear un vector\n",
    "x = np.array([1,2,3])\n",
    "#3. Realizar suma de valores dentro de un vector\n",
    "np.sum(x)\n",
    "#4. Valor absoluto\n",
    "np.abs(x)\n",
    "#5. Raíz cuadrada\n",
    "np.sqrt(x)\n",
    "#6. Transponer\n",
    "np.transpose(x);"
   ]
  },
  {
   "cell_type": "markdown",
   "id": "dee4343a",
   "metadata": {},
   "source": [
    "## 2. Funciones (intro)\n",
    "Una función va a ser un código que almacena una tarea particular y puede ser llamada cuando uno quiera mediante el nombre de la función. Se le puede entregar un input y retorna un oputput. \n",
    "\n",
    "En esta clase vamos a utilizar algunas funciones básicas como print() o type(). Las funciones se caracterizan por tener 'nombre' + '(input)' o 'nombre' + '()'. "
   ]
  },
  {
   "cell_type": "code",
   "execution_count": 2,
   "id": "b586e9cf",
   "metadata": {},
   "outputs": [
    {
     "name": "stdout",
     "output_type": "stream",
     "text": [
      "hola mundo\n",
      "hola mundo\n",
      "hola mundo <class 'str'>\n"
     ]
    }
   ],
   "source": [
    "print('hola mundo')\n",
    "x = 'hola mundo'\n",
    "print(x)\n",
    "print(x, type(x))"
   ]
  },
  {
   "cell_type": "markdown",
   "id": "567eb191",
   "metadata": {},
   "source": [
    "## 3. Variables\n",
    "Corresponden a un elemento que almacena información. Esta información puede tener diferentes `types`o características.\n",
    "En lo que sigue veremos como crear una variable y los difentes tipos. "
   ]
  },
  {
   "cell_type": "markdown",
   "id": "cd068263",
   "metadata": {},
   "source": [
    "## 4. Types\n",
    "\n",
    "Los lenguajes de programación tienen `tipos` de datos. Cada uno tiene diferentes propiedades y sirve para diferentes acciones. \n",
    "Python tiene los siguientes tipos de datos: \n",
    "- Texto: `str`\n",
    "- Número: `int`, `float`, `comlex`\n",
    "- Secuencial: `list`, `tuple`, `range`\n",
    "- Mapping: `dict`\n",
    "- Set: `set, frozenset`\n",
    "- Boolean: `bool`\n",
    "- Binario: `bytes`, `bytearray`, `memoryview`  \n",
    "\n",
    "### Ejemplos"
   ]
  },
  {
   "cell_type": "code",
   "execution_count": 5,
   "id": "2c6fc57f",
   "metadata": {},
   "outputs": [
    {
     "name": "stdout",
     "output_type": "stream",
     "text": [
      "Hola mundo <class 'str'>\n"
     ]
    }
   ],
   "source": [
    "x = \"Hola mundo\"\n",
    "print(x, type(x))"
   ]
  },
  {
   "cell_type": "code",
   "execution_count": 6,
   "id": "e9d32e69",
   "metadata": {},
   "outputs": [
    {
     "name": "stdout",
     "output_type": "stream",
     "text": [
      "20 <class 'int'>\n"
     ]
    }
   ],
   "source": [
    "x = 20\n",
    "print(x, type(x))"
   ]
  },
  {
   "cell_type": "code",
   "execution_count": 7,
   "id": "958bd1c8",
   "metadata": {},
   "outputs": [
    {
     "name": "stdout",
     "output_type": "stream",
     "text": [
      "20.5 <class 'float'>\n"
     ]
    }
   ],
   "source": [
    "x = 20.5\n",
    "print(x, type(x))"
   ]
  },
  {
   "cell_type": "code",
   "execution_count": 11,
   "id": "0790a397",
   "metadata": {},
   "outputs": [
    {
     "name": "stdout",
     "output_type": "stream",
     "text": [
      "1j <class 'complex'>\n"
     ]
    }
   ],
   "source": [
    "x = 1j\n",
    "print(x, type(x))"
   ]
  },
  {
   "cell_type": "code",
   "execution_count": 13,
   "id": "059fe509",
   "metadata": {},
   "outputs": [
    {
     "name": "stdout",
     "output_type": "stream",
     "text": [
      "['gatos', 'perros', 'canarios'] <class 'list'>\n"
     ]
    }
   ],
   "source": [
    "x = [\"gatos\", \"perros\", \"canarios\"]\n",
    "print(x, type(x))"
   ]
  },
  {
   "cell_type": "code",
   "execution_count": 15,
   "id": "5c707c91",
   "metadata": {},
   "outputs": [
    {
     "name": "stdout",
     "output_type": "stream",
     "text": [
      "('gatos', 'perros', 'canarios') <class 'tuple'>\n"
     ]
    }
   ],
   "source": [
    "x = (\"gatos\", \"perros\", \"canarios\")\n",
    "print(x, type(x))"
   ]
  },
  {
   "cell_type": "code",
   "execution_count": 17,
   "id": "f23d8126",
   "metadata": {},
   "outputs": [
    {
     "name": "stdout",
     "output_type": "stream",
     "text": [
      "range(0, 5) <class 'range'>\n"
     ]
    }
   ],
   "source": [
    "x = range(5)\n",
    "print(x, type(x))"
   ]
  },
  {
   "cell_type": "code",
   "execution_count": 19,
   "id": "5dd50019",
   "metadata": {},
   "outputs": [
    {
     "name": "stdout",
     "output_type": "stream",
     "text": [
      "{'gatos': 2, 'perros': 3} <class 'dict'>\n"
     ]
    }
   ],
   "source": [
    "x = {\"gatos\":2, \"perros\":3}\n",
    "print(x, type(x))"
   ]
  },
  {
   "cell_type": "code",
   "execution_count": 23,
   "id": "82ecbb2b",
   "metadata": {},
   "outputs": [
    {
     "name": "stdout",
     "output_type": "stream",
     "text": [
      "True <class 'bool'>\n"
     ]
    }
   ],
   "source": [
    "x = True\n",
    "print(x, type(x))"
   ]
  },
  {
   "cell_type": "markdown",
   "id": "1b5a0f89",
   "metadata": {},
   "source": [
    "### Ejercicios:\n",
    "1. Strings (texto)\n",
    "2. Int - Float\n",
    "3. Boolean"
   ]
  },
  {
   "cell_type": "markdown",
   "id": "465e51bb",
   "metadata": {},
   "source": [
    "¿Cómo creamos una variable de texto? "
   ]
  },
  {
   "cell_type": "code",
   "execution_count": 36,
   "id": "e8e01d78",
   "metadata": {},
   "outputs": [
    {
     "ename": "NameError",
     "evalue": "name 'hola' is not defined",
     "output_type": "error",
     "traceback": [
      "\u001b[0;31m---------------------------------------------------------------------------\u001b[0m",
      "\u001b[0;31mNameError\u001b[0m                                 Traceback (most recent call last)",
      "\u001b[0;32m<ipython-input-36-3ce72fd3b204>\u001b[0m in \u001b[0;36m<module>\u001b[0;34m\u001b[0m\n\u001b[0;32m----> 1\u001b[0;31m \u001b[0mx\u001b[0m \u001b[0;34m=\u001b[0m \u001b[0mhola\u001b[0m\u001b[0;34m\u001b[0m\u001b[0;34m\u001b[0m\u001b[0m\n\u001b[0m",
      "\u001b[0;31mNameError\u001b[0m: name 'hola' is not defined"
     ]
    }
   ],
   "source": [
    "#Para crear un string debe ser entre comillas\n",
    "x = hola"
   ]
  },
  {
   "cell_type": "code",
   "execution_count": 35,
   "id": "2db40321",
   "metadata": {},
   "outputs": [
    {
     "name": "stdout",
     "output_type": "stream",
     "text": [
      "holamundo\n"
     ]
    }
   ],
   "source": [
    "#Se pueden agregar\n",
    "x = 'hola'\n",
    "y = \"mundo\"\n",
    "z = x + y\n",
    "print(z)"
   ]
  },
  {
   "cell_type": "code",
   "execution_count": 38,
   "id": "aa5a551e",
   "metadata": {},
   "outputs": [
    {
     "name": "stdout",
     "output_type": "stream",
     "text": [
      "hola mundo\n",
      "un número puede ser string: 10 o 10\n"
     ]
    }
   ],
   "source": [
    "#Se pueden crear de diferentes maneras\n",
    "x = \"hola\"\n",
    "y = \"mundo\"\n",
    "z = x + \" \" + y + \"\\n\" + \"un número puede ser string: \" + \"10 o \" + str(10)\n",
    "print(z)"
   ]
  },
  {
   "cell_type": "code",
   "execution_count": 40,
   "id": "36d03b35",
   "metadata": {},
   "outputs": [
    {
     "name": "stdout",
     "output_type": "stream",
     "text": [
      "1010\n"
     ]
    }
   ],
   "source": [
    "#Un número puede ser string -> no se pueden hacer operaciones matemáticas\n",
    "x = \"10\"\n",
    "y = \"10\"\n",
    "z = x+y\n",
    "print(z)"
   ]
  },
  {
   "cell_type": "markdown",
   "id": "43e73121",
   "metadata": {},
   "source": [
    "Una variable del tipo numérica nos permite realizar operaciones matemáticas"
   ]
  },
  {
   "cell_type": "code",
   "execution_count": 45,
   "id": "d2057990",
   "metadata": {},
   "outputs": [
    {
     "name": "stdout",
     "output_type": "stream",
     "text": [
      "30.5\n"
     ]
    }
   ],
   "source": [
    "x = 10 \n",
    "y = 20.5\n",
    "z = x + y\n",
    "print(z)"
   ]
  },
  {
   "cell_type": "code",
   "execution_count": 46,
   "id": "074fdd15",
   "metadata": {},
   "outputs": [
    {
     "name": "stdout",
     "output_type": "stream",
     "text": [
      "400\n"
     ]
    }
   ],
   "source": [
    "x = (2 * 5 + 10)**2\n",
    "print(x)"
   ]
  },
  {
   "cell_type": "markdown",
   "id": "b37d0285",
   "metadata": {},
   "source": [
    "¿Se pueden juntar variables de diferentes tipos? "
   ]
  },
  {
   "cell_type": "code",
   "execution_count": 47,
   "id": "453a694f",
   "metadata": {},
   "outputs": [
    {
     "ename": "TypeError",
     "evalue": "can only concatenate str (not \"int\") to str",
     "output_type": "error",
     "traceback": [
      "\u001b[0;31m---------------------------------------------------------------------------\u001b[0m",
      "\u001b[0;31mTypeError\u001b[0m                                 Traceback (most recent call last)",
      "\u001b[0;32m<ipython-input-47-013104e6ffaf>\u001b[0m in \u001b[0;36m<module>\u001b[0;34m\u001b[0m\n\u001b[1;32m      1\u001b[0m \u001b[0mx\u001b[0m \u001b[0;34m=\u001b[0m \u001b[0;34m'10'\u001b[0m\u001b[0;34m\u001b[0m\u001b[0;34m\u001b[0m\u001b[0m\n\u001b[1;32m      2\u001b[0m \u001b[0my\u001b[0m \u001b[0;34m=\u001b[0m \u001b[0;36m10\u001b[0m\u001b[0;34m\u001b[0m\u001b[0;34m\u001b[0m\u001b[0m\n\u001b[0;32m----> 3\u001b[0;31m \u001b[0mz\u001b[0m \u001b[0;34m=\u001b[0m \u001b[0mx\u001b[0m \u001b[0;34m+\u001b[0m \u001b[0my\u001b[0m\u001b[0;34m\u001b[0m\u001b[0;34m\u001b[0m\u001b[0m\n\u001b[0m",
      "\u001b[0;31mTypeError\u001b[0m: can only concatenate str (not \"int\") to str"
     ]
    }
   ],
   "source": [
    "x = '10'\n",
    "y = 10 \n",
    "z = x + y"
   ]
  },
  {
   "cell_type": "code",
   "execution_count": 52,
   "id": "8d92db88",
   "metadata": {},
   "outputs": [
    {
     "name": "stdout",
     "output_type": "stream",
     "text": [
      "20\n"
     ]
    }
   ],
   "source": [
    "x = '10'\n",
    "x = int(x)\n",
    "y = 10 \n",
    "z = x + y\n",
    "print(z)"
   ]
  },
  {
   "cell_type": "markdown",
   "id": "de46adeb",
   "metadata": {},
   "source": [
    "¿Cómo evalúo si se cumple una condición? "
   ]
  },
  {
   "cell_type": "code",
   "execution_count": 54,
   "id": "f6921503",
   "metadata": {},
   "outputs": [
    {
     "data": {
      "text/plain": [
       "False"
      ]
     },
     "execution_count": 54,
     "metadata": {},
     "output_type": "execute_result"
    }
   ],
   "source": [
    "z == 10"
   ]
  },
  {
   "cell_type": "code",
   "execution_count": 63,
   "id": "2d306e33",
   "metadata": {},
   "outputs": [
    {
     "name": "stdout",
     "output_type": "stream",
     "text": [
      "1\n",
      "2\n",
      "0\n"
     ]
    }
   ],
   "source": [
    "x = True\n",
    "y = False\n",
    "print(x + y)\n",
    "print(x + x)\n",
    "print(y + y)"
   ]
  },
  {
   "cell_type": "markdown",
   "id": "fbc0c58b",
   "metadata": {},
   "source": [
    "¿Se puede guardar una condición como variable? "
   ]
  },
  {
   "cell_type": "code",
   "execution_count": 14,
   "id": "c877881d",
   "metadata": {},
   "outputs": [
    {
     "name": "stdout",
     "output_type": "stream",
     "text": [
      "variable=  True\n"
     ]
    }
   ],
   "source": [
    "x = 10\n",
    "variable = x != 11\n",
    "print(\"variable= \",variable)"
   ]
  },
  {
   "cell_type": "code",
   "execution_count": 25,
   "id": "2f362374",
   "metadata": {},
   "outputs": [
    {
     "name": "stdout",
     "output_type": "stream",
     "text": [
      "True\n"
     ]
    }
   ],
   "source": [
    "x = 10\n",
    "y = x != 11\n",
    "print(y)"
   ]
  },
  {
   "cell_type": "markdown",
   "id": "db3206e5",
   "metadata": {},
   "source": [
    "Para evaluar un \"o\" se utiliza \"or\", mientras que para un \"y\" se usa \"and\""
   ]
  },
  {
   "cell_type": "code",
   "execution_count": 29,
   "id": "586441a4",
   "metadata": {},
   "outputs": [
    {
     "name": "stdout",
     "output_type": "stream",
     "text": [
      "True\n",
      "False\n",
      "False\n",
      "True\n"
     ]
    }
   ],
   "source": [
    "print(x == 10 or y == False)\n",
    "print(x == 10 and y == False)\n",
    "print(x > 10 and y == True)\n",
    "print(x <= 10 and y == True)"
   ]
  },
  {
   "cell_type": "markdown",
   "id": "e3dadaf6",
   "metadata": {},
   "source": [
    "## 5. Listas\n",
    "Una lista va a ser un contenedor de información. Permite diferentes `types`.\n",
    "Para crear una lista se pueden usar dos métodos: \n",
    "- Usando \"[]\"\n",
    "- o usando list()"
   ]
  },
  {
   "cell_type": "code",
   "execution_count": 30,
   "id": "8497af9c",
   "metadata": {},
   "outputs": [
    {
     "name": "stdout",
     "output_type": "stream",
     "text": [
      "['a', 1, 1.1, True]\n"
     ]
    }
   ],
   "source": [
    "x = ['a', 1, 1.1, True]\n",
    "print(x)"
   ]
  },
  {
   "cell_type": "markdown",
   "id": "70e99602",
   "metadata": {},
   "source": [
    "Otra forma de crear listas:"
   ]
  },
  {
   "cell_type": "code",
   "execution_count": 33,
   "id": "e9a4e94d",
   "metadata": {},
   "outputs": [
    {
     "name": "stdout",
     "output_type": "stream",
     "text": [
      "[[], []]\n"
     ]
    }
   ],
   "source": [
    "x = list()\n",
    "y = [x, x ] \n",
    "print(y)"
   ]
  },
  {
   "cell_type": "markdown",
   "id": "3295e41a",
   "metadata": {},
   "source": [
    "¿Se puede acceder a los elementos de una lista? "
   ]
  },
  {
   "cell_type": "code",
   "execution_count": 34,
   "id": "4e009d71",
   "metadata": {},
   "outputs": [
    {
     "name": "stdout",
     "output_type": "stream",
     "text": [
      "a\n",
      "1\n",
      "1.1\n"
     ]
    }
   ],
   "source": [
    "x = ['a', 1, 1.1, True]\n",
    "print(x[0])\n",
    "print(x[1])\n",
    "print(x[2])"
   ]
  },
  {
   "cell_type": "markdown",
   "id": "00ae894e",
   "metadata": {},
   "source": [
    "```{admonition} Posición en una lista\n",
    ":class: tip\n",
    "La posición parte del índice 0. \n",
    "\n",
    "Si la lista es [a, b, c], la posición de cada elemento será [0, 1, 2].  \n",
    "```"
   ]
  },
  {
   "cell_type": "markdown",
   "id": "4b7a65f1",
   "metadata": {},
   "source": [
    "¿Se pueden hacer operaciones matemáticas con listas? "
   ]
  },
  {
   "cell_type": "code",
   "execution_count": 35,
   "id": "08d74530",
   "metadata": {},
   "outputs": [
    {
     "name": "stdout",
     "output_type": "stream",
     "text": [
      "['a', 1, 1.1, True, 'a', 1, 1.1, True]\n"
     ]
    }
   ],
   "source": [
    "print(x + x)"
   ]
  },
  {
   "cell_type": "markdown",
   "id": "7a30df0d",
   "metadata": {},
   "source": [
    "y si son sólo elementos numéricos? "
   ]
  },
  {
   "cell_type": "code",
   "execution_count": 36,
   "id": "ee529907",
   "metadata": {},
   "outputs": [
    {
     "name": "stdout",
     "output_type": "stream",
     "text": [
      "[1, 2, 2, 2]\n"
     ]
    },
    {
     "ename": "TypeError",
     "evalue": "can't multiply sequence by non-int of type 'list'",
     "output_type": "error",
     "traceback": [
      "\u001b[0;31m---------------------------------------------------------------------------\u001b[0m",
      "\u001b[0;31mTypeError\u001b[0m                                 Traceback (most recent call last)",
      "\u001b[0;32m<ipython-input-36-d32218a19255>\u001b[0m in \u001b[0;36m<module>\u001b[0;34m\u001b[0m\n\u001b[1;32m      2\u001b[0m \u001b[0my\u001b[0m \u001b[0;34m=\u001b[0m \u001b[0;34m[\u001b[0m\u001b[0;36m2\u001b[0m\u001b[0;34m,\u001b[0m \u001b[0;36m2\u001b[0m\u001b[0;34m]\u001b[0m\u001b[0;34m\u001b[0m\u001b[0;34m\u001b[0m\u001b[0m\n\u001b[1;32m      3\u001b[0m \u001b[0mprint\u001b[0m\u001b[0;34m(\u001b[0m\u001b[0mx\u001b[0m \u001b[0;34m+\u001b[0m \u001b[0my\u001b[0m\u001b[0;34m)\u001b[0m\u001b[0;34m\u001b[0m\u001b[0;34m\u001b[0m\u001b[0m\n\u001b[0;32m----> 4\u001b[0;31m \u001b[0mprint\u001b[0m\u001b[0;34m(\u001b[0m\u001b[0mx\u001b[0m\u001b[0;34m*\u001b[0m\u001b[0mx\u001b[0m\u001b[0;34m)\u001b[0m\u001b[0;34m\u001b[0m\u001b[0;34m\u001b[0m\u001b[0m\n\u001b[0m",
      "\u001b[0;31mTypeError\u001b[0m: can't multiply sequence by non-int of type 'list'"
     ]
    }
   ],
   "source": [
    "x = [1, 2]\n",
    "y = [2, 2]\n",
    "print(x + y)\n",
    "print(x*x)"
   ]
  },
  {
   "cell_type": "markdown",
   "id": "b6f4fb4a",
   "metadata": {},
   "source": [
    "Si podemos realizar operaciones matemáticas sobre los elementos de una lista"
   ]
  },
  {
   "cell_type": "code",
   "execution_count": 37,
   "id": "0bb0ee3d",
   "metadata": {},
   "outputs": [
    {
     "name": "stdout",
     "output_type": "stream",
     "text": [
      "3\n"
     ]
    }
   ],
   "source": [
    "print(x[0] + y[1])"
   ]
  },
  {
   "cell_type": "markdown",
   "id": "e472b429",
   "metadata": {},
   "source": [
    "¿Cómo agregar elementos a una lista? "
   ]
  },
  {
   "cell_type": "code",
   "execution_count": 40,
   "id": "11204730",
   "metadata": {},
   "outputs": [
    {
     "name": "stdout",
     "output_type": "stream",
     "text": [
      "[10, 'hola']\n"
     ]
    }
   ],
   "source": [
    "x = list()\n",
    "x.append(10)\n",
    "x.append('hola')\n",
    "print(x)"
   ]
  },
  {
   "cell_type": "markdown",
   "id": "c859a5e6",
   "metadata": {},
   "source": [
    "Para acceder al total de elementos de una lista usamos la función len()"
   ]
  },
  {
   "cell_type": "code",
   "execution_count": 39,
   "id": "a552e0f1",
   "metadata": {},
   "outputs": [
    {
     "data": {
      "text/plain": [
       "2"
      ]
     },
     "execution_count": 39,
     "metadata": {},
     "output_type": "execute_result"
    }
   ],
   "source": [
    "len(x)"
   ]
  },
  {
   "cell_type": "markdown",
   "id": "d4f1a849",
   "metadata": {},
   "source": [
    "Para borrar elementos podemos usar pop() o remove()"
   ]
  },
  {
   "cell_type": "code",
   "execution_count": 46,
   "id": "db23ab03",
   "metadata": {},
   "outputs": [
    {
     "name": "stdout",
     "output_type": "stream",
     "text": [
      "['hola']\n"
     ]
    }
   ],
   "source": [
    "x = [10, 'hola']\n",
    "x.pop(0)\n",
    "print(x)"
   ]
  },
  {
   "cell_type": "code",
   "execution_count": 47,
   "id": "94e43174",
   "metadata": {},
   "outputs": [
    {
     "name": "stdout",
     "output_type": "stream",
     "text": [
      "['hola']\n"
     ]
    }
   ],
   "source": [
    "x = [10, 'hola']\n",
    "x.remove(10)\n",
    "print(x)"
   ]
  },
  {
   "cell_type": "markdown",
   "id": "2678d734",
   "metadata": {},
   "source": [
    "## 6. Arrays\n",
    "Cuando queremos hacer operaciones matemáticas con vectores o matrices vamos a utilizar `arrays`. \n",
    "\n",
    "Para esto usamos `numpy`: **import numpy as np** "
   ]
  },
  {
   "cell_type": "code",
   "execution_count": 53,
   "id": "42d91171",
   "metadata": {},
   "outputs": [
    {
     "name": "stdout",
     "output_type": "stream",
     "text": [
      "x: [1, 2, 3, 4, 5]\n",
      "x_arr: [1 2 3 4 5]\n"
     ]
    }
   ],
   "source": [
    "import numpy as np\n",
    "x = [1,2,3,4,5]\n",
    "x_arr = np.array(x)\n",
    "print(\"x:\", x)\n",
    "print(\"x_arr:\", x_arr)"
   ]
  },
  {
   "cell_type": "code",
   "execution_count": 54,
   "id": "f9b8d0e0",
   "metadata": {},
   "outputs": [
    {
     "name": "stdout",
     "output_type": "stream",
     "text": [
      "<class 'list'>\n",
      "<class 'numpy.ndarray'>\n"
     ]
    }
   ],
   "source": [
    "print(type(x))\n",
    "print(type(x_arr))"
   ]
  },
  {
   "cell_type": "markdown",
   "id": "aeb5aadd",
   "metadata": {},
   "source": [
    "La ventaja de usar arrays es que nos permite hacer operaciones matemáticas"
   ]
  },
  {
   "cell_type": "code",
   "execution_count": 56,
   "id": "9c541c3a",
   "metadata": {},
   "outputs": [
    {
     "name": "stdout",
     "output_type": "stream",
     "text": [
      "[0 2 4]\n",
      "[0 2 4]\n",
      "[0 1 4]\n"
     ]
    }
   ],
   "source": [
    "x = np.array([0, 1, 2])\n",
    "print(x + x)\n",
    "print(x * 2)\n",
    "print(x*x)"
   ]
  },
  {
   "cell_type": "code",
   "execution_count": 60,
   "id": "41499537",
   "metadata": {},
   "outputs": [
    {
     "name": "stdout",
     "output_type": "stream",
     "text": [
      "[[1 2]\n",
      " [3 4]]\n",
      "len: 2  x  2\n"
     ]
    }
   ],
   "source": [
    "x = [[1, 2], [3, 4]]\n",
    "x = np.array(x)\n",
    "print(x)\n",
    "print(\"len:\", len(x), \" x \", len(x[0]))"
   ]
  },
  {
   "cell_type": "markdown",
   "id": "fedf6931",
   "metadata": {},
   "source": [
    "¿Si tenemos un vector y una matriz cómo realizamos una multiplicación?\n",
    "\n",
    "\n",
    "$$\\left[ \\begin{array}{cc}\n",
    " 2 & 2  \\\\ \n",
    " 2 & 2 \\end{array}\\right] \n",
    "\\cdot \n",
    "\\left[ \n",
    "\\begin{array}{cc}\n",
    "2 & 2 \\\\\n",
    "2 & 2 \\\\\n",
    "\\end{array}\n",
    "\\right] = \n",
    "\\left[ \\begin{array}{cc}\n",
    "8 & 8 \\\\\n",
    "8 & 8 \\\\\n",
    "\\end{array}\n",
    "\\right]$$"
   ]
  },
  {
   "cell_type": "code",
   "execution_count": 79,
   "id": "77323f4f",
   "metadata": {},
   "outputs": [
    {
     "name": "stdout",
     "output_type": "stream",
     "text": [
      "Caso 1:\n",
      " [[4 4]\n",
      " [4 4]]\n",
      "Caso 2:\n",
      " [[8 8]\n",
      " [8 8]]\n"
     ]
    }
   ],
   "source": [
    "x = np.array([[2, 2], [2, 2]])\n",
    "#1. Multiplicación de cada elemento de la matriz\n",
    "print(\"Caso 1:\\n\", x * x)\n",
    "#2. Multiplicación de matrices\n",
    "print(\"Caso 2:\\n\", x @ x)"
   ]
  },
  {
   "cell_type": "markdown",
   "id": "84f949c6",
   "metadata": {},
   "source": [
    "## 7. Loops\n",
    "Vamos a utilizar `loops` para crear iteraciones sobre una secuencia, un rango determinado, por ejemplo una lista, de 0 a 10, etc. \n",
    "\n",
    "Para crear una iteración vamos a usar `for`"
   ]
  },
  {
   "cell_type": "code",
   "execution_count": 67,
   "id": "545233c1",
   "metadata": {},
   "outputs": [
    {
     "name": "stdout",
     "output_type": "stream",
     "text": [
      "0\n",
      "1\n",
      "2\n",
      "3\n",
      "4\n",
      "5\n",
      "6\n",
      "7\n",
      "8\n",
      "9\n"
     ]
    }
   ],
   "source": [
    "for i in range(0, 10): \n",
    "    print(i)"
   ]
  },
  {
   "cell_type": "code",
   "execution_count": 71,
   "id": "5a4da5a9",
   "metadata": {},
   "outputs": [
    {
     "name": "stdout",
     "output_type": "stream",
     "text": [
      "0\n",
      "1\n",
      "2\n",
      "3\n"
     ]
    }
   ],
   "source": [
    "x = [0, 1, 'a', True]\n",
    "for i in range(0, len(x)):\n",
    "    print(i)"
   ]
  },
  {
   "cell_type": "code",
   "execution_count": 73,
   "id": "81cb9013",
   "metadata": {},
   "outputs": [
    {
     "name": "stdout",
     "output_type": "stream",
     "text": [
      "0\n",
      "1\n",
      "2\n",
      "3\n"
     ]
    }
   ],
   "source": [
    "x = np.array([0, 1, 2, 3])\n",
    "for i in range(0, len(x)):\n",
    "    print(i)"
   ]
  },
  {
   "cell_type": "code",
   "execution_count": 74,
   "id": "14335cf8",
   "metadata": {},
   "outputs": [
    {
     "name": "stdout",
     "output_type": "stream",
     "text": [
      "0\n",
      "1\n",
      "a\n",
      "True\n"
     ]
    }
   ],
   "source": [
    "x = [0, 1, 'a', True]\n",
    "for i in x:\n",
    "    print(i)"
   ]
  },
  {
   "cell_type": "code",
   "execution_count": 75,
   "id": "d7a34471",
   "metadata": {},
   "outputs": [
    {
     "name": "stdout",
     "output_type": "stream",
     "text": [
      "5\n",
      "7\n",
      "9\n"
     ]
    }
   ],
   "source": [
    "x = [1, 2, 3]\n",
    "y = [4, 5 ,6]\n",
    "for i in range(0, len(x)):\n",
    "    print(x[i] + y[i])   "
   ]
  },
  {
   "cell_type": "code",
   "execution_count": 76,
   "id": "4631626e",
   "metadata": {},
   "outputs": [
    {
     "name": "stdout",
     "output_type": "stream",
     "text": [
      "(1, 4)\n",
      "(1, 5)\n",
      "(1, 6)\n",
      "(2, 4)\n",
      "(2, 5)\n",
      "(2, 6)\n",
      "(3, 4)\n",
      "(3, 5)\n",
      "(3, 6)\n"
     ]
    }
   ],
   "source": [
    "x = [1, 2, 3]\n",
    "y = [4, 5 ,6]\n",
    "for i in x:\n",
    "    for j in y:\n",
    "        print((i,j))"
   ]
  },
  {
   "cell_type": "markdown",
   "id": "db680dfb",
   "metadata": {},
   "source": [
    "Sintaxis va a ser la estructura del código. "
   ]
  },
  {
   "cell_type": "code",
   "execution_count": 16,
   "id": "f0a82406",
   "metadata": {},
   "outputs": [
    {
     "name": "stdout",
     "output_type": "stream",
     "text": [
      "0\n",
      "1\n",
      "2\n",
      "3\n",
      "4\n",
      "5\n",
      "6\n",
      "7\n",
      "8\n",
      "9\n"
     ]
    }
   ],
   "source": [
    "#nombre de la variable, signo = , valor\n",
    "x = 10 \n",
    "#lista: nombre de la lista, signo = , [ valor ]\n",
    "x = [10, 20]\n",
    "#Iteración: for, iterador 'i', entre 'in', rango o lista (range(0, 10), [1,2,3]), ':'\n",
    "for i in range(0, 10): \n",
    "    print(i)\n",
    "    \n",
    "#Una vez me salgo del espacio se acaba la iteración\n",
    "x = 10"
   ]
  },
  {
   "cell_type": "code",
   "execution_count": 26,
   "id": "54393bc3",
   "metadata": {},
   "outputs": [
    {
     "name": "stdout",
     "output_type": "stream",
     "text": [
      "[]\n",
      "[10]\n",
      "[10, 'b']\n",
      "[10, 'b', 'b']\n"
     ]
    }
   ],
   "source": [
    "x = 10\n",
    "z = 'b'\n",
    "a = list()\n",
    "print(a)\n",
    "a.append(x)\n",
    "print(a)\n",
    "a = [x, z]\n",
    "print(a)\n",
    "a.append('b')\n",
    "print(a)"
   ]
  }
 ],
 "metadata": {
  "kernelspec": {
   "display_name": "Python 3",
   "language": "python",
   "name": "python3"
  },
  "language_info": {
   "codemirror_mode": {
    "name": "ipython",
    "version": 3
   },
   "file_extension": ".py",
   "mimetype": "text/x-python",
   "name": "python",
   "nbconvert_exporter": "python",
   "pygments_lexer": "ipython3",
   "version": "3.9.1"
  }
 },
 "nbformat": 4,
 "nbformat_minor": 5
}
