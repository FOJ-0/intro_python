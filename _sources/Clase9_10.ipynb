{
 "cells": [
  {
   "cell_type": "markdown",
   "metadata": {},
   "source": [
    "# Clase 9-10: Funciones, diccionarios y condicionales"
   ]
  },
  {
   "cell_type": "code",
   "execution_count": 1,
   "metadata": {},
   "outputs": [],
   "source": [
    "#Importar librería\n",
    "import numpy as np"
   ]
  },
  {
   "cell_type": "markdown",
   "metadata": {},
   "source": [
    "**En esta classe vamos a ejercitar respondiendo las siguientes preguntas**\n",
    "\n",
    "1. Utilice las funciones de numpy `linspace()` y `arange()` para crear dos vectores entre 0-100. El primer vector tiene 1000 elementos entre el rango 0-100 y el segundo se encuentra separado por 1.5 (ejm: 0, 1.5, 3, ...). \n"
   ]
  },
  {
   "cell_type": "code",
   "execution_count": 2,
   "metadata": {},
   "outputs": [
    {
     "name": "stdout",
     "output_type": "stream",
     "text": [
      "len(vector1): 1000\n",
      "len(vector2): 67\n",
      "vector1: [0.        0.1001001 0.2002002 0.3003003 0.4004004 0.5005005 0.6006006\n",
      " 0.7007007 0.8008008 0.9009009]\n",
      "vector2: [ 0.   1.5  3.   4.5  6.   7.5  9.  10.5 12.  13.5]\n"
     ]
    }
   ],
   "source": [
    "#Crear vector entre 0-100 con 1000 elementos\n",
    "vector1 = np.linspace(0, 100, 1000)\n",
    "print(\"len(vector1):\", len(vector1))\n",
    "\n",
    "#Crear vector entre 0-100 separados por 1.5\n",
    "vector2 = np.arange(0, 100, 1.5)\n",
    "print(\"len(vector2):\", len(vector2))\n",
    "\n",
    "#Vectores\n",
    "print(\"vector1:\", vector1[0:10])\n",
    "print(\"vector2:\", vector2[0:10])"
   ]
  },
  {
   "cell_type": "markdown",
   "metadata": {},
   "source": [
    "2. Utilizando los vectores de 1. crear un `loop anidado` para calcular la multiplicación entre cada elemento de los vectores. Guarde los resultados en una lista. \n"
   ]
  },
  {
   "cell_type": "code",
   "execution_count": 3,
   "metadata": {},
   "outputs": [
    {
     "name": "stdout",
     "output_type": "stream",
     "text": [
      "len(lista): 67000\n",
      "len(vector1)*len(vector2): 67000\n"
     ]
    }
   ],
   "source": [
    "#Lista vacía\n",
    "lista = []\n",
    "\n",
    "#Loop\n",
    "for i in vector1: \n",
    "    for j in vector2: \n",
    "        lista.append(i*j)\n",
    "        \n",
    "print(\"len(lista):\", len(lista))\n",
    "print(\"len(vector1)*len(vector2):\", len(vector1)*len(vector2))"
   ]
  },
  {
   "cell_type": "markdown",
   "metadata": {},
   "source": [
    "3. Mediante un print() muestre la suma, el promedio, la mediana y la desviación estándar de la lista guardada en 2. "
   ]
  },
  {
   "cell_type": "code",
   "execution_count": 4,
   "metadata": {},
   "outputs": [
    {
     "name": "stdout",
     "output_type": "stream",
     "text": [
      "suma: 165825000.0\n",
      "promedio: 2475.0\n",
      "mediana: 1839.3393393393394\n",
      "Std: 2202.8088300489767\n"
     ]
    }
   ],
   "source": [
    "#Suma\n",
    "print(\"suma:\", np.sum(lista))\n",
    "#Promedio\n",
    "print(\"promedio:\", np.mean(lista))\n",
    "#Mediana\n",
    "print(\"mediana:\", np.median(lista))\n",
    "#Desviación estandar\n",
    "print(\"Std:\", np.std(lista))"
   ]
  },
  {
   "cell_type": "markdown",
   "metadata": {},
   "source": [
    "4. Utilice la función input() para solicitar la cantidad de mascotas. \n"
   ]
  },
  {
   "cell_type": "code",
   "execution_count": 5,
   "metadata": {},
   "outputs": [
    {
     "name": "stdin",
     "output_type": "stream",
     "text": [
      "¿Cuántas mascotas tiene? 0\n"
     ]
    },
    {
     "data": {
      "text/plain": [
       "'0'"
      ]
     },
     "execution_count": 5,
     "metadata": {},
     "output_type": "execute_result"
    }
   ],
   "source": [
    "#Solicitar input\n",
    "input(\"¿Cuántas mascotas tiene?\")"
   ]
  },
  {
   "cell_type": "markdown",
   "metadata": {},
   "source": [
    "5. Crear una rutina que permita las siguientes operaciones: \n",
    "    1. Solicitar el número de mascotas (con input()), guardar en una variable. \n",
    "    2. Si el número de mascotas es cero: imprimir \"No tiene mascotas.\"\n",
    "    3. Si el número es entre 1-3: imprimir \"Tiene entre 1-3 mascotas.\"\n",
    "    4. Si el número es entre 4-6: imprimir \"Tiene entre 4-6 mascotas.\"\n",
    "    5. Si el número es mayor que 6: imprimir \"Tiene más de 6 mascotas\". \n",
    "    6. Si el número es negativo: imprimir \"No corresponde\". \n",
    "    \n",
    "    *Probar que su rutina cumple bien todas las condiciones. *\n",
    "    \n"
   ]
  },
  {
   "cell_type": "code",
   "execution_count": 6,
   "metadata": {},
   "outputs": [
    {
     "name": "stdin",
     "output_type": "stream",
     "text": [
      "¿Cuántas mascotas tiene? 0\n"
     ]
    },
    {
     "name": "stdout",
     "output_type": "stream",
     "text": [
      "No tiene mascotas\n"
     ]
    }
   ],
   "source": [
    "mascotas = int(input(\"¿Cuántas mascotas tiene?\"))\n",
    "if mascotas == 0: \n",
    "    print(\"No tiene mascotas\")\n",
    "elif mascotas >0 and mascotas <=3 : \n",
    "    print(\"Tiene entre 1-3 mascotas\")\n",
    "elif mascotas>3 and mascotas <=6:\n",
    "    print(\"Tiene entre 4-6 mascotas\")\n",
    "elif mascotas>6: \n",
    "    print(\"Tiene mas de 6 mascotas\")\n",
    "elif mascotas<0: \n",
    "    print(\"No corresponde\")\n",
    "else: \n",
    "    print(\"otro caso\")\n",
    "    \n"
   ]
  },
  {
   "cell_type": "markdown",
   "metadata": {},
   "source": [
    "6. Crear dos listas, una con estilo musical (blues, rock, rap, trap, pop) y otra con grupos (Nina Simone, Led Zeppelin, Makiza, Pablo Chill-e, Dua Lipa). Luego crear una función que tenga como input \"estilo\" y output \"recomendacion\". La función debe permitir: \n",
    "    1. Leer el input estilo y compararlo con la lista de estilo musical. \n",
    "    2. Utilizar if/elif/else para crear condiciones que recomiende música. Por ejemplo, si estilo es igual a Blues, recomendar Nina Simone.\n",
    "    4. Si el estilo no está en la lista de estilo musical, debe mostrar \"No tenemos recomendación para su estilo musical\". \n",
    "    3. El output debe ser la recomendación. \n",
    "    \n",
    "    *Evaluar si la función se ejecuta correctamente para cada estilo musical*\n",
    "    \n"
   ]
  },
  {
   "cell_type": "markdown",
   "metadata": {},
   "source": [
    "**Opción 1** "
   ]
  },
  {
   "cell_type": "code",
   "execution_count": 7,
   "metadata": {},
   "outputs": [
    {
     "name": "stdout",
     "output_type": "stream",
     "text": [
      "Makiza\n"
     ]
    }
   ],
   "source": [
    "def recomendacion(estilo): \n",
    "    if estilo == \"blues\": \n",
    "        print(\"Nina Simone\")\n",
    "    elif estilo == \"rock\": \n",
    "        print(\"Led Zeppelin\")\n",
    "    elif estilo == \"rap\": \n",
    "        print(\"Makiza\")\n",
    "    elif estilo == \"trap\": \n",
    "        print(\"Pablo Chill-e\")\n",
    "    elif estilo == \"pop\":\n",
    "        print(\"Dua Lipa\")\n",
    "    else: \n",
    "        print(\"No tenemos recomendación para su estilo musical.\")\n",
    "        \n",
    "recomendacion('rap')"
   ]
  },
  {
   "cell_type": "markdown",
   "metadata": {},
   "source": [
    "**Opción 2**"
   ]
  },
  {
   "cell_type": "code",
   "execution_count": 8,
   "metadata": {},
   "outputs": [
    {
     "data": {
      "text/plain": [
       "'Nina Simone'"
      ]
     },
     "execution_count": 8,
     "metadata": {},
     "output_type": "execute_result"
    }
   ],
   "source": [
    "def recomendacion(estilo): \n",
    "    if estilo == \"blues\": \n",
    "        recomend = \"Nina Simone\"\n",
    "    elif estilo == \"rock\": \n",
    "        recomend = \"Led Zeppelin\"\n",
    "    elif estilo == \"rap\": \n",
    "        recomend = \"Makiza\"\n",
    "    elif estilo == \"trap\": \n",
    "        recomend = \"Pablo Chill-e\"\n",
    "    elif estilo == \"pop\":\n",
    "        recomend = \"Dua Lipa\"\n",
    "    else: \n",
    "        recomend = \"No tenemos recomendación para su estilo musical.\"\n",
    "    return recomend\n",
    "        \n",
    "#Podemos guardar la recomendación en una variable\n",
    "recomendacion('blues')"
   ]
  },
  {
   "cell_type": "markdown",
   "metadata": {},
   "source": [
    "**Opción 3**\n"
   ]
  },
  {
   "cell_type": "code",
   "execution_count": 9,
   "metadata": {},
   "outputs": [
    {
     "data": {
      "text/plain": [
       "'Led Zeppelin'"
      ]
     },
     "execution_count": 9,
     "metadata": {},
     "output_type": "execute_result"
    }
   ],
   "source": [
    "estilos = [\"blues\", \"rock\", \"rap\", \"trap\", \"pop\"]\n",
    "grupos = [\"Nina Simone\", \"Led Zeppelin\", \"Makiza\", \"Pablo Chill-e\", \"Dua Lipa\"]\n",
    "\n",
    "def recomendacion(estilo): \n",
    "    for i in range(0, len(estilos)): \n",
    "        if estilo == estilos[i]:\n",
    "            recomend = grupos[i]\n",
    "            break\n",
    "        else: \n",
    "            recomend = \"No tenemos recomendación\"\n",
    "    return recomend\n",
    "\n",
    "recomendacion(\"rock\")"
   ]
  },
  {
   "cell_type": "markdown",
   "metadata": {},
   "source": [
    "7. Crear una función que permita evaluar hasta tres estilos musicales y entregue una lista con las recomendaciones. Por ejemplo, si le entrego una lista con [rock, rap, pop] me debe retornar [Led Zeppelin, Makiza, Dua Lipa]. Adicionalmente: \n",
    "    - Si le entrego una lista con 1 o 2 estilos musicales debe entregar 1 o 2 recomendaciones respectivamente. \n",
    "    - Si le entrego una lista del tipo [trap, musica clasica] debe retornar la recomendación para trap [Pablo Chill-e]. \n",
    "    - Si le entrego una lista del tipo [musica clasica] debe retornar un mensaje \"no tenemos recomendación para su estilo musical\". \n",
    "    \n"
   ]
  },
  {
   "cell_type": "markdown",
   "metadata": {},
   "source": [
    "**Pasos de la iteración**\n",
    "1. \"blues\": igual a la pregunta 6\n",
    "2. [\"blues\"]: \n",
    "    - si el lago del input == 1\n",
    "    - iteramos sobre el total de estilos\n",
    "    - si input (estilo) en la posición cero (primer elemento) es igual al valor de los estilos (sobre lo que estamos iterando)\n",
    "    - entonces guardar el output como el grupo en la posición \"i\".\n",
    "    - cierre \n",
    "3. [\"blues\", \"rock\"]: \n",
    "    - si el largo del input es igual a 2\n",
    "    - creamos lista vacía para guardar las recomendaciones\n",
    "    - iteramos sobre el total de elementos de estilos\n",
    "    - Comparamos el primer elemento del input con los estilos ejm: si input[\"blues\", rock\"], comparamos \"blues\" con cada elemento de estilos. \n",
    "    - Si son iguales, guardamos la recomendación (grupos[i]) en la lista, en caso contrario no hacemos nada.\n",
    "    - Repetimos para el segundo elemento del input (\"rock\"). \n",
    "    \n",
    "4. [\"rock\", \"blues\", \"pop\"]\n",
    "    - La lógica es la misma que en 3., sólo que ahora agregamos un tercer elemento y con ello una tercera condición. "
   ]
  },
  {
   "cell_type": "code",
   "execution_count": 10,
   "metadata": {},
   "outputs": [],
   "source": [
    "estilos = [\"blues\", \"rock\", \"rap\", \"trap\", \"pop\"]\n",
    "grupos = [\"Nina Simone\", \"Led Zeppelin\", \"Makiza\", \"Pablo Chill-e\", \"Dua Lipa\"]\n",
    "\n",
    "def recomendacion(estilo): \n",
    "    #Entrada como texto: ejm \"rock\"\n",
    "    if type(estilo) == str: \n",
    "        for i in range(0, len(estilos)): \n",
    "            if estilo == estilos[i]:\n",
    "                recomend = grupos[i]\n",
    "                break\n",
    "            else: \n",
    "                recomend = \"No tenemos recomendación\" \n",
    "                \n",
    "    #Entrada como lista ej [\"rock\"] o [\"rock\", \"blues\"]\n",
    "    else:\n",
    "        #1 estilo musical\n",
    "        if len(estilo) == 1:\n",
    "            for i in range(0, len(estilos)): \n",
    "                if estilo[0] == estilos[i]:\n",
    "                    recomend = grupos[i]\n",
    "                    break\n",
    "                else: \n",
    "                    recomend = \"No tenemos recomendación\"           \n",
    "\n",
    "        #2 estilos musicales\n",
    "        elif len(estilo) == 2:\n",
    "            recomend = []\n",
    "            for i in range(0, len(estilos)): \n",
    "                if estilo[0] == estilos[i]:\n",
    "                    recomend.append(grupos[i])\n",
    "                elif estilo[1] == estilos[i]:\n",
    "                    recomend.append(grupos[i])\n",
    "        #3 estilos musicales: \n",
    "        elif len(estilo) == 3:\n",
    "            recomend = []\n",
    "            for i in range(0, len(estilos)): \n",
    "                if estilo[0] == estilos[i]:\n",
    "                    recomend.append(grupos[i])\n",
    "                elif estilo[1] == estilos[i]:\n",
    "                    recomend.append(grupos[i])    \n",
    "                elif estilo[2] == estilos[i]:\n",
    "                    recomend.append(grupos[i])          \n",
    "        \n",
    "    return recomend"
   ]
  },
  {
   "cell_type": "code",
   "execution_count": 11,
   "metadata": {},
   "outputs": [
    {
     "data": {
      "text/plain": [
       "['Nina Simone', 'Led Zeppelin', 'Makiza']"
      ]
     },
     "execution_count": 11,
     "metadata": {},
     "output_type": "execute_result"
    }
   ],
   "source": [
    "gustos = [\"rap\", \"rock\", \"blues\"]\n",
    "recomendacion(gustos)"
   ]
  },
  {
   "cell_type": "markdown",
   "metadata": {},
   "source": [
    "8. Crear una diccionario a partir de las dos listas donde la llave sea el estilo musical y el valor sea el grupo, ej: {'rap':'makiza'...}. \n",
    "\n"
   ]
  },
  {
   "cell_type": "code",
   "execution_count": 12,
   "metadata": {},
   "outputs": [
    {
     "name": "stdout",
     "output_type": "stream",
     "text": [
      "diccionario: {'blues': 'Nina Simone', 'rock': 'Led Zeppelin', 'rap': 'Makiza', 'trap': 'Pablo Chill-e', 'pop': 'Dua Lipa'}\n",
      "llaves: dict_keys(['blues', 'rock', 'rap', 'trap', 'pop'])\n",
      "valores: dict_values(['Nina Simone', 'Led Zeppelin', 'Makiza', 'Pablo Chill-e', 'Dua Lipa'])\n",
      "items: dict_items([('blues', 'Nina Simone'), ('rock', 'Led Zeppelin'), ('rap', 'Makiza'), ('trap', 'Pablo Chill-e'), ('pop', 'Dua Lipa')])\n"
     ]
    }
   ],
   "source": [
    "musica_dic = {'blues':'Nina Simone', 'rock':'Led Zeppelin', 'rap':'Makiza', 'trap':'Pablo Chill-e', 'pop':'Dua Lipa'  }\n",
    "print(\"diccionario:\", musica_dic)\n",
    "print(\"llaves:\", musica_dic.keys())\n",
    "print(\"valores:\", musica_dic.values())\n",
    "print(\"items:\", musica_dic.items())"
   ]
  },
  {
   "cell_type": "markdown",
   "metadata": {},
   "source": [
    "9. Replicar la función 6. pero ahora utilizando diccionarios donde la función haga lo siguiente: \n",
    "    1. Evaluar si el input (estilo) está en las `llaves` del diccionario. \n",
    "    2. Si el input está en llave del diccionario recomendar el grupo musical respectivo. \n",
    "    3. Si no está en la llave del diccionario retornar \"No tenemos recomendación para su estilo musical\". "
   ]
  },
  {
   "cell_type": "markdown",
   "metadata": {},
   "source": [
    "**Opción 1**"
   ]
  },
  {
   "cell_type": "code",
   "execution_count": 13,
   "metadata": {},
   "outputs": [
    {
     "data": {
      "text/plain": [
       "'Dua Lipa'"
      ]
     },
     "execution_count": 13,
     "metadata": {},
     "output_type": "execute_result"
    }
   ],
   "source": [
    "musica_dic = {'blues':'Nina Simone', 'rock':'Led Zeppelin', 'rap':'Makiza', 'trap':'Pablo Chill-e', 'pop':'Dua Lipa'  }\n",
    "\n",
    "def recomendacion(estilo): \n",
    "    for k in musica_dic.keys(): \n",
    "        if estilo == k:\n",
    "            recomend = musica_dic[k]\n",
    "            break\n",
    "        else: \n",
    "            recomend = \"No tenemos recomendación\"\n",
    "    return recomend\n",
    "\n",
    "recomendacion(\"pop\")"
   ]
  },
  {
   "cell_type": "markdown",
   "metadata": {},
   "source": [
    "**Opción 2**"
   ]
  },
  {
   "cell_type": "code",
   "execution_count": 14,
   "metadata": {},
   "outputs": [
    {
     "data": {
      "text/plain": [
       "'Makiza'"
      ]
     },
     "execution_count": 14,
     "metadata": {},
     "output_type": "execute_result"
    }
   ],
   "source": [
    "def recomendacion(estilo): \n",
    "    for k,v in musica_dic.items(): \n",
    "        if estilo == k:\n",
    "            recomend = v\n",
    "            break\n",
    "        else: \n",
    "            recomend = \"No tenemos recomendación\"\n",
    "    return recomend\n",
    "\n",
    "recomendacion(\"rap\")"
   ]
  },
  {
   "cell_type": "markdown",
   "metadata": {},
   "source": [
    "10. Replicar la función de 7. utilizando diccionarios. "
   ]
  },
  {
   "cell_type": "code",
   "execution_count": 15,
   "metadata": {},
   "outputs": [],
   "source": [
    "musica_dic = {'blues':'Nina Simone', 'rock':'Led Zeppelin', 'rap':'Makiza', 'trap':'Pablo Chill-e', 'pop':'Dua Lipa'  }\n",
    "def recomendacion(estilo): \n",
    "    #Entrada como texto: ejm \"rock\"\n",
    "    if type(estilo) == str: \n",
    "        for k, v in musica_dic.items(): \n",
    "            if estilo == k:\n",
    "                recomend = v\n",
    "                break\n",
    "            else: \n",
    "                recomend = \"No tenemos recomendación\" \n",
    "                \n",
    "    #Entrada como lista ej [\"rock\"] o [\"rock\", \"blues\"]\n",
    "    else:\n",
    "        #1 estilo musical\n",
    "        recomend = []\n",
    "        if len(estilo) == 1:\n",
    "            for k, v in musica_dic.items(): \n",
    "                if estilo[0] == k:\n",
    "                    recomend = v\n",
    "                    break\n",
    "                else: \n",
    "                    recomend = \"No tenemos recomendación\"     \n",
    "\n",
    "        #2 estilos musicales\n",
    "        elif len(estilo) == 2:\n",
    "            recomend = []\n",
    "            for k, v in musica_dic.items(): \n",
    "                if estilo[0] == k:\n",
    "                    recomend.append(v)\n",
    "                elif estilo[1] == k:\n",
    "                    recomend.append(v)\n",
    "        #3 estilos musicales: \n",
    "        elif len(estilo) == 3:\n",
    "            recomend = []\n",
    "            for k, v in musica_dic.items(): \n",
    "                if estilo[0] == k:\n",
    "                    recomend.append(v)\n",
    "                elif estilo[1] == k:\n",
    "                    recomend.append(v)    \n",
    "                elif estilo[2] == k:\n",
    "                    recomend.append(v)          \n",
    "        \n",
    "    return recomend"
   ]
  },
  {
   "cell_type": "code",
   "execution_count": 16,
   "metadata": {},
   "outputs": [
    {
     "data": {
      "text/plain": [
       "'No tenemos recomendación'"
      ]
     },
     "execution_count": 16,
     "metadata": {},
     "output_type": "execute_result"
    }
   ],
   "source": [
    "gustos = [\"AA\"]\n",
    "recomendacion(gustos)"
   ]
  },
  {
   "cell_type": "markdown",
   "metadata": {},
   "source": [
    "8. Crear una función que entregue una edad como un valor aleatorio entre 15-65 años y educación como otro valor aleatorio entre 0-22, pero tiene que ser menor que la edad. "
   ]
  },
  {
   "cell_type": "code",
   "execution_count": 2,
   "metadata": {},
   "outputs": [],
   "source": [
    "import random\n",
    "import numpy as np"
   ]
  },
  {
   "cell_type": "code",
   "execution_count": 11,
   "metadata": {},
   "outputs": [
    {
     "data": {
      "text/plain": [
       "(43, 7)"
      ]
     },
     "execution_count": 11,
     "metadata": {},
     "output_type": "execute_result"
    }
   ],
   "source": [
    "#Caso 1: una sola persona\n",
    "def fun_edad_educ(eda_in, eda_end, edu_in, edu_end):\n",
    "    edad = random.randint(eda_in, eda_end)\n",
    "    educ = random.randint(edu_in, edu_end)\n",
    "    if edad<educ:\n",
    "        educ = random.randint(edu_in, edu_end)\n",
    "            \n",
    "    return edad, educ\n",
    "fun_edad_educ(15, 65, 0, 22) #->que pasa si el if no es suficiente"
   ]
  },
  {
   "cell_type": "code",
   "execution_count": 13,
   "metadata": {},
   "outputs": [
    {
     "data": {
      "text/plain": [
       "(62, 57)"
      ]
     },
     "execution_count": 13,
     "metadata": {},
     "output_type": "execute_result"
    }
   ],
   "source": [
    "#Caso 1: una sola persona\n",
    "def fun_edad_educ(eda_in, eda_end, edu_in, edu_end):\n",
    "    edad = random.randint(eda_in, eda_end)\n",
    "    educ = random.randint(edu_in, edu_end)\n",
    "    while edad<educ:\n",
    "        edad = random.randint(eda_in, eda_end)\n",
    "        educ = random.randint(edu_in, edu_end)\n",
    "            \n",
    "    return edad, educ\n",
    "fun_edad_educ(15, 65, 50, 100)"
   ]
  },
  {
   "cell_type": "code",
   "execution_count": 20,
   "metadata": {},
   "outputs": [],
   "source": [
    "#Caso 3: varias persona\n",
    "def fun_edad_educ(n, eda_in, eda_end, edu_in, edu_end):\n",
    "    edad_list = []\n",
    "    educ_list = []\n",
    "    for i in range(n):\n",
    "        edad = random.randint(eda_in, eda_end)\n",
    "        educ = random.randint(edu_in, edu_end)\n",
    "        if edad<educ:\n",
    "            educ = random.randint(edu_in, edu_end)\n",
    "        edad_list.append(edad)\n",
    "        educ_list.append(educ)\n",
    "    return np.array(edad_list), np.array(educ_list)\n",
    "edad_list, educ_list = fun_edad_educ(20, 15, 65, 0, 22)"
   ]
  },
  {
   "cell_type": "code",
   "execution_count": 19,
   "metadata": {},
   "outputs": [
    {
     "data": {
      "text/plain": [
       "(array([56, 58, 63, 58, 58, 54, 64, 57, 62, 61, 65, 64, 59, 62, 55, 54, 65,\n",
       "        65, 65, 54]),\n",
       " array([51, 52, 60, 50, 52, 54, 64, 52, 53, 56, 60, 52, 55, 53, 50, 52, 54,\n",
       "        50, 58, 53]))"
      ]
     },
     "execution_count": 19,
     "metadata": {},
     "output_type": "execute_result"
    }
   ],
   "source": [
    "#Caso 4: varias persona\n",
    "def fun_edad_educ(n, eda_in, eda_end, edu_in, edu_end):\n",
    "    edad_list = []\n",
    "    educ_list = []    \n",
    "    for i in range(n):\n",
    "        edad = random.randint(eda_in, eda_end)\n",
    "        educ = random.randint(edu_in, edu_end)\n",
    "        while edad<educ:\n",
    "            edad = random.randint(eda_in, eda_end)\n",
    "            educ = random.randint(edu_in, edu_end)\n",
    "            \n",
    "        edad_list.append(edad)\n",
    "        educ_list.append(educ)            \n",
    "            \n",
    "    return np.array(edad_list), np.array(educ_list)\n",
    "edad_list, educ_list = fun_edad_educ(20, 15, 65, 50, 100)"
   ]
  },
  {
   "cell_type": "markdown",
   "metadata": {},
   "source": [
    "9. Crear una función que calcule la experiencia como edad-educación"
   ]
  },
  {
   "cell_type": "code",
   "execution_count": 22,
   "metadata": {},
   "outputs": [],
   "source": [
    "def fun_exp(edad, educ):\n",
    "    return edad-educ\n",
    "exp = fun_exp(edad_list, educ_list)"
   ]
  },
  {
   "cell_type": "markdown",
   "metadata": {},
   "source": [
    "10. Crear una función que calcule la estimación del ingreso según la ecuación de `Mincer`: $Ln(Y) = \\beta_0 + \\beta_1 S + \\beta_2 Exp + \\beta_3 Exp^2$\n",
    "Donde: \n",
    "- $S$: años de educación\n",
    "- $Exp$: experiencia\n",
    "- $Exp^2$: experiencia al cuadrado\n",
    "\n",
    "Utilice: $\\beta_0=9.7$, $\\beta_1=0.14$, $\\beta_2=0.07$, $\\beta_3=-0.001$"
   ]
  },
  {
   "cell_type": "code",
   "execution_count": 24,
   "metadata": {},
   "outputs": [],
   "source": [
    "def mincer(S, Exp):\n",
    "    β0 = 9.7\n",
    "    β1 = 0.14\n",
    "    β2 = 0.07\n",
    "    β3 = -0.001\n",
    "    return β0 + β1*S + β2*Exp + β3*Exp**2\n",
    "\n",
    "ln_y = mincer(educ_list, exp)"
   ]
  },
  {
   "cell_type": "code",
   "execution_count": 28,
   "metadata": {},
   "outputs": [
    {
     "data": {
      "text/plain": [
       "[<matplotlib.lines.Line2D at 0x7f8d284574c0>]"
      ]
     },
     "execution_count": 28,
     "metadata": {},
     "output_type": "execute_result"
    },
    {
     "data": {
      "image/png": "[encoded data removed]",
      "text/plain": [
       "<Figure size 432x288 with 1 Axes>"
      ]
     },
     "metadata": {
      "needs_background": "light"
     },
     "output_type": "display_data"
    }
   ],
   "source": [
    "import matplotlib.pyplot as plt\n",
    "plt.plot(educ_list, ln_y, 'o')"
   ]
  },
  {
   "cell_type": "markdown",
   "metadata": {},
   "source": [
    "# Actividad 1\n",
    "**Instrucciones:** \n",
    "- \n",
    "- Cada pregunta la debe responder en una celda diferente (en total 4 celdas de código). \n",
    "- Antes de cada celda de código debe ir un `markdown` que muestre la pregunta que está respondiendo. \n",
    "- En la celda de código debe agregar un breve comentario de qué está haciendo. \n",
    "- Mandar el archivo **PDF** al correo felix.ordonez@usach.cl con el asunto \"Actividad 1\".\n",
    "- Fecha de entrega: antes de la clase del 09/11. \n",
    "- *En caso que no respete las instrucciones se le descontará puntaje de la nota*\n",
    "\n",
    "\n",
    "**Nombre:**"
   ]
  },
  {
   "cell_type": "markdown",
   "metadata": {},
   "source": [
    "1. Crear una función que entregue una edad como un valor aleatorio entre 15-65 años, educación como otro valor aleatorio entre 0-22 (tiene que ser menor que la edad) y sexo igual a una variable dicotómica (0 o 1) aleatoria. \n",
    "2. Crear una función que calcule la experiencia como edad-educación\n",
    "3. Crear una función que calcule la estimación del ingreso según la ecuación de Mincer: $Ln(y)=\\beta_0+\\beta_1S+\\beta_2Exp+\\beta_3Exp^2 + \\beta_4 Sexo + \\beta_5(Sexo*S)$\n",
    "\n",
    "Donde: \n",
    "- $S$: años de educación\n",
    "- $Exp$: experiencia\n",
    "- $Exp^2$: experiencia al cuadrado\n",
    "\n",
    "Utilice: $\\beta_0=9.7$, $\\beta_1=0.15$, $\\beta_2=0.08$, $\\beta_3=-0.0011$, $\\beta_4=-0.15$, $\\beta_5=-0.0136$\n",
    "\n",
    "\n",
    "4. Relice el proceso en una iteración para N = 100 personas, guarde los resultados mediante un diccionario que la llave sea la persona ($n=1,\\cdots,N$) y el valor sea una lista del tipo: [S, Exp, Exp2, Sexo, Sexo*S, Ln(y)]. \n",
    "*Muestre los resultados de su diccionario*."
   ]
  },
  {
   "cell_type": "code",
   "execution_count": null,
   "metadata": {},
   "outputs": [],
   "source": []
  }
 ],
 "metadata": {
  "kernelspec": {
   "display_name": "Python 3",
   "language": "python",
   "name": "python3"
  },
  "language_info": {
   "codemirror_mode": {
    "name": "ipython",
    "version": 3
   },
   "file_extension": ".py",
   "mimetype": "text/x-python",
   "name": "python",
   "nbconvert_exporter": "python",
   "pygments_lexer": "ipython3",
   "version": "3.9.1"
  }
 },
 "nbformat": 4,
 "nbformat_minor": 4
}
