{
 "cells": [
  {
   "cell_type": "markdown",
   "id": "49c7f891",
   "metadata": {},
   "source": [
    "# Clase 10: Tarea 1\n",
    "\n",
    "**Instrucciones:** \n",
    "- Cada pregunta la debe responder en una celda diferente. \n",
    "- Antes de cada celda de código debe ir un `markdown` que muestre la pregunta que está respondiendo. \n",
    "- En la celda de código debe agregar un breve comentario de qué está haciendo.  \n",
    "- Mandar el archivo como un **PDF** al correo felix.ordonez@usach.cl con el asunto `Tarea 1`.\n",
    "- El nombre del archivo debe ser \"Apellido_Tarea1\". \n",
    "- La pregunta tiene puntos sólo si está correcta, no tiene puntos por pasos intermedios. \n",
    "- Todas las preguntas valen lo mismo. \n",
    "- Fecha de entrega: antes de la clase del 25/05. "
   ]
  },
  {
   "cell_type": "markdown",
   "id": "d614a6e5",
   "metadata": {},
   "source": [
    "**Nombre:** *Colocar su nombre*"
   ]
  },
  {
   "cell_type": "markdown",
   "id": "e708b6ac",
   "metadata": {},
   "source": [
    "1. Importe el archivo `clase9_base1.csv` y transformelo en un DataFrame. Este debe ser trabajable, es decir las variables deben ser numéricas, los separadores de miles y de decimales deben funcionar bien. \n",
    "2. Renombre las variables para que sean manejables en forma simple. \n",
    "3. Crear una variable del tipo fecha (datetime64[ns]) y anexarla al DataFrame. Crear una variable para mes y otra para año usando la variable creada previamente. \n",
    "4. Crear una función llamada \"grafico1\". Esta debe: \n",
    "    - Tener como input un DataFrame\n",
    "    - Agrupar el DataFrame en base al año. \n",
    "    - Guardar este resultado en una variable que contenga como index el año, y todas las otras variables como relevantes. \n",
    "    - Con un gráfico de barras mostrar el promedio para cuenta propia. \n",
    "    - El gráfico debe tener título, nombres de ejes y leyenda. \n",
    "    - El gráfico debe ser verde. \n",
    "5. Crear una función llamada \"listas\": \n",
    "    - Tener como input el DataFrame: \n",
    "    - Calcular la variación mensual para cada columna y guardar en una lista. Por ejemplo va a tener dif_TOT = [TOT(mar-2021)-TOT(feb-2021), TOT(feb-2021)-TOT(ene-2021), ...], dif_ASA, ...\n",
    "    - La función debe retornar 6 variables que contienen las diferencias y una variable con las fechas. \n",
    "6. Crear una función llamada \"grafico2\": \n",
    "    - Tener como input lista1, lista2 y fechas. \n",
    "    - Graficar las dos listas en un gráfico de líneas (ambas en el mismo gráfico). El *eje x* debe tener las `fechas` y el *eje y* los `valores`. \n",
    "    - El gráfico debe tener título, nombres de eje y leyenda. \n",
    "    - A uno de los gráficos cambie la línea por línea punteada. \n",
    "    - Probar la función con las listas de asalariados y cuenta propia del punto 5. \n",
    "7. Descarga el [IMACEC de la Base de Datos Estadísticas](https://si3.bcentral.cl/Siete/ES/Siete/Cuadro/CAP_CCNN/MN_CCNN76/CCNN2013_IMACEC_01) del Banco Central (el mismo periodo que la base utilizada en 1). \n",
    "    - Importar la base como Excel o CSV. \n",
    "    - Preparar la base para que pueda usarla correctamente como DataFrame. \n",
    "    - Guardar los datos en un DataFrame llamado IMACEC. \n",
    "    - Crear una lista que tenga la diferencia mensual del IMACEC. \n",
    "8. Crear una función llamada \"grafico3\": \n",
    "    - Tener como input lista1 y lista2. \n",
    "    - Crear un gráfico del tipo `scatter` (puntos) con la lista 1 y lista 2. [Acá algunos ejemplos](https://jakevdp.github.io/PythonDataScienceHandbook/04.02-simple-scatter-plots.html).\n",
    "    - El gráfico debe tener en el *eje x* la `lista 1` y en el *eje y* la `lista 2`. \n",
    "    - El gráfico debe tener Título y nombre de ejes. \n",
    "    - Probar la función con la diferencia mensual del IMACEC y la variación mensual de cuenta propia. \n",
    "9. Crear un diccionario que tenga como *llave* la fecha y como *valor* una lista con dos elementos [variación mensual IMACEC, variación mensual cuenta propia]. \n",
    "10. El siguiente código tiene 6 errores. Arreglar los errores para que el código funcione y explicar brevemente (máximo una línea por error) por qué estaba malo. "
   ]
  },
  {
   "cell_type": "code",
   "execution_count": 2,
   "id": "48ef5112",
   "metadata": {},
   "outputs": [
    {
     "ename": "SyntaxError",
     "evalue": "invalid syntax (<ipython-input-2-437f360f7197>, line 1)",
     "output_type": "error",
     "traceback": [
      "\u001b[0;36m  File \u001b[0;32m\"<ipython-input-2-437f360f7197>\"\u001b[0;36m, line \u001b[0;32m1\u001b[0m\n\u001b[0;31m    musica_dic = {'blues':'Nina Simone', 'rock':'Led Zeppelin', 'rap':'Makiza' 'trap':'Pablo Chill-e', 'pop':'Dua Lipa'  }\u001b[0m\n\u001b[0m                                                                                     ^\u001b[0m\n\u001b[0;31mSyntaxError\u001b[0m\u001b[0;31m:\u001b[0m invalid syntax\n"
     ]
    }
   ],
   "source": [
    "musica_dic = {'blues':'Nina Simone', 'rock':'Led Zeppelin', 'rap':'Makiza' 'trap':'Pablo Chill-e', 'pop':'Dua Lipa'  }\n",
    "def recomendacion(estilo): \n",
    "    #Entrada como texto: ejm \"rock\"\n",
    "    if type(estlo) == str: \n",
    "        for k, v in musica_dic.items(): \n",
    "            if estilo == k:\n",
    "                recomend = v\n",
    "                break\n",
    "            else: \n",
    "                recomend = \"No tenemos recomendación\" \n",
    "                \n",
    "    #Entrada como lista ej [\"rock\"] o [\"rock\", \"blues\"]\n",
    "    else:\n",
    "        #1 estilo musical\n",
    "        if len(estilo) = 1:\n",
    "            for k, v in musica_dic.items(): \n",
    "                if estilo[0] == k:\n",
    "                    recomend = v\n",
    "                    break\n",
    "                else: \n",
    "                    recomend = \"No tenemos recomendación\"     \n",
    "\n",
    "        #2 estilos musicales\n",
    "        elif len(estilo) == 2:\n",
    "            recomend = []\n",
    "            for k, v in musica_dic.item(): \n",
    "                if estilo[0] == k:\n",
    "                    recomend.append(v)\n",
    "                if estilo[1] == k:\n",
    "                    recomend.append(v)\n",
    "        #3 estilos musicales: \n",
    "        elif len(estilo) == 3:\n",
    "            recomend = []\n",
    "            for k, v in musica_dic.items(): \n",
    "                if estilo[0] == k:\n",
    "                    recomend.append(v)\n",
    "                elif estilo[1] == k:\n",
    "                    recomend.append(v)    \n",
    "                elif estilo[2] == k:\n",
    "                    recomend.append(v)          \n",
    "        \n",
    "    return recomend"
   ]
  },
  {
   "cell_type": "code",
   "execution_count": 3,
   "id": "57d3f668",
   "metadata": {},
   "outputs": [
    {
     "ename": "NameError",
     "evalue": "name 'recomendacion' is not defined",
     "output_type": "error",
     "traceback": [
      "\u001b[0;31m---------------------------------------------------------------------------\u001b[0m",
      "\u001b[0;31mNameError\u001b[0m                                 Traceback (most recent call last)",
      "\u001b[0;32m<ipython-input-3-189c6777cbd4>\u001b[0m in \u001b[0;36m<module>\u001b[0;34m\u001b[0m\n\u001b[0;32m----> 1\u001b[0;31m \u001b[0mrecomendacion\u001b[0m\u001b[0;34m(\u001b[0m\u001b[0;34m\"ejem\"\u001b[0m\u001b[0;34m)\u001b[0m\u001b[0;34m\u001b[0m\u001b[0;34m\u001b[0m\u001b[0m\n\u001b[0m",
      "\u001b[0;31mNameError\u001b[0m: name 'recomendacion' is not defined"
     ]
    }
   ],
   "source": [
    "recomendacion(\"ejem\")"
   ]
  }
 ],
 "metadata": {
  "kernelspec": {
   "display_name": "Python 3",
   "language": "python",
   "name": "python3"
  },
  "language_info": {
   "codemirror_mode": {
    "name": "ipython",
    "version": 3
   },
   "file_extension": ".py",
   "mimetype": "text/x-python",
   "name": "python",
   "nbconvert_exporter": "python",
   "pygments_lexer": "ipython3",
   "version": "3.9.1"
  }
 },
 "nbformat": 4,
 "nbformat_minor": 5
}
