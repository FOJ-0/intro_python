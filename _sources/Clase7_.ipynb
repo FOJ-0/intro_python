{
 "cells": [
  {
   "cell_type": "markdown",
   "id": "fbeac70e",
   "metadata": {},
   "source": [
    "# Clase 9: Funciones, diccionarios y condicionales\n",
    "1. Utilice las funciones de numpy `linspace()` y `arange()` para crear dos vectores entre 0-100. El primer vector tiene 1000 elementos entre el rango 0-100 y el segundo se encuentra separado por 1.5 (ejm: 0, 1.5, 3, ...). \n"
   ]
  },
  {
   "cell_type": "code",
   "execution_count": 1,
   "id": "0f22c191",
   "metadata": {},
   "outputs": [],
   "source": [
    "import numpy as np"
   ]
  },
  {
   "cell_type": "code",
   "execution_count": 2,
   "id": "02f9377b",
   "metadata": {},
   "outputs": [],
   "source": [
    "#Creaar un vector entre 0-100 con 1000 elementos\n",
    "vector1 = np.linspace(0, 100, 1000)\n",
    "\n",
    "#Crear un vector entre 0-100 separado por 1.5\n",
    "vector2 = np.arange(0,100, 1.5)"
   ]
  },
  {
   "cell_type": "markdown",
   "id": "0984faf6",
   "metadata": {},
   "source": [
    "2. Utilizando los vectores de 1. crear un `loop anidado` para calcular la multiplicación entre cada elemento de los vectores. Guarde los resultados en una lista. "
   ]
  },
  {
   "cell_type": "code",
   "execution_count": 4,
   "id": "3ffc8dfa",
   "metadata": {},
   "outputs": [],
   "source": [
    "#lista vacía\n",
    "lista = [] #lista = list()\n",
    "\n",
    "#Loop\n",
    "for i in vector1: #iteramos sobre los valors del vector 1\n",
    "    for j in vector2: #iteramos sobre los valors del vector 2\n",
    "        lista.append(i*j) #Operación sobre i y j y los anexamos a una lista \n",
    "#         print(\"(i,j,valor:)\", (i,j,i*j))"
   ]
  },
  {
   "cell_type": "markdown",
   "id": "5ad93329",
   "metadata": {},
   "source": [
    "3. Mediante un print() muestre la suma, el promedio, la mediana y la desviación estándar de la lista guardada en 2. "
   ]
  },
  {
   "cell_type": "code",
   "execution_count": 9,
   "id": "fe27ef37",
   "metadata": {},
   "outputs": [
    {
     "name": "stdout",
     "output_type": "stream",
     "text": [
      "suma: 165825000.00000206\n",
      "promedio: 2475.0\n",
      "mediana: 1839.3393393393394\n",
      "std: 2202.8088300489767\n"
     ]
    }
   ],
   "source": [
    "#Suma\n",
    "print(\"suma:\", sum(lista))\n",
    "sum_list = sum(lista)\n",
    "#Promedio\n",
    "print(\"promedio:\", np.mean(lista))\n",
    "#Mediana\n",
    "print(\"mediana:\", np.median(lista))\n",
    "#Std\n",
    "print(\"std:\", np.std(lista))"
   ]
  },
  {
   "cell_type": "markdown",
   "id": "11894047",
   "metadata": {},
   "source": [
    "4. Crear una rutina que permita las siguientes operaciones: \n",
    "    1. Solicitar el número de mascotas (con input()), guardar en una variable. \n",
    "    2. Si el número de mascotas es cero: imprimir \"No tiene mascotas.\"\n",
    "    3. Si el número es entre 1-3: imprimir \"Tiene entre 1-3 mascotas.\"\n",
    "    4. Si el número es entre 4-6: imprimir \"Tiene entre 4-6 mascotas.\"\n",
    "    5. Si el número es mayor que 6: imprimir \"Tiene más de 6 mascotas\". \n",
    "    6. Si el número es negativo: imprimir \"No corresponde\". \n",
    "    \n",
    "    *Probar que su rutina cumple bien todas las condiciones. *\n",
    "    \n"
   ]
  },
  {
   "cell_type": "code",
   "execution_count": 17,
   "id": "7b9e1230",
   "metadata": {},
   "outputs": [
    {
     "name": "stdin",
     "output_type": "stream",
     "text": [
      "¿Cuántas mascotas tiene? 10\n"
     ]
    },
    {
     "name": "stdout",
     "output_type": "stream",
     "text": [
      "Tiene más de 6 mascotas\n"
     ]
    }
   ],
   "source": [
    "#solicitar el número de mascotas\n",
    "mascotas = int(input(\"¿Cuántas mascotas tiene?\")) #int->enteros, float\n",
    "if mascotas == 0:\n",
    "    print(\"No tiene mascotas\")\n",
    "elif mascotas>0 and mascotas<=3: \n",
    "    print(\"Tiene entre 1-3 mascotas\")\n",
    "elif mascotas>3 and mascotas<=6: \n",
    "    print(\"Tiene entre 4-6 mascotas\")    \n",
    "elif mascotas>6: \n",
    "    print(\"Tiene más de 6 mascotas\")\n",
    "elif mascotas<0:\n",
    "    print(\"No corresponde\")\n",
    "else: \n",
    "    print(\"otro caso\")"
   ]
  },
  {
   "cell_type": "markdown",
   "id": "fcd756e1",
   "metadata": {},
   "source": [
    "5. Crear dos listas, una con estilo musical (blues, rock, rap, trap, pop) y otra con grupos (Nina Simone, Led Zeppelin, Makiza, Pablo Chill-e, Dua Lipa). Luego crear una función que tenga como input \"estilo\" y output \"recomendacion\". La función debe permitir: \n",
    "    1. Leer el input estilo y compararlo con la lista de estilo musical. \n",
    "    2. Utilizar if/elif/else para crear condiciones que recomiende música. Por ejemplo, si estilo es igual a Blues, recomendar Nina Simone.\n",
    "    4. Si el estilo no está en la lista de estilo musical, debe mostrar \"No tenemos recomendación para su estilo musical\". \n",
    "    3. El output debe ser la recomendación. \n",
    "    \n",
    "    *Evaluar si la función se ejecuta correctamente para cada estilo musical*\n",
    "    \n"
   ]
  },
  {
   "cell_type": "code",
   "execution_count": 27,
   "id": "415d28a8",
   "metadata": {},
   "outputs": [
    {
     "name": "stdout",
     "output_type": "stream",
     "text": [
      "Dua Lipa\n"
     ]
    }
   ],
   "source": [
    "#Opción 1: input -> print de algo. Función no tiene un retorno\n",
    "def recomendacion(estilo):\n",
    "    if estilo == \"blues\":\n",
    "        print(\"Nina Simone\")\n",
    "    elif estilo == \"rock\":\n",
    "        print(\"Led Zeppelin\")\n",
    "    elif estilo == \"rap\":\n",
    "        print(\"Makiza\")        \n",
    "    elif estilo == \"trap\":\n",
    "        print(\"Pablo Chill-e\")  \n",
    "    elif estilo == \"pop\":\n",
    "        print(\"Dua Lipa\")    \n",
    "    else: \n",
    "        print(\"No tenemos recomendación para su estilo musical\")\n",
    "        \n",
    "#Llamar la función (como no está indentado, no está dentro de la funcióin anterior)        \n",
    "grupo_rec = recomendacion(\"pop\")"
   ]
  },
  {
   "cell_type": "code",
   "execution_count": 35,
   "id": "4b585566",
   "metadata": {},
   "outputs": [
    {
     "name": "stdout",
     "output_type": "stream",
     "text": [
      "No tenemos recomendación para su estilo musical\n"
     ]
    },
    {
     "data": {
      "text/plain": [
       "0"
      ]
     },
     "execution_count": 35,
     "metadata": {},
     "output_type": "execute_result"
    }
   ],
   "source": [
    "#Opción 2: input -> output\n",
    "def recomendacion(estilo):\n",
    "    \n",
    "    recomend = 0\n",
    "    if estilo == \"blues\": \n",
    "        #La variable recomend se crea cuando se cumple esta condición\n",
    "        recomend = \"Nina Simone\"\n",
    "    elif estilo == \"rock\":\n",
    "        recomend = \"Led Zeppelin\"        \n",
    "    elif estilo == \"rap\":\n",
    "        recomend = \"Makiza\"                 \n",
    "    elif estilo == \"trap\":\n",
    "        recomend = \"Pablo Chill-e\"           \n",
    "    elif estilo == \"pop\":\n",
    "        recomend = \"Dua Lipa\"                  \n",
    "    else: \n",
    "#         recomend = \"No tenemos recomendación para su estilo musical\"        \n",
    "        print(\"No tenemos recomendación para su estilo musical\")\n",
    "        \n",
    "    return recomend\n",
    "        \n",
    "recomend = recomendacion(\"asdasd\")\n",
    "recomend"
   ]
  },
  {
   "cell_type": "code",
   "execution_count": 44,
   "id": "3b128b64",
   "metadata": {},
   "outputs": [
    {
     "data": {
      "text/plain": [
       "'No tenemos recomendación'"
      ]
     },
     "execution_count": 44,
     "metadata": {},
     "output_type": "execute_result"
    }
   ],
   "source": [
    "#Opción 3\n",
    "#Definir las variables como listas\n",
    "estilos = [\"blues\", \"rock\", \"rap\", \"trap\", \"pop\"]\n",
    "grupos = [\"Nina Simone\", \"Led Zeppelin\", \"Makiza\", \"Pablo Chill-e\", \"Dua Lipa\"]\n",
    "\n",
    "def recomendacion(estilo_input):\n",
    "    for i in range(len(estilos)): #iteramos sobre las posiciones\n",
    "        #Si el estilo_input es igual al elemento i de la lista de estilos\n",
    "        if estilo_input == estilos[i]:\n",
    "            recomend = grupos[i]\n",
    "            break #condición de salida\n",
    "        else: \n",
    "            recomend = \"No tenemos recomendación\"\n",
    "    return recomend\n",
    "\n",
    "varios_estilos = [\"rock, pop\"]\n",
    "recomendacion(varios_estilos)          "
   ]
  },
  {
   "cell_type": "markdown",
   "id": "d731f6a5",
   "metadata": {},
   "source": [
    "6. Crear una función que permita evaluar hasta tres estilos musicales y entregue una lista con las recomendaciones. Por ejemplo, si le entrego una lista con [rock, rap, pop] me debe retornar [Led Zeppelin, Makiza, Dua Lipa]. Adicionalmente: \n",
    "    - Si le entrego una lista con 1 o 2 estilos musicales debe entregar 1 o 2 recomendaciones respectivamente. \n",
    "    - Si le entrego una lista del tipo [trap, musica clasica] debe retornar la recomendación para trap [Pablo Chill-e]. \n",
    "    - Si le entrego una lista del tipo [musica clasica] debe retornar un mensaje \"no tenemos recomendación para su estilo musical\". \n",
    "    \n"
   ]
  },
  {
   "cell_type": "markdown",
   "id": "31c53bf1",
   "metadata": {},
   "source": [
    "1. \"blues\": igual a la pregunta anterior -> lo mismo para cualquier otro estilo que entra sólo como un texto\n",
    "2. [\"blues\"]: \n",
    "    - si el largo del input == 1 : porque los input pueden ser de largo 1, 2 o 3\n",
    "    - iteramos sobre el total de estilos\n",
    "    - si esl input (estilo) es la posición cero (primer elemento) es igual al valor de los estilos\n",
    "    - output: guardar el grupo en la posición \"i\". -> el largo del output es =1\n",
    "    - cierre\n",
    "2. [\"blues\", \"rock\"]: \n",
    "    - si el largo del input ==2: \n",
    "    - crear una lista vacía para guardar las recomendaciones (pueden ser de largo 2, 1)\n",
    "    - iteramos sobre el total de elementos de estilos\n",
    "    - Comparamos el primer input con los estilos: \"blues\" - > \"Nina Simone\" \n",
    "    - Si son iguales, guardar la recomendación. En caso contrario no hace nada\n",
    "    - Repetir el proceso para el segundo elemento\n",
    "    - Cierre\n",
    "3. [\"blues\", \"rock\", \"pop\"]:\n",
    "    -La lógica es la misma que en el punto anterior."
   ]
  },
  {
   "cell_type": "code",
   "execution_count": 69,
   "id": "69053d0a",
   "metadata": {},
   "outputs": [
    {
     "data": {
      "text/plain": [
       "'No tenemos recomendación'"
      ]
     },
     "execution_count": 69,
     "metadata": {},
     "output_type": "execute_result"
    }
   ],
   "source": [
    "#Definir las variables como listas\n",
    "estilos = [\"blues\", \"rock\", \"rap\", \"trap\", \"pop\"]\n",
    "grupos = [\"Nina Simone\", \"Led Zeppelin\", \"Makiza\", \"Pablo Chill-e\", \"Dua Lipa\"]\n",
    "\n",
    "\n",
    "def fun_recomend(estilo_in):\n",
    "    #Caso 1: entrada es como texto: \"blues\"\n",
    "    if type(estilo_in) == str:\n",
    "        for i in range(len(estilos)):#iteramos sobre la posición en el vector de estilos\n",
    "            if estilo_in == estilos[i]: \n",
    "                recomend = grupos[i]\n",
    "                break\n",
    "            else: \n",
    "                recomend = \"No tenemos recomendación\"\n",
    "                \n",
    "    #Caso 2: Para todo lo demás, trabajamos como lista\n",
    "    else: \n",
    "        #Caso 2.1: 1 estilo musical\n",
    "        recomend = 0\n",
    "        if len(estilo_in) == 1: \n",
    "            for i in range(len(estilos)):#iteramos sobre la posición en el vector de estilos      \n",
    "                if estilo_in[0] == estilos[i] : #Comparamos el primer valor (sólo hay uno) con todos los elementos del vector de estilos hasta que se cumpla\n",
    "                    recomend = grupos[i] #Guardamos el grupo\n",
    "                    break\n",
    "                else: \n",
    "                    recomend = \"No tenemos recomendación\"\n",
    "                    \n",
    "        #Caso 2.2: 2 estilos musicales            \n",
    "        elif len(estilo_in) == 2: \n",
    "            recomend = []\n",
    "            for i in range(len(estilos)): #iteramos sobre la posición en el vector de estilos  \n",
    "                if estilo_in[0] == estilos[i]: #Evaluamos el primer elemento del input\n",
    "                    recomend.append(grupos[i]) #Si se cumple, agrega a la recomendación a la lista\n",
    "\n",
    "                elif estilo_in[1] == estilos[i]:#Evaluamos el segundo elemento del input\n",
    "                    recomend.append(grupos[i]) #Si se cumple, agrega a la recomendación a la lista\n",
    "                    \n",
    "                else: \n",
    "                    recomend = \"No tenemos recomendación\"\n",
    "                    \n",
    "                    \n",
    "                \n",
    "    return recomend\n",
    "                \n",
    "fun_recomend([\"algo\", \"alog\"])"
   ]
  },
  {
   "cell_type": "code",
   "execution_count": 46,
   "id": "7aedef2f",
   "metadata": {},
   "outputs": [
    {
     "data": {
      "text/plain": [
       "str"
      ]
     },
     "execution_count": 46,
     "metadata": {},
     "output_type": "execute_result"
    }
   ],
   "source": [
    "type(\"hola\")"
   ]
  },
  {
   "cell_type": "markdown",
   "id": "e716057e",
   "metadata": {},
   "source": [
    "7. Crear una diccionario a partir de las dos listas donde la llave sea el estilo musical y el valor sea el grupo, ej: {'rap':'makiza'...}. \n",
    "\n"
   ]
  },
  {
   "cell_type": "code",
   "execution_count": 75,
   "id": "628837ce",
   "metadata": {},
   "outputs": [
    {
     "data": {
      "text/plain": [
       "dict_items([('blues', ['Nina Simone', 'Miles Davis']), ('rock', 'Led Zeppelin'), ('rap', 'Makiza'), ('trap', 'Pablo Chill-e'), ('pop', 'Dua Lipa')])"
      ]
     },
     "execution_count": 75,
     "metadata": {},
     "output_type": "execute_result"
    }
   ],
   "source": [
    "#diccionario: {llave1:valor1, llave2:valor2}...\n",
    "musica_dic = {'blues':['Nina Simone', 'Miles Davis'], 'rock':'Led Zeppelin', 'rap':'Makiza', 'trap':'Pablo Chill-e', 'pop':'Dua Lipa'  }\n",
    "musica_dic.items()"
   ]
  },
  {
   "cell_type": "markdown",
   "id": "b6ea9e55",
   "metadata": {},
   "source": [
    "8. Crear una función que entregue una edad como un valor aleatorio entre 15-65 años y educación como otro valor aleatorio entre 0-22, pero tiene que ser menor que la edad. "
   ]
  },
  {
   "cell_type": "code",
   "execution_count": 76,
   "id": "aa66dba3",
   "metadata": {},
   "outputs": [],
   "source": [
    "import random #Tiene un set de funciones sobre números aleatorios"
   ]
  },
  {
   "cell_type": "code",
   "execution_count": 134,
   "id": "38b60273",
   "metadata": {},
   "outputs": [
    {
     "name": "stdout",
     "output_type": "stream",
     "text": [
      "edad: 34\n",
      "educ: 46\n"
     ]
    }
   ],
   "source": [
    "#Caso1: una sola persona\n",
    "def fun_edad_educ(eda_in, eda_end, edu_in, edu_end): \n",
    "    edad = random.randint(eda_in, eda_end)\n",
    "    educ = random.randint(edu_in, edu_end)    \n",
    "    \n",
    "    if edad < educ: #Si la edad es< a la educación, calculamos nuevamente la educación\n",
    "        educ = random.randint(edu_in, edu_end)    \n",
    "    \n",
    "    return edad, educ #Devuelve las variables locales\n",
    "\n",
    "edad, educ = fun_edad_educ(15, 65, 0, 50) #Creamos las variables globales\n",
    "print(\"edad:\", edad)\n",
    "print(\"educ:\", educ)"
   ]
  },
  {
   "cell_type": "code",
   "execution_count": 151,
   "id": "d5fbd4d2",
   "metadata": {},
   "outputs": [
    {
     "name": "stdout",
     "output_type": "stream",
     "text": [
      "edad: 48\n",
      "educ: 24\n"
     ]
    }
   ],
   "source": [
    "#Caso2: una sola persona\n",
    "def fun_edad_educ(eda_in, eda_end, edu_in, edu_end): \n",
    "    edad = random.randint(eda_in, eda_end)\n",
    "    educ = random.randint(edu_in, edu_end)    \n",
    "    \n",
    "    while edad<educ: \n",
    "        edad = random.randint(eda_in, eda_end)\n",
    "        educ = random.randint(edu_in, edu_end)      \n",
    "        \n",
    "    return edad, educ\n",
    "\n",
    "edad, educ = fun_edad_educ(15, 65, 0, 50) #Creamos las variables globales\n",
    "print(\"edad:\", edad)\n",
    "print(\"educ:\", educ)    "
   ]
  },
  {
   "cell_type": "code",
   "execution_count": 156,
   "id": "465a7d44",
   "metadata": {},
   "outputs": [
    {
     "name": "stdout",
     "output_type": "stream",
     "text": [
      "edad: [31, 28, 55, 46, 54, 48, 52, 34, 56, 36]\n",
      "educ: [11, 35, 24, 10, 30, 28, 48, 13, 35, 13]\n"
     ]
    }
   ],
   "source": [
    "#Caso 3: n personas\n",
    "def fun_edad_educ(N, eda_in, eda_end, edu_in, edu_end): \n",
    "    \n",
    "    edad_list = []\n",
    "    educ_list = []\n",
    "    for i  in range(N):\n",
    "        #ACA X \n",
    "        edad = random.randint(eda_in, eda_end)\n",
    "        educ = random.randint(edu_in, edu_end)    \n",
    "        #ACA X\n",
    "        if edad < educ: #Si la edad es< a la educación, calculamos nuevamente la educación\n",
    "            educ = random.randint(edu_in, edu_end)    \n",
    "            #ACA podría ser\n",
    "        #ACA vamos a anexar a nuestras listas\n",
    "        edad_list.append(edad)\n",
    "        educ_list.append(educ)\n",
    "        \n",
    "    \n",
    "    return edad_list, educ_list #Devuelve las variables locales\n",
    "\n",
    "edad, educ = fun_edad_educ(10, 15, 65, 0, 50) #Creamos las variables globales\n",
    "print(\"edad:\", edad)\n",
    "print(\"educ:\", educ)"
   ]
  },
  {
   "cell_type": "code",
   "execution_count": 161,
   "id": "581b89bb",
   "metadata": {},
   "outputs": [
    {
     "name": "stdout",
     "output_type": "stream",
     "text": [
      "edad: [60 17 42 30 50 45 42 31 30 47]\n",
      "educ: [12 10 19  7  8 14  0  5 15  6]\n"
     ]
    }
   ],
   "source": [
    "#Caso4: varias personas\n",
    "def fun_edad_educ(N, eda_in, eda_end, edu_in, edu_end): \n",
    "    \n",
    "    edad_list = []\n",
    "    educ_list = []\n",
    "    \n",
    "    #Iterar\n",
    "    for i in range(N):\n",
    "        edad = random.randint(eda_in, eda_end)\n",
    "        educ = random.randint(edu_in, edu_end)    \n",
    "\n",
    "        while edad<educ: \n",
    "            edad = random.randint(eda_in, eda_end)\n",
    "            educ = random.randint(edu_in, edu_end) \n",
    "            \n",
    "        #ACA vamos a anexar a nuestras listas (RECORDAR QUE ESTAMOS DENTRO DEL FOR)\n",
    "        edad_list.append(edad)\n",
    "        educ_list.append(educ)        \n",
    "        \n",
    "    return np.array(edad_list), np.array(educ_list)\n",
    "\n",
    "edad, educ = fun_edad_educ(10, 15, 65, 0, 22) #Creamos las variables globales\n",
    "print(\"edad:\", edad)\n",
    "print(\"educ:\", educ)    "
   ]
  },
  {
   "cell_type": "markdown",
   "id": "8505f81c",
   "metadata": {},
   "source": [
    "9. Crear una función que calcule la experiencia como edad-educación"
   ]
  },
  {
   "cell_type": "code",
   "execution_count": 165,
   "id": "f6151dc4",
   "metadata": {},
   "outputs": [
    {
     "data": {
      "text/plain": [
       "array([48,  7, 23, 23, 42, 31, 42, 26, 15, 41])"
      ]
     },
     "execution_count": 165,
     "metadata": {},
     "output_type": "execute_result"
    }
   ],
   "source": [
    "def fun_exp(edad, educ): \n",
    "    return edad-educ\n",
    "\n",
    "exp = fun_exp(edad, educ)\n",
    "exp"
   ]
  },
  {
   "cell_type": "markdown",
   "id": "0359119d",
   "metadata": {},
   "source": [
    "10. Crear una función que calcule la estimación del ingreso según la ecuación de `Mincer`: $Ln(Y) = \\beta_0 + \\beta_1 S + \\beta_2 Exp + \\beta_3 Exp^2$\n",
    "Donde: \n",
    "- $S$: años de educación\n",
    "- $Exp$: experiencia\n",
    "- $Exp^2$: experiencia al cuadrado\n",
    "\n",
    "Utilice: $\\beta_0=9.7$, $\\beta_1=0.14$, $\\beta_2=0.07$, $\\beta_3=-0.001$"
   ]
  },
  {
   "cell_type": "code",
   "execution_count": 168,
   "id": "60c438ce",
   "metadata": {},
   "outputs": [
    {
     "data": {
      "text/plain": [
       "array([12.436, 11.541, 13.441, 11.761, 11.996, 12.869, 10.876, 11.544,\n",
       "       12.625, 11.729])"
      ]
     },
     "execution_count": 168,
     "metadata": {},
     "output_type": "execute_result"
    }
   ],
   "source": [
    "def mincer(S, Exp): \n",
    "    β0, β1, β2, β3 = 9.7, 0.14, 0.07, -0.001\n",
    "    y_ln = β0 + β1*S + β2*Exp + β3*Exp**2\n",
    "    return y_ln\n",
    "\n",
    "ln_y = mincer(educ, exp)\n",
    "ln_y"
   ]
  },
  {
   "cell_type": "code",
   "execution_count": 171,
   "id": "19d7b3af",
   "metadata": {},
   "outputs": [
    {
     "data": {
      "text/plain": [
       "[<matplotlib.lines.Line2D at 0x7f9636e62d90>]"
      ]
     },
     "execution_count": 171,
     "metadata": {},
     "output_type": "execute_result"
    },
    {
     "data": {
      "image/png": "[encoded data removed]",
      "text/plain": [
       "<Figure size 432x288 with 1 Axes>"
      ]
     },
     "metadata": {
      "needs_background": "light"
     },
     "output_type": "display_data"
    }
   ],
   "source": [
    "import matplotlib.pyplot as plt\n",
    "plt.plot(exp, exp, 'o')"
   ]
  },
  {
   "cell_type": "markdown",
   "id": "9e4f11e4",
   "metadata": {},
   "source": [
    "## Actividad\n",
    "**Instrucciones:** \n",
    "- \n",
    "- Cada pregunta la debe responder en una celda diferente (en total 4 celdas de código). \n",
    "- Antes de cada celda de código debe ir un `markdown` que muestre la pregunta que está respondiendo. \n",
    "- En la celda de código debe agregar un breve comentario de qué está haciendo. \n",
    "- Mandar el archivo **PDF** al correo felix.ordonez@usach.cl con el asunto \"Actividad 1\".\n",
    "- Fecha de entrega: antes de la clase del 09/11. \n",
    "- *En caso que no respete las instrucciones se le descontará puntaje de la nota*\n",
    "\n",
    "\n",
    "**Nombre:**"
   ]
  },
  {
   "cell_type": "markdown",
   "id": "115013af",
   "metadata": {},
   "source": [
    "1. Crear una función que entregue una edad como un valor aleatorio entre 15-65 años, educación como otro valor aleatorio entre 0-22 (tiene que ser menor que la edad) y sexo igual a una variable dicotómica (0 o 1) aleatoria. \n",
    "2. Crear una función que calcule la experiencia como edad-educación\n",
    "3. Crear una función que calcule la estimación del ingreso según la ecuación de Mincer: $Ln(y)=\\beta_0+\\beta_1S+\\beta_2Exp+\\beta_3Exp^2 + \\beta_4 Sexo + \\beta_5(Sexo*S)$\n",
    "\n",
    "Donde: \n",
    "- $S$: años de educación\n",
    "- $Exp$: experiencia\n",
    "- $Exp^2$: experiencia al cuadrado\n",
    "\n",
    "Utilice: $\\beta_0=9.7$, $\\beta_1=0.15$, $\\beta_2=0.08$, $\\beta_3=-0.0011$, $\\beta_4=-0.15$, $\\beta_5=-0.0136$\n",
    "\n",
    "\n",
    "4. Relice el proceso en una iteración para N = 100 personas, guarde los resultados mediante un diccionario que la llave sea la persona ($n=1,\\cdots,N$) y el valor sea una lista del tipo: [S, Exp, Exp2, Sexo, Sexo*S, Ln(y)]. \n",
    "*Muestre los resultados de su diccionario*."
   ]
  },
  {
   "cell_type": "code",
   "execution_count": null,
   "id": "aea81a98",
   "metadata": {},
   "outputs": [],
   "source": []
  }
 ],
 "metadata": {
  "kernelspec": {
   "display_name": "Python 3",
   "language": "python",
   "name": "python3"
  },
  "language_info": {
   "codemirror_mode": {
    "name": "ipython",
    "version": 3
   },
   "file_extension": ".py",
   "mimetype": "text/x-python",
   "name": "python",
   "nbconvert_exporter": "python",
   "pygments_lexer": "ipython3",
   "version": "3.9.1"
  }
 },
 "nbformat": 4,
 "nbformat_minor": 5
}
