{
 "cells": [
  {
   "cell_type": "markdown",
   "id": "d4d82352",
   "metadata": {},
   "source": [
    "# Clase 7-8\n",
    "Repaso conceptos clave: \n",
    "- Librería: Colección de modulos. Nos sirve para implementar funciones que permiten tareas específicas como: operaciones matemáticas, gráficos, procesar datos, etc. \n",
    "- Variables: elemento que amacena información de diferentes types. \n",
    "- Types: Tipos de información que podemos utilizar: texto, numérico, secuencial, boolean, etc. \n",
    "- Listas: Contenedor de información. Permite almacenar diferentes types. \n",
    "- Loops: iteraciones que vamos a llamar mediante la palabra **for**. \n",
    "\n",
    "## Contenidos de la clase: \n",
    "- Loops\n",
    "- Input/output\n",
    "- If \n",
    "- Crear funciones \n",
    "- Diccionarios"
   ]
  },
  {
   "cell_type": "markdown",
   "id": "116842c4",
   "metadata": {},
   "source": [
    "## 1. Loops\n",
    "\n",
    "Podemos iterar sobre un rango de valores (a,b). Recordar que la iteración incluye a y no incluye b. "
   ]
  },
  {
   "cell_type": "code",
   "execution_count": 1,
   "id": "e67fd3fe",
   "metadata": {},
   "outputs": [
    {
     "name": "stdout",
     "output_type": "stream",
     "text": [
      "5\n",
      "6\n",
      "7\n",
      "8\n",
      "9\n"
     ]
    }
   ],
   "source": [
    "# Iterar sobre un rango de valores\n",
    "for i in range(5, 10): \n",
    "    print(i)"
   ]
  },
  {
   "cell_type": "markdown",
   "id": "ea2fd9c6",
   "metadata": {},
   "source": [
    "Si creamos una variable antes de la iteración podemos modificarla con cada iteración. \n",
    "Veamos tres ejemplos con x, y, z: "
   ]
  },
  {
   "cell_type": "code",
   "execution_count": 2,
   "id": "62c50f1e",
   "metadata": {},
   "outputs": [
    {
     "name": "stdout",
     "output_type": "stream",
     "text": [
      "i: 1 , x= 1 , y= 1 , z= 1\n",
      "i: 2 , x= 3 , y= 2 , z= 2\n",
      "i: 3 , x= 6 , y= 3 , z= 3\n",
      "i: 4 , x= 10 , y= 4 , z= 4\n"
     ]
    }
   ],
   "source": [
    "# Creamos x y y fuera de la iteración\n",
    "x = 0 \n",
    "y = 0\n",
    "for i in range(1, 5): \n",
    "    z = 0 #creamos z dentro de la iteración\n",
    "    x = x + i\n",
    "    y = i \n",
    "    z = z + i\n",
    "    print(\"i:\", i, \", x=\", x, \", y=\", y, \", z=\", z)"
   ]
  },
  {
   "cell_type": "markdown",
   "id": "2c9c9ea1",
   "metadata": {},
   "source": [
    "Podemos utilizar iteraciones dentro de iteraciones, esto nos puede servir para trabajar con diferentes fuentes de información. \n",
    "\n",
    "La clase pasada vimos como crear una lista manualmente, ahora dos ejemplos para crear una lista numérica (array) entre un rango de valores: "
   ]
  },
  {
   "cell_type": "code",
   "execution_count": 3,
   "id": "3c79ab7f",
   "metadata": {},
   "outputs": [
    {
     "name": "stdout",
     "output_type": "stream",
     "text": [
      "type de a: <class 'numpy.ndarray'>\n",
      "a:  [ 1.    3.25  5.5   7.75 10.  ]\n",
      "type de b: <class 'numpy.ndarray'>\n",
      "b:  [1 3 5 7 9]\n"
     ]
    }
   ],
   "source": [
    "import numpy as np\n",
    "#linspace(inicio, término, cantidad de elementos)\n",
    "a = np.linspace(1, 10, 5)\n",
    "print(\"type de a:\", type(a))\n",
    "print(\"a: \", a)\n",
    "#arange(inicio, término, separador)\n",
    "b = np.arange(1, 10,2)\n",
    "print(\"type de b:\", type(b))\n",
    "print(\"b: \", b)"
   ]
  },
  {
   "cell_type": "code",
   "execution_count": 4,
   "id": "e56df356",
   "metadata": {},
   "outputs": [
    {
     "data": {
      "text/plain": [
       "0.0999000999000999"
      ]
     },
     "execution_count": 4,
     "metadata": {},
     "output_type": "execute_result"
    }
   ],
   "source": [
    "import numpy as np\n",
    "inicio = 0\n",
    "termino = 100\n",
    "cantidad = 1001\n",
    "\n",
    "np.linspace(inicio, termino, cantidad)\n",
    "\n",
    "(termino-inicio)/cantidad"
   ]
  },
  {
   "cell_type": "markdown",
   "id": "cda9adda",
   "metadata": {},
   "source": [
    "Vamos a utilizar estas listas para crear un `for anidado` y guardar un resultado en una lista"
   ]
  },
  {
   "cell_type": "markdown",
   "id": "68c3ba6a",
   "metadata": {},
   "source": [
    "**Recorrer los elementos de la lista**"
   ]
  },
  {
   "cell_type": "code",
   "execution_count": 5,
   "id": "d4caa226",
   "metadata": {},
   "outputs": [
    {
     "name": "stdout",
     "output_type": "stream",
     "text": [
      "1\n",
      "3\n",
      "5\n",
      "7\n",
      "9\n"
     ]
    }
   ],
   "source": [
    "for i in b: \n",
    "    print(i)\n",
    "    \n",
    "    "
   ]
  },
  {
   "cell_type": "code",
   "execution_count": 6,
   "id": "4b9de619",
   "metadata": {},
   "outputs": [
    {
     "name": "stdout",
     "output_type": "stream",
     "text": [
      "[ 1.    3.25  5.5   7.75 10.  ]\n",
      "[1 3 5 7 9]\n"
     ]
    }
   ],
   "source": [
    "print(a)\n",
    "print(b)"
   ]
  },
  {
   "cell_type": "code",
   "execution_count": 7,
   "id": "13f6ce7e",
   "metadata": {},
   "outputs": [
    {
     "name": "stdout",
     "output_type": "stream",
     "text": [
      "[1.0, 3.0, 5.0, 7.0, 9.0, 3.25, 9.75, 16.25, 22.75, 29.25, 5.5, 16.5, 27.5, 38.5, 49.5, 7.75, 23.25, 38.75, 54.25, 69.75, 10.0, 30.0, 50.0, 70.0, 90.0]\n"
     ]
    }
   ],
   "source": [
    "#1. Creamos una lista\n",
    "lista1 = []\n",
    "#2. Iteramos sobre los valoes de a y b\n",
    "for i in a: \n",
    "    for j in b: \n",
    "        #3. Anexamos una operación a la lista\n",
    "#         print((i, j), \"multiplicacion:\", i * j)\n",
    "        lista1.append(i * j) \n",
    "print(lista1)"
   ]
  },
  {
   "cell_type": "markdown",
   "id": "56394bd7",
   "metadata": {},
   "source": [
    "Otra forma de hacer la misma operación"
   ]
  },
  {
   "cell_type": "code",
   "execution_count": 8,
   "id": "aa010991",
   "metadata": {},
   "outputs": [
    {
     "name": "stdout",
     "output_type": "stream",
     "text": [
      "[1.0, 3.0, 5.0, 7.0, 9.0, 3.25, 9.75, 16.25, 22.75, 29.25, 5.5, 16.5, 27.5, 38.5, 49.5, 7.75, 23.25, 38.75, 54.25, 69.75, 10.0, 30.0, 50.0, 70.0, 90.0]\n",
      "suma de la lista: 687.5\n"
     ]
    }
   ],
   "source": [
    "#1. Creamos una lista\n",
    "lista2 = []\n",
    "#2. Iteramos sobre el largo de las listas a y b\n",
    "for i in range(0, len(a)): \n",
    "    for j in range(0, len(b)): \n",
    "        #3. Anexamos una operación a la lista\n",
    "        lista2.append(a[i] * b[j]) \n",
    "print(lista2)\n",
    "\n",
    "#Podemos sumar los valores de una lista con sum()\n",
    "print(\"suma de la lista:\", sum(lista2))"
   ]
  },
  {
   "cell_type": "markdown",
   "id": "7507624e",
   "metadata": {},
   "source": [
    "Son iguales la lista 1 y lista 2?"
   ]
  },
  {
   "cell_type": "code",
   "execution_count": 9,
   "id": "aa5674c6",
   "metadata": {},
   "outputs": [
    {
     "data": {
      "text/plain": [
       "True"
      ]
     },
     "execution_count": 9,
     "metadata": {},
     "output_type": "execute_result"
    }
   ],
   "source": [
    "lista1 == lista2"
   ]
  },
  {
   "cell_type": "markdown",
   "id": "c4b905b7",
   "metadata": {},
   "source": [
    "## 2. Input/Output\n",
    "\n",
    "La función input() nos va a pedir entregar un valor. Esto es útil cuando necesitamos que el usuario nos reporte algún dato."
   ]
  },
  {
   "cell_type": "code",
   "execution_count": 10,
   "id": "66f6a2de",
   "metadata": {},
   "outputs": [
    {
     "name": "stdin",
     "output_type": "stream",
     "text": [
      " 10\n"
     ]
    },
    {
     "data": {
      "text/plain": [
       "'10'"
      ]
     },
     "execution_count": 10,
     "metadata": {},
     "output_type": "execute_result"
    }
   ],
   "source": [
    "input()"
   ]
  },
  {
   "cell_type": "markdown",
   "id": "299f496c",
   "metadata": {},
   "source": [
    "Podemos incorporar un texto referente a la información solicitada"
   ]
  },
  {
   "cell_type": "code",
   "execution_count": 11,
   "id": "d53c7732",
   "metadata": {},
   "outputs": [
    {
     "name": "stdin",
     "output_type": "stream",
     "text": [
      "Indique su edad: 10\n"
     ]
    },
    {
     "data": {
      "text/plain": [
       "'10'"
      ]
     },
     "execution_count": 11,
     "metadata": {},
     "output_type": "execute_result"
    }
   ],
   "source": [
    "input(\"Indique su edad:\")"
   ]
  },
  {
   "cell_type": "markdown",
   "id": "590db1d7",
   "metadata": {},
   "source": [
    "¿Podemos guardar la información?"
   ]
  },
  {
   "cell_type": "code",
   "execution_count": 12,
   "id": "9e08dd9b",
   "metadata": {},
   "outputs": [
    {
     "name": "stdin",
     "output_type": "stream",
     "text": [
      "indique su edad: 10\n"
     ]
    }
   ],
   "source": [
    "edad = input(\"indique su edad:\") \n",
    "#Es una variable del tipo string\n",
    "#¿Cómo la pasamos a una variable numérica?\n",
    "#Con int() o float()"
   ]
  },
  {
   "cell_type": "code",
   "execution_count": 13,
   "id": "89f7b991",
   "metadata": {},
   "outputs": [
    {
     "name": "stdout",
     "output_type": "stream",
     "text": [
      "10\n"
     ]
    }
   ],
   "source": [
    "print(edad)"
   ]
  },
  {
   "cell_type": "markdown",
   "id": "ea8c863f",
   "metadata": {},
   "source": [
    "## 3. If/else\n",
    "\n",
    "La operación `if` nos permite evaluar si se cumple una condición. \n",
    "\n",
    "Por ejemplo: **Iteramos sobre una lista entre (0, 10), si el valor es mayor que 5 muestra el resultado**. \n",
    "\n",
    "- Iteramos sobre una lista entre (0, 10): hacemos un *for* entre 0 y 10. \n",
    "- si el valor es mayor que 5: condición\n",
    "- muestra el resultado: operación "
   ]
  },
  {
   "cell_type": "code",
   "execution_count": 14,
   "id": "6bde0a9f",
   "metadata": {},
   "outputs": [
    {
     "name": "stdout",
     "output_type": "stream",
     "text": [
      "6\n",
      "7\n",
      "8\n",
      "9\n"
     ]
    }
   ],
   "source": [
    "for i in range(0, 10): #iteración\n",
    "    if i > 5: #condición\n",
    "        print(i) #operación"
   ]
  },
  {
   "cell_type": "markdown",
   "id": "dee88bd5",
   "metadata": {},
   "source": [
    "¿Qué tipo de operaciones podemos evaluar? \n",
    "Operaciones lógicas: \n",
    "- Igualdad: == \n",
    "- Desigualdad: != \n",
    "- Mayor: >\n",
    "- Mayor que: >= \n",
    "- Menor: <\n",
    "- Menor que: <="
   ]
  },
  {
   "cell_type": "code",
   "execution_count": 15,
   "id": "feb8639a",
   "metadata": {},
   "outputs": [
    {
     "name": "stdout",
     "output_type": "stream",
     "text": [
      "10\n"
     ]
    }
   ],
   "source": [
    "a = 10 \n",
    "if a==10: \n",
    "    x = a\n",
    "print(x)"
   ]
  },
  {
   "cell_type": "markdown",
   "id": "de8289a3",
   "metadata": {},
   "source": [
    "Operaciones conjuntas con \"or\" y \"and\""
   ]
  },
  {
   "cell_type": "code",
   "execution_count": 16,
   "id": "51e374ae",
   "metadata": {},
   "outputs": [
    {
     "name": "stdout",
     "output_type": "stream",
     "text": [
      "(10, 10)\n"
     ]
    }
   ],
   "source": [
    "if a == 10 and x >= 5: \n",
    "    print((a, x))"
   ]
  },
  {
   "cell_type": "markdown",
   "id": "349b20c5",
   "metadata": {},
   "source": [
    "Para evaluar varias situaciones vamos a usar if, elif y else. \n",
    "\n",
    "Ejemplo: \n",
    "Vamos a crear una lista A utilizando valores de una segunda lista B con valores entre 0-10. Vamos a iterar sobre los valores de la lista A y realizar las siguientes operaciones\n",
    "- Si el valor está entre 0-3 guardamos ese mismo valor en B\n",
    "- Si el valor es mayor que 3 y menor que 5 lo multiplicamos por 2\n",
    "- Si el valor es igual a 5 pedir ingresar un valor con la función input()\n",
    "- Para todo el resto eleva el número al cuadrado"
   ]
  },
  {
   "cell_type": "code",
   "execution_count": 17,
   "id": "91021673",
   "metadata": {},
   "outputs": [
    {
     "name": "stdin",
     "output_type": "stream",
     "text": [
      "Agregar un valor 10\n",
      "input 2: 10\n"
     ]
    }
   ],
   "source": [
    "#1. Creamos las listas\n",
    "A = np.arange(0, 11, 1)\n",
    "B = []\n",
    "\n",
    "#2. Iteramos sobre A\n",
    "for i in A: \n",
    "    #Creamos la primera condición\n",
    "    if i>=0 and i<= 3: \n",
    "        B.append(i)\n",
    "    #Segunda condición\n",
    "    elif i > 3 and i<5: \n",
    "        B.append(i*2)\n",
    "    #Tercera condición    \n",
    "    elif i==5:\n",
    "        B.append(float(input(\"Agregar un valor\")))\n",
    "        B.append(input(\"input 2:\"))\n",
    "    #Para todo el resto\n",
    "    else: \n",
    "        B.append(i**2)"
   ]
  },
  {
   "cell_type": "code",
   "execution_count": 18,
   "id": "20feb485",
   "metadata": {},
   "outputs": [
    {
     "name": "stdout",
     "output_type": "stream",
     "text": [
      "A: [ 0  1  2  3  4  5  6  7  8  9 10]\n",
      "B: [0, 1, 2, 3, 8, 10.0, '10', 36, 49, 64, 81, 100]\n"
     ]
    }
   ],
   "source": [
    "print(\"A:\", A)\n",
    "print(\"B:\", B)"
   ]
  },
  {
   "cell_type": "code",
   "execution_count": 19,
   "id": "ae6b7592",
   "metadata": {},
   "outputs": [
    {
     "data": {
      "text/plain": [
       "array([], dtype=float64)"
      ]
     },
     "execution_count": 19,
     "metadata": {},
     "output_type": "execute_result"
    }
   ],
   "source": [
    "np.zeros(0)"
   ]
  },
  {
   "cell_type": "code",
   "execution_count": 20,
   "id": "78d013e1",
   "metadata": {},
   "outputs": [
    {
     "name": "stdin",
     "output_type": "stream",
     "text": [
      "agrega un valor 1\n"
     ]
    },
    {
     "data": {
      "text/plain": [
       "str"
      ]
     },
     "execution_count": 20,
     "metadata": {},
     "output_type": "execute_result"
    }
   ],
   "source": [
    "x = input(\"agrega un valor\")\n",
    "type(x)"
   ]
  },
  {
   "cell_type": "code",
   "execution_count": 21,
   "id": "a3c1d55f",
   "metadata": {},
   "outputs": [
    {
     "name": "stdout",
     "output_type": "stream",
     "text": [
      "ok\n"
     ]
    }
   ],
   "source": [
    "a = 'texto2'\n",
    "if a != 'texto':\n",
    "    print(\"ok\")"
   ]
  },
  {
   "cell_type": "code",
   "execution_count": 22,
   "id": "fed3b895",
   "metadata": {},
   "outputs": [
    {
     "name": "stdout",
     "output_type": "stream",
     "text": [
      "0\n",
      "ok\n",
      "x\n",
      "ok2\n",
      "3\n"
     ]
    }
   ],
   "source": [
    "a = [0, 'x', 3]\n",
    "for i in range(0, len(a)): \n",
    "    print(a[i])\n",
    "    if i == 0:\n",
    "        print(\"ok\")\n",
    "    elif i == 1:\n",
    "        print(\"ok2\")\n",
    "        "
   ]
  },
  {
   "cell_type": "markdown",
   "id": "b105b01d",
   "metadata": {},
   "source": [
    "## 4. Crear funciones\n",
    "\n",
    "Una función es un código que nos permite almacenar una una acción. \n",
    "A la función le damos un nombre y luego la podemos invocar utilizando ese nombre. \n",
    "\n",
    "Un ejemplo de función es print(), mediante su nombre podemos pedir que muestre una variable, un texto u otro. \n",
    "\n",
    "Ahora vamos a ver cómo se crea una función. \n",
    "\n",
    "Sintaxis: \"def\" + \"nombre\" + \"(input)\" + \":\"\n"
   ]
  },
  {
   "cell_type": "code",
   "execution_count": 23,
   "id": "c30e9649",
   "metadata": {},
   "outputs": [
    {
     "data": {
      "text/plain": [
       "20"
      ]
     },
     "execution_count": 23,
     "metadata": {},
     "output_type": "execute_result"
    }
   ],
   "source": [
    "def miprimerafuncion(a): #declaramos la función y establecemos el input\n",
    "    b = a*2  #definimos qué hace la función\n",
    "    return b #Establecemos un output\n",
    "\n",
    "#definimos el input\n",
    "a = 10\n",
    "#llamamos la función\n",
    "miprimerafuncion(a)"
   ]
  },
  {
   "cell_type": "markdown",
   "id": "bc615693",
   "metadata": {},
   "source": [
    "podemos evaluar la función con diferentes valores"
   ]
  },
  {
   "cell_type": "code",
   "execution_count": 24,
   "id": "e00a6e58",
   "metadata": {},
   "outputs": [
    {
     "name": "stdout",
     "output_type": "stream",
     "text": [
      "200\n",
      "2000\n"
     ]
    }
   ],
   "source": [
    "b = 100\n",
    "print(miprimerafuncion(b))\n",
    "print(miprimerafuncion(1000))"
   ]
  },
  {
   "cell_type": "markdown",
   "id": "1e8d7871",
   "metadata": {},
   "source": [
    "A una función le podemos dar diferentes input y que entregue variados output"
   ]
  },
  {
   "cell_type": "code",
   "execution_count": 25,
   "id": "44495b2f",
   "metadata": {},
   "outputs": [],
   "source": [
    "def ejemplo2(a, b): \n",
    "    return a*b, a**b"
   ]
  },
  {
   "cell_type": "code",
   "execution_count": 26,
   "id": "c1450b5c",
   "metadata": {},
   "outputs": [
    {
     "data": {
      "text/plain": [
       "(20, 100)"
      ]
     },
     "execution_count": 26,
     "metadata": {},
     "output_type": "execute_result"
    }
   ],
   "source": [
    "ejemplo2(10,2)"
   ]
  },
  {
   "cell_type": "markdown",
   "id": "74d64548",
   "metadata": {},
   "source": [
    "podemos guardar los valores del output de la función"
   ]
  },
  {
   "cell_type": "code",
   "execution_count": 27,
   "id": "182f7e99",
   "metadata": {},
   "outputs": [
    {
     "name": "stdout",
     "output_type": "stream",
     "text": [
      "X= 20 Y= 100\n"
     ]
    }
   ],
   "source": [
    "X, Y = ejemplo2(10,2)\n",
    "print(\"X=\", X, \"Y=\", Y)"
   ]
  },
  {
   "cell_type": "markdown",
   "id": "44f55f1d",
   "metadata": {},
   "source": [
    "El input puede ser de diferentes `types`"
   ]
  },
  {
   "cell_type": "code",
   "execution_count": 28,
   "id": "9e430d89",
   "metadata": {},
   "outputs": [],
   "source": [
    "def ejemplo3(a):\n",
    "    AA = []\n",
    "    AA.append(a)\n",
    "    return AA"
   ]
  },
  {
   "cell_type": "code",
   "execution_count": 29,
   "id": "6d84639e",
   "metadata": {},
   "outputs": [
    {
     "name": "stdout",
     "output_type": "stream",
     "text": [
      "['hola']\n"
     ]
    }
   ],
   "source": [
    "C = ejemplo3(\"hola\")\n",
    "print(C)"
   ]
  },
  {
   "cell_type": "code",
   "execution_count": 30,
   "id": "84e280f5",
   "metadata": {},
   "outputs": [
    {
     "name": "stdout",
     "output_type": "stream",
     "text": [
      "['hola']\n"
     ]
    }
   ],
   "source": [
    "print(C)"
   ]
  },
  {
   "cell_type": "markdown",
   "id": "294d3829",
   "metadata": {},
   "source": [
    "```{admonition} Variable local y global\n",
    ":class: tip\n",
    "Una variable local va a existir en un lugar específico. Por ejemplo dentro de la función ejemplo3(a) definimos A=[], esta variable A existe sólo dentro de la función ejemplo3(), es decir es una variable local. \n",
    "\n",
    "Por otro lado, cuando decimos que A = ejemplo3(\"hola\") estamos definiendo una vable global, que existe en todo el espacio del Jupyter,  una vez definida puede ser llamada en en cualquier parte. \n",
    "\n",
    "  \n",
    "```"
   ]
  },
  {
   "cell_type": "markdown",
   "id": "548eaea8",
   "metadata": {},
   "source": [
    "El ejemplo que utilizamos para probar if/ifelse/else lo podemos guardar en una función que le entremos una lista numérica (A) y que retorne una lista B con las operaciones del if"
   ]
  },
  {
   "cell_type": "code",
   "execution_count": 31,
   "id": "7788a483",
   "metadata": {},
   "outputs": [],
   "source": [
    "#1. Creamos la función con un input A\n",
    "def ejemplo4(A):\n",
    "    #2. Creamos una lista  vacía\n",
    "    B = []\n",
    "\n",
    "    #3. Iteramos sobre A\n",
    "    for i in A: \n",
    "        #Creamos la primera condición\n",
    "        if i>=0 and i<= 3: \n",
    "            B.append(i)\n",
    "        #Segunda condición\n",
    "        elif i > 3 and i<5: \n",
    "            B.append(i*2)\n",
    "        #Tercera condición\n",
    "        elif i==5:\n",
    "            B.append(input(\"Agregar un valor\"))\n",
    "        #Todo el resto\n",
    "        else: \n",
    "            B.append(i**2)\n",
    "\n",
    "    #4. Output\n",
    "    return B"
   ]
  },
  {
   "cell_type": "code",
   "execution_count": 32,
   "id": "aeb56dc3",
   "metadata": {},
   "outputs": [
    {
     "name": "stdin",
     "output_type": "stream",
     "text": [
      "Agregar un valor 1\n"
     ]
    }
   ],
   "source": [
    "#Creamos una lista entre 0-10\n",
    "A = np.arange(0, 11, 1)\n",
    "#Llamamos la función y guardamos el resultado en una variable global\n",
    "B = ejemplo4(A)"
   ]
  },
  {
   "cell_type": "code",
   "execution_count": 33,
   "id": "a054b087",
   "metadata": {},
   "outputs": [
    {
     "name": "stdout",
     "output_type": "stream",
     "text": [
      "A: [ 0  1  2  3  4  5  6  7  8  9 10]\n",
      "B: [0, 1, 2, 3, 8, '1', 36, 49, 64, 81, 100]\n"
     ]
    }
   ],
   "source": [
    "print(\"A:\", A)\n",
    "print(\"B:\", B)"
   ]
  },
  {
   "cell_type": "markdown",
   "id": "a4460fff",
   "metadata": {},
   "source": [
    "## 5. Diccionarios\n",
    "\n",
    "Un diccionario es una estructura que nos permite almacenar información mediante una `llave` (key) y un `valor`. Vamos a llamar tupla a esta llave:valor. \n",
    "\n",
    "Por ejemplo si tenemos una base como \n",
    "\n",
    "$$\\begin{array}{ccc}\n",
    "\\text{Nombre} & \\text{Edad} & \\text{Signo zodiacal} \\\\ \n",
    "\\text{Ana} & 30 & \\text{Libra} \\\\ \n",
    "\\text{Félix} & 50 & \\text{Sagitario}\n",
    "\\end{array}\n",
    "$$\n",
    "\n",
    "Podemos crear dos diccionarios, uno para Ana y otro para Félix del tipo: \n",
    "- Ana: {Nombre: Ana, Edad:30, Signo:Libra}\n",
    "- Félix: {Nombre:Félix, Edad:50, Signo:Sagitario}\n",
    "\n",
    "En este caso las llaves son (Nombre, Edad y Signo). \n",
    "\n",
    "Para crear un diccionario utilizamos \"{}\". La sintaxis es \"{\" + \"llave\" + \":\" + \"valor\" + \"}\"\n"
   ]
  },
  {
   "cell_type": "code",
   "execution_count": 34,
   "id": "104c32d8",
   "metadata": {},
   "outputs": [],
   "source": [
    "Ana = {'nombre':'ana', 'edad':30, 'signo':'libra'}\n",
    "Felix = {'nombre':'felix', 'edad':50, 'signo':'sagitario'}"
   ]
  },
  {
   "cell_type": "markdown",
   "id": "7a8f7914",
   "metadata": {},
   "source": [
    "Para acceder a los elementos del diccionario vamos a usar la llave o el valor"
   ]
  },
  {
   "cell_type": "code",
   "execution_count": 35,
   "id": "f529a73e",
   "metadata": {},
   "outputs": [
    {
     "name": "stdout",
     "output_type": "stream",
     "text": [
      "La edad de Ana es 30 y su signo es libra\n"
     ]
    }
   ],
   "source": [
    "print('La edad de Ana es '+ str(Ana['edad']) + ' y su signo es ' + Ana['signo'])\n"
   ]
  },
  {
   "cell_type": "markdown",
   "id": "c559512d",
   "metadata": {},
   "source": [
    "Vamos a usar las funciones keys(), values() e items() para ver los valores dentro de un diccionario"
   ]
  },
  {
   "cell_type": "code",
   "execution_count": 36,
   "id": "fd877330",
   "metadata": {},
   "outputs": [
    {
     "data": {
      "text/plain": [
       "dict_keys(['nombre', 'edad', 'signo'])"
      ]
     },
     "execution_count": 36,
     "metadata": {},
     "output_type": "execute_result"
    }
   ],
   "source": [
    "#Para ver las llaves\n",
    "Ana.keys()"
   ]
  },
  {
   "cell_type": "code",
   "execution_count": 37,
   "id": "5f9f0882",
   "metadata": {},
   "outputs": [
    {
     "data": {
      "text/plain": [
       "dict_values(['felix', 50, 'sagitario'])"
      ]
     },
     "execution_count": 37,
     "metadata": {},
     "output_type": "execute_result"
    }
   ],
   "source": [
    "#Para ver los valores\n",
    "Felix.values()"
   ]
  },
  {
   "cell_type": "code",
   "execution_count": 38,
   "id": "a860ec56",
   "metadata": {},
   "outputs": [
    {
     "data": {
      "text/plain": [
       "dict_items([('nombre', 'felix'), ('edad', 50), ('signo', 'sagitario')])"
      ]
     },
     "execution_count": 38,
     "metadata": {},
     "output_type": "execute_result"
    }
   ],
   "source": [
    "#Para ver las tuplas (llave, valor)\n",
    "Felix.items()"
   ]
  }
 ],
 "metadata": {
  "kernelspec": {
   "display_name": "Python 3",
   "language": "python",
   "name": "python3"
  },
  "language_info": {
   "codemirror_mode": {
    "name": "ipython",
    "version": 3
   },
   "file_extension": ".py",
   "mimetype": "text/x-python",
   "name": "python",
   "nbconvert_exporter": "python",
   "pygments_lexer": "ipython3",
   "version": "3.9.1"
  }
 },
 "nbformat": 4,
 "nbformat_minor": 5
}
