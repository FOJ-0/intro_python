{
 "cells": [
  {
   "cell_type": "markdown",
   "id": "33b27865",
   "metadata": {},
   "source": [
    "# Tarea 2\n",
    "\n",
    "**Instrucciones:** \n",
    "- Cada pregunta la debe responder en una celda diferente. \n",
    "- Antes de cada celda de código debe ir un `markdown` que muestre la pregunta que está respondiendo. \n",
    "- En la celda de código debe agregar un breve comentario de qué está haciendo.  \n",
    "- Mandar el archivo como un **PDF** al correo felix.ordonez@usach.cl con el asunto `Tarea 2`.\n",
    "- El nombre del archivo debe ser \"Apellido_Tarea2\". \n",
    "- La pregunta tiene puntos sólo si está correcta, no tiene puntos por pasos intermedios. \n",
    "- Todas las preguntas valen lo mismo. \n",
    "- Fecha de entrega: antes de la clase del 15/06. "
   ]
  },
  {
   "cell_type": "markdown",
   "id": "2931e1a8",
   "metadata": {},
   "source": [
    "**Nombre:** *Colocar su nombre*"
   ]
  },
  {
   "cell_type": "markdown",
   "id": "6b11db76",
   "metadata": {},
   "source": [
    "Utilizando la base \"discurso2.txt\" realice lo siguiente: \n",
    "1. Depurar el texto para que sea utilizable en el manejo de datos. Debe remover símbolos, números, espacios en blanco, saltos de línea, el texto debe estar en minúscula. \n",
    "2. Crear una variable que contenga los `token` a nivel de palabras. \n",
    "3. Crear una variable que contenga los `token` sin los `stopwords`.\n",
    "4. Realizar una nube de palabras (wordcloud) con el vector creado en la pregunta 3. "
   ]
  },
  {
   "cell_type": "code",
   "execution_count": null,
   "id": "89b9137d",
   "metadata": {},
   "outputs": [],
   "source": []
  }
 ],
 "metadata": {
  "kernelspec": {
   "display_name": "Python 3",
   "language": "python",
   "name": "python3"
  },
  "language_info": {
   "codemirror_mode": {
    "name": "ipython",
    "version": 3
   },
   "file_extension": ".py",
   "mimetype": "text/x-python",
   "name": "python",
   "nbconvert_exporter": "python",
   "pygments_lexer": "ipython3",
   "version": "3.9.1"
  }
 },
 "nbformat": 4,
 "nbformat_minor": 5
}
