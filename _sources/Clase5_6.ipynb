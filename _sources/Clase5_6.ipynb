{
 "cells": [
  {
   "cell_type": "markdown",
   "id": "fbd697c2",
   "metadata": {},
   "source": [
    "# Clase 5-6: lo básico (continuación)\n",
    "\n",
    "En esta clase veremos: \n",
    "- Loops\n",
    "- Input/output\n",
    "- If "
   ]
  },
  {
   "cell_type": "markdown",
   "id": "60b03cf0",
   "metadata": {},
   "source": [
    "Conceptos claves que revisamos la clase anterior, deberíamos responder qué son, para qué se ocupan, cómo se ocupan: \n",
    "- Librerías\n",
    "- Funciones (intro)\n",
    "- Variables\n",
    "- Types\n",
    "- Listas \n",
    "- Arrays"
   ]
  },
  {
   "cell_type": "markdown",
   "id": "e9c9a600",
   "metadata": {},
   "source": [
    "## 1. Loops\n",
    "Vamos a utilizar `loops` para crear iteraciones sobre una secuencia, un rango determinado, por ejemplo una lista, de 0 a 10, etc. \n",
    "\n",
    "Para crear una iteración vamos a usar `for`.\n",
    "\n",
    "La `sintaxis` es: for + iterador + in + sobre lo que iteramos + :"
   ]
  },
  {
   "cell_type": "code",
   "execution_count": 1,
   "id": "59e028eb",
   "metadata": {},
   "outputs": [
    {
     "name": "stdout",
     "output_type": "stream",
     "text": [
      "0\n",
      "1\n",
      "2\n",
      "3\n",
      "4\n",
      "5\n",
      "6\n",
      "7\n",
      "8\n",
      "9\n"
     ]
    }
   ],
   "source": [
    "#Lo más básico es que iteramos sobre un rango\n",
    "#un rango es un tipo de datos entre ciertos valores\n",
    "print(range(5))\n",
    "\n",
    "\n",
    "#Podemos iterar sobre un rango\n",
    "for i in range(0, 10): \n",
    "    print(i)"
   ]
  },
  {
   "cell_type": "code",
   "execution_count": 2,
   "id": "9e88863e",
   "metadata": {},
   "outputs": [
    {
     "name": "stdout",
     "output_type": "stream",
     "text": [
      "0\n",
      "1\n",
      "2\n",
      "3\n"
     ]
    }
   ],
   "source": [
    "#Podemos iterar sobre una lista: iteramos en el rango de valores que tiene la lista\n",
    "x = [0, 1, 'a', True]\n",
    "for i in range(0, len(x)):\n",
    "    print(i)"
   ]
  },
  {
   "cell_type": "code",
   "execution_count": 4,
   "id": "976d08dc",
   "metadata": {},
   "outputs": [
    {
     "name": "stdout",
     "output_type": "stream",
     "text": [
      "0\n",
      "1\n",
      "2\n",
      "3\n"
     ]
    }
   ],
   "source": [
    "#Podemos iterar sobre un array\n",
    "import numpy as np\n",
    "x = np.array([0, 1, 2, 3])\n",
    "for i in range(0, len(x)):\n",
    "    print(i)"
   ]
  },
  {
   "cell_type": "code",
   "execution_count": 5,
   "id": "625a3bd8",
   "metadata": {},
   "outputs": [
    {
     "name": "stdout",
     "output_type": "stream",
     "text": [
      "0\n",
      "1\n",
      "a\n",
      "True\n"
     ]
    }
   ],
   "source": [
    "#Podemos iterar sobre los elementos de la lista\n",
    "x = [0, 1, 'a', True]\n",
    "for i in x:\n",
    "    print(i)"
   ]
  },
  {
   "cell_type": "code",
   "execution_count": 6,
   "id": "b8ec8959",
   "metadata": {},
   "outputs": [
    {
     "name": "stdout",
     "output_type": "stream",
     "text": [
      "5\n",
      "7\n",
      "9\n"
     ]
    }
   ],
   "source": [
    "#Podemos usar la iteración para acceder a elementos de una lista\n",
    "\n",
    "x = [1, 2, 3]\n",
    "y = [4, 5 ,6]\n",
    "for i in range(0, len(x)):\n",
    "    print(x[i] + y[i])   "
   ]
  },
  {
   "cell_type": "code",
   "execution_count": 7,
   "id": "1c182139",
   "metadata": {},
   "outputs": [
    {
     "name": "stdout",
     "output_type": "stream",
     "text": [
      "(1, 4)\n",
      "(1, 5)\n",
      "(1, 6)\n",
      "(2, 4)\n",
      "(2, 5)\n",
      "(2, 6)\n",
      "(3, 4)\n",
      "(3, 5)\n",
      "(3, 6)\n"
     ]
    }
   ],
   "source": [
    "#Podemos hacer iteraciones anidadas (for dentro de un for)\n",
    "x = [1, 2, 3]\n",
    "y = [4, 5 ,6]\n",
    "for i in x:\n",
    "    for j in y:\n",
    "        print((i,j))"
   ]
  },
  {
   "cell_type": "markdown",
   "id": "d919319d",
   "metadata": {},
   "source": [
    "Un aspecto clave es entender dónde existe una variable o lista, y si está dentro o fuera de un loop qué es lo que pasa. "
   ]
  },
  {
   "cell_type": "code",
   "execution_count": 8,
   "id": "bb764e11",
   "metadata": {},
   "outputs": [
    {
     "name": "stdout",
     "output_type": "stream",
     "text": [
      "0\n",
      "1\n",
      "2\n",
      "3\n",
      "4\n",
      "5\n",
      "6\n",
      "7\n",
      "8\n",
      "9\n"
     ]
    }
   ],
   "source": [
    "#nombre de la variable, signo = , valor\n",
    "x = 10 \n",
    "#lista: nombre de la lista, signo = , [ valor ]\n",
    "x = [10, 20]\n",
    "#Iteración: for, iterador 'i', entre 'in', rango o lista (range(0, 10), [1,2,3]), ':'\n",
    "for i in range(0, 10): \n",
    "    print(i)\n",
    "    \n",
    "#Una vez me salgo del espacio se acaba la iteración\n",
    "x = 10"
   ]
  },
  {
   "cell_type": "markdown",
   "id": "afb3d841",
   "metadata": {},
   "source": [
    "Si creamos una variable antes de la iteración podemos modificarla con cada iteración. \n",
    "Veamos tres ejemplos con x, y, z: "
   ]
  },
  {
   "cell_type": "code",
   "execution_count": null,
   "id": "fa3103a9",
   "metadata": {},
   "outputs": [],
   "source": [
    "# Creamos x y y fuera de la iteración\n",
    "x = 0 \n",
    "y = 0\n",
    "for i in range(1, 5): \n",
    "    z = 0 #creamos z dentro de la iteración\n",
    "    x = x + i\n",
    "    y = i \n",
    "    z = z + i\n",
    "    print(\"i:\", i, \", x=\", x, \", y=\", y, \", z=\", z)"
   ]
  },
  {
   "cell_type": "markdown",
   "id": "c3da49a6",
   "metadata": {},
   "source": [
    "Podemos utilizar iteraciones dentro de iteraciones, esto nos puede servir para trabajar con diferentes fuentes de información. "
   ]
  },
  {
   "cell_type": "code",
   "execution_count": 13,
   "id": "be80afc6",
   "metadata": {},
   "outputs": [
    {
     "name": "stdout",
     "output_type": "stream",
     "text": [
      "type de a: <class 'numpy.ndarray'>\n",
      "a:  [ 1.    3.25  5.5   7.75 10.  ]\n",
      "type de b: <class 'numpy.ndarray'>\n",
      "b:  [1 3 5 7 9]\n"
     ]
    }
   ],
   "source": [
    "import numpy as np\n",
    "\n",
    "#linspace(inicio, término, cantidad de elementos)\n",
    "a = np.linspace(1, 10, 5)\n",
    "print(\"type de a:\", type(a))\n",
    "print(\"a: \", a)\n",
    "#arange(inicio, término, separador)\n",
    "b = np.arange(1, 10,2)\n",
    "print(\"type de b:\", type(b))\n",
    "print(\"b: \", b)"
   ]
  },
  {
   "cell_type": "markdown",
   "id": "534095d0",
   "metadata": {},
   "source": [
    "Vamos a utilizar estas listas para crear un `for anidado` y guardar un resultado en una lista"
   ]
  },
  {
   "cell_type": "code",
   "execution_count": 14,
   "id": "fe23689b",
   "metadata": {},
   "outputs": [
    {
     "name": "stdout",
     "output_type": "stream",
     "text": [
      "[1.0, 3.0, 5.0, 7.0, 9.0, 3.25, 9.75, 16.25, 22.75, 29.25, 5.5, 16.5, 27.5, 38.5, 49.5, 7.75, 23.25, 38.75, 54.25, 69.75, 10.0, 30.0, 50.0, 70.0, 90.0]\n"
     ]
    }
   ],
   "source": [
    "#1. Creamos una lista\n",
    "lista1 = []\n",
    "#2. Iteramos sobre los valoes de a y b\n",
    "for i in a: \n",
    "    for j in b: \n",
    "        #3. Anexamos una operación a la lista\n",
    "#         print((i, j), \"multiplicacion:\", i * j)\n",
    "        lista1.append(i * j) \n",
    "print(lista1)"
   ]
  },
  {
   "cell_type": "code",
   "execution_count": 15,
   "id": "bc8c5d51",
   "metadata": {},
   "outputs": [
    {
     "name": "stdout",
     "output_type": "stream",
     "text": [
      "[1.0, 3.0, 5.0, 7.0, 9.0, 3.25, 9.75, 16.25, 22.75, 29.25, 5.5, 16.5, 27.5, 38.5, 49.5, 7.75, 23.25, 38.75, 54.25, 69.75, 10.0, 30.0, 50.0, 70.0, 90.0]\n",
      "suma de la lista: 687.5\n"
     ]
    }
   ],
   "source": [
    "#1. Creamos una lista\n",
    "lista2 = []\n",
    "#2. Iteramos sobre el largo de las listas a y b\n",
    "for i in range(0, len(a)): \n",
    "    for j in range(0, len(b)): \n",
    "        #3. Anexamos una operación a la lista\n",
    "        lista2.append(a[i] * b[j]) \n",
    "print(lista2)\n",
    "\n",
    "#Podemos sumar los valores de una lista con sum()\n",
    "print(\"suma de la lista:\", sum(lista2))"
   ]
  },
  {
   "cell_type": "markdown",
   "id": "99717d60",
   "metadata": {},
   "source": [
    "Son iguales la lista 1 y lista 2?"
   ]
  },
  {
   "cell_type": "code",
   "execution_count": 16,
   "id": "356e9f49",
   "metadata": {},
   "outputs": [
    {
     "data": {
      "text/plain": [
       "True"
      ]
     },
     "execution_count": 16,
     "metadata": {},
     "output_type": "execute_result"
    }
   ],
   "source": [
    "lista1 == lista2"
   ]
  },
  {
   "cell_type": "markdown",
   "id": "7a0ce5aa",
   "metadata": {},
   "source": [
    "## 2. Input/Output\n",
    "\n",
    "La función input() nos va a pedir entregar un valor. Esto es útil cuando necesitamos que el usuario nos reporte algún dato."
   ]
  },
  {
   "cell_type": "code",
   "execution_count": null,
   "id": "efc517d4",
   "metadata": {},
   "outputs": [],
   "source": [
    "input()"
   ]
  },
  {
   "cell_type": "markdown",
   "id": "8e0ab6bc",
   "metadata": {},
   "source": [
    "Podemos incorporar un texto referente a la información solicitada"
   ]
  },
  {
   "cell_type": "code",
   "execution_count": null,
   "id": "e9e7add1",
   "metadata": {},
   "outputs": [],
   "source": [
    "input(\"Indique su edad:\")"
   ]
  },
  {
   "cell_type": "markdown",
   "id": "61615ccd",
   "metadata": {},
   "source": [
    "¿Podemos guardar la información?"
   ]
  },
  {
   "cell_type": "code",
   "execution_count": null,
   "id": "8d310a68",
   "metadata": {},
   "outputs": [],
   "source": [
    "edad = input(\"indique su edad:\") \n",
    "#Es una variable del tipo string\n",
    "#¿Cómo la pasamos a una variable numérica?\n",
    "#Con int() o float()"
   ]
  },
  {
   "cell_type": "code",
   "execution_count": null,
   "id": "f5c233b4",
   "metadata": {},
   "outputs": [],
   "source": [
    "print(edad)"
   ]
  },
  {
   "cell_type": "markdown",
   "id": "83f2a7e1",
   "metadata": {},
   "source": [
    "## 3. If/else\n",
    "\n",
    "La operación `if` nos permite evaluar si se cumple una condición. \n",
    "\n",
    "Por ejemplo: **Iteramos sobre una lista entre (0, 10), si el valor es mayor que 5 muestra el resultado**. \n",
    "\n",
    "- Iteramos sobre una lista entre (0, 10): hacemos un *for* entre 0 y 10. \n",
    "- si el valor es mayor que 5: condición\n",
    "- muestra el resultado: operación "
   ]
  },
  {
   "cell_type": "code",
   "execution_count": 17,
   "id": "5e8969ce",
   "metadata": {},
   "outputs": [
    {
     "name": "stdout",
     "output_type": "stream",
     "text": [
      "6\n",
      "7\n",
      "8\n",
      "9\n"
     ]
    }
   ],
   "source": [
    "for i in range(0, 10): #iteración\n",
    "    if i > 5: #condición\n",
    "        print(i) #operación"
   ]
  },
  {
   "cell_type": "markdown",
   "id": "965658e8",
   "metadata": {},
   "source": [
    "¿Qué tipo de operaciones podemos evaluar? \n",
    "Operaciones lógicas: \n",
    "- Igualdad: == \n",
    "- Desigualdad: != \n",
    "- Mayor: >\n",
    "- Mayor que: >= \n",
    "- Menor: <\n",
    "- Menor que: <="
   ]
  },
  {
   "cell_type": "code",
   "execution_count": 18,
   "id": "a2d6826b",
   "metadata": {},
   "outputs": [
    {
     "name": "stdout",
     "output_type": "stream",
     "text": [
      "10\n"
     ]
    }
   ],
   "source": [
    "a = 10 \n",
    "if a==10: \n",
    "    x = a\n",
    "print(x)"
   ]
  },
  {
   "cell_type": "markdown",
   "id": "06a4cb36",
   "metadata": {},
   "source": [
    "Para evaluar varias situaciones vamos a usar if, elif y else. \n",
    "\n",
    "Ejemplo: \n",
    "Vamos a crear una lista A utilizando valores de una segunda lista B con valores entre 0-10. Vamos a iterar sobre los valores de la lista A y realizar las siguientes operaciones\n",
    "- Si el valor está entre 0-3 guardamos ese mismo valor en B\n",
    "- Si el valor es mayor que 3 y menor que 5 lo multiplicamos por 2\n",
    "- Si el valor es igual a 5 pedir ingresar un valor con la función input()\n",
    "- Para todo el resto eleva el número al cuadrado"
   ]
  },
  {
   "cell_type": "code",
   "execution_count": 20,
   "id": "51f12d23",
   "metadata": {},
   "outputs": [
    {
     "name": "stdin",
     "output_type": "stream",
     "text": [
      "Agregar un valor 10\n",
      "input 2: 10\n"
     ]
    }
   ],
   "source": [
    "#1. Creamos las listas\n",
    "A = np.arange(0, 11, 1)\n",
    "B = []\n",
    "\n",
    "#2. Iteramos sobre A\n",
    "for i in A: \n",
    "    #Creamos la primera condición\n",
    "    if i>=0 and i<= 3: \n",
    "        B.append(i)\n",
    "    #Segunda condición\n",
    "    elif i > 3 and i<5: \n",
    "        B.append(i*2)\n",
    "    #Tercera condición    \n",
    "    elif i==5:\n",
    "        B.append(float(input(\"Agregar un valor\")))\n",
    "        B.append(input(\"input 2:\"))\n",
    "    #Para todo el resto\n",
    "    else: \n",
    "        B.append(i**2)"
   ]
  },
  {
   "cell_type": "code",
   "execution_count": 21,
   "id": "e0bdbcb1",
   "metadata": {},
   "outputs": [
    {
     "name": "stdout",
     "output_type": "stream",
     "text": [
      "A: [ 0  1  2  3  4  5  6  7  8  9 10]\n",
      "B: [0, 1, 2, 3, 8, 10.0, '10', 36, 49, 64, 81, 100]\n"
     ]
    }
   ],
   "source": [
    "print(\"A:\", A)\n",
    "print(\"B:\", B)"
   ]
  },
  {
   "cell_type": "code",
   "execution_count": 22,
   "id": "3c8fca38",
   "metadata": {},
   "outputs": [
    {
     "name": "stdin",
     "output_type": "stream",
     "text": [
      "agrega un valor 10\n"
     ]
    },
    {
     "data": {
      "text/plain": [
       "str"
      ]
     },
     "execution_count": 22,
     "metadata": {},
     "output_type": "execute_result"
    }
   ],
   "source": [
    "x = input(\"agrega un valor\")\n",
    "type(x)"
   ]
  },
  {
   "cell_type": "code",
   "execution_count": 23,
   "id": "37aa4c90",
   "metadata": {},
   "outputs": [
    {
     "name": "stdout",
     "output_type": "stream",
     "text": [
      "ok\n"
     ]
    }
   ],
   "source": [
    "a = 'texto2'\n",
    "if a != 'texto':\n",
    "    print(\"ok\")"
   ]
  },
  {
   "cell_type": "code",
   "execution_count": 24,
   "id": "b293a8c8",
   "metadata": {},
   "outputs": [
    {
     "name": "stdout",
     "output_type": "stream",
     "text": [
      "0\n",
      "ok\n",
      "x\n",
      "ok2\n",
      "3\n"
     ]
    }
   ],
   "source": [
    "a = [0, 'x', 3]\n",
    "for i in range(0, len(a)): \n",
    "    print(a[i])\n",
    "    if i == 0:\n",
    "        print(\"ok\")\n",
    "    elif i == 1:\n",
    "        print(\"ok2\")\n",
    "     "
   ]
  },
  {
   "cell_type": "markdown",
   "id": "d469793d",
   "metadata": {},
   "source": [
    "# Actividad\n",
    "**Instrucciones:** \n",
    "- Cada pregunta la debe responder en una celda diferente (en total 15 celdas de código). \n",
    "- Antes de cada celda de código debe ir un `markdown` que muestre la pregunta que está respondiendo. \n",
    "- En la celda de código debe agregar un breve comentario de qué está haciendo.  \n",
    "\n",
    "\n",
    "Acá un ejemplo de cómo va a responder: "
   ]
  },
  {
   "cell_type": "markdown",
   "id": "b2bb8bfb",
   "metadata": {},
   "source": [
    "1. Importe una librería"
   ]
  },
  {
   "cell_type": "code",
   "execution_count": 25,
   "id": "d4fc29c5",
   "metadata": {},
   "outputs": [],
   "source": [
    "#Importar librería\n",
    "import numpy as np"
   ]
  },
  {
   "cell_type": "markdown",
   "id": "b50f005a",
   "metadata": {},
   "source": [
    "**Responda las siguientes preguntas.**\n",
    "\n",
    "1. Crear un libro de jupyter en su carpeta para actividades del curso. Nombre el libro como `Actividad_1`\n",
    "2. Crear una variable de texto, una numérica y otra boolean. \n",
    "3. Explique brevemente qué ocurre con la variable *x* si ejecuto el siguiente código: \n",
    "    - x = 10 , \n",
    "    - luego x = x + 10 \n",
    "    \n",
    "4. ¿Es lo mismo range(5) y range(0,5)? muestre su resultado mediante una variable boolean. \n",
    "5. Crear una lista vacía llamda 'L1', luego anexar las tres variables del punto 2. a 'L1'. \n",
    "6. Borrar la variable numérica de L1. \n",
    "7. Realice un `for` entre el rango 0-10 y realice los siguientes dos ejemplos: \n",
    "    - Antes del `for` cree una variable x = 0, dentro del `for` sume 1 (x = x + 1)\n",
    "    - Dentro del `for` cree una variable x = 0, luego sume 1 (x = x + 1) \n",
    "    - ¿Cuál es la diferencia? \n",
    "    \n",
    "8. Genere un array A de dimensiones 2x2 y otro B de dimensiones 2x1. Realice un loop anidado (for dentro de for) para multiplicar cada elemento de A por el de B. Guárdelos en una lista. "
   ]
  },
  {
   "cell_type": "code",
   "execution_count": null,
   "id": "0990ef1e",
   "metadata": {},
   "outputs": [],
   "source": []
  }
 ],
 "metadata": {
  "kernelspec": {
   "display_name": "Python 3",
   "language": "python",
   "name": "python3"
  },
  "language_info": {
   "codemirror_mode": {
    "name": "ipython",
    "version": 3
   },
   "file_extension": ".py",
   "mimetype": "text/x-python",
   "name": "python",
   "nbconvert_exporter": "python",
   "pygments_lexer": "ipython3",
   "version": "3.9.1"
  }
 },
 "nbformat": 4,
 "nbformat_minor": 5
}
