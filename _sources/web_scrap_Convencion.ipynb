{
 "cells": [
  {
   "cell_type": "code",
   "execution_count": 3,
   "id": "003f2071",
   "metadata": {},
   "outputs": [],
   "source": [
    "\"\"\"\n",
    "@author: Alonso Valdés\n",
    "https://github.com/Alonsomar\n",
    "\"\"\"\n",
    "\n",
    "import pandas as pd\n",
    "import grequests #Importar antes de requests\n",
    "import requests\n",
    "\n",
    "import json\n",
    "\n",
    "from bs4 import BeautifulSoup\n",
    "from time import time\n",
    "from datetime import datetime"
   ]
  },
  {
   "cell_type": "code",
   "execution_count": 4,
   "id": "26d5869f",
   "metadata": {},
   "outputs": [],
   "source": [
    "#%%%\n",
    "# Búsqueda de todas las sesiones de la web\n",
    "t0 = time()\n",
    "\n",
    "url_sesiones = 'https://sala.cconstituyente.cl/doGet.asmx/getSesiones'\n",
    "\n",
    "busqueda = requests.get(url_sesiones)\n",
    "sesiones = json.loads(busqueda.text)['data']\n",
    "\n",
    "sesiones_id = []\n",
    "for sesion in sesiones:\n",
    "    sesiones_id.append(sesion['Id'])\n",
    "    \n",
    "#%%\n",
    "# Funciones con parámetros de búsqueda y para hacer requests async\n",
    "def ses_params(s_id_list):\n",
    "    return [{'prmSesionId': s_id} for s_id in  s_id_list]\n",
    "\n",
    "def vot_params(v_id_list):\n",
    "    return [{'prmVotacionId': v_id} for v_id in  v_id_list]\n",
    "\n",
    "def get_data(link, params_list):\n",
    "    reqs = [grequests.get(link, params=par) for par in params_list]\n",
    "    par_name = next(iter(params_list[0]))\n",
    "    resp = dict(zip([d[par_name] for d in params_list], grequests.map(reqs)))\n",
    "    return resp\n",
    "\n",
    "#%%%\n",
    "# Búsqueda de todas las asistencias por sesión\n",
    "url_asist = 'https://sala.cconstituyente.cl/views/AsistenciaPorSesion.aspx'\n",
    "\n",
    "def parse_asistencias(resp):\n",
    "    data_asistencias = []\n",
    "    for i, (ses_id, r) in enumerate(resp.items()):\n",
    "        tabla_asistencias = BeautifulSoup(r.text, 'html.parser').find_all(class_ =\"table table-hover tabla-asistencia\")\n",
    "        for tr in tabla_asistencias[1].find_all('tr'):\n",
    "            values = [td.text.strip() for td in tr.find_all('td') if td.text.strip()]\n",
    "            values.insert(0, ses_id)\n",
    "            data_asistencias.append(values)\n",
    "    return data_asistencias\n",
    "\n",
    "resp = get_data(url_asist, ses_params(sesiones_id))\n",
    "data_asistencias = parse_asistencias(resp)\n",
    "\n",
    "#%%%\n",
    "# Búsqueda de todas las votaciones por sesión\n",
    "url_vota = 'https://sala.cconstituyente.cl/doGet.asmx/getVotacionesPorSesion'\n",
    "\n",
    "def parse_votaciones(resp):\n",
    "    votaciones = []\n",
    "    for i, (ses_id, r) in enumerate(resp.items()):\n",
    "        vot_extend = json.loads(r.text)['data']\n",
    "        vot_extend = [dict(item, **{'IdSesion':ses_id}) for item in vot_extend]\n",
    "        votaciones.extend(vot_extend)\n",
    "    return votaciones\n",
    "\n",
    "resp = get_data(url_vota, ses_params(sesiones_id))\n",
    "votaciones = parse_votaciones(resp)\n",
    "\n",
    "votaciones_id = []\n",
    "for votacion in votaciones:\n",
    "    votaciones_id.append(votacion['Id'])\n",
    "\n",
    "#%%%\n",
    "# Búsqueda de detalle de las votaciones\n",
    "url_detail = 'https://sala.cconstituyente.cl/views/VotacionDetalle.aspx'\n",
    "\n",
    "def parse_resultado(resp):    \n",
    "    detalle_vota = []\n",
    "    orden_resultado = ['Favor', 'Contra', 'Abstención', 'Dispensados']\n",
    "    for i, (vot_id, r) in enumerate(resp.items()):\n",
    "        tabla_votacion = BeautifulSoup(r.text, 'html.parser').find(class_ ='col-lg-12 votacion-detalle')\n",
    "        det_vot = tabla_votacion.find_all(class_= 'row')\n",
    "        for num, orden in enumerate(orden_resultado):\n",
    "            for div in det_vot[num*2 +1 ].find_all('div'):\n",
    "                values = [vot_id, orden, div.text.strip()]\n",
    "                detalle_vota.append(values)\n",
    "\n"
   ]
  },
  {
   "cell_type": "code",
   "execution_count": 5,
   "id": "131efc66",
   "metadata": {},
   "outputs": [
    {
     "name": "stdout",
     "output_type": "stream",
     "text": [
      "Downloading took 22.95 seconds\n"
     ]
    }
   ],
   "source": [
    "resp = get_data(url_detail, vot_params(votaciones_id))\n",
    "detalle_vota = parse_resultado(resp)\n",
    "\n",
    "print(f'Downloading took {time()-t0:2.2f} seconds')\n",
    "\n",
    "#%%\n",
    "# Genera DataFrames para guardarlos en formato csv\n",
    "sesiones_col = ['IdSesion', 'Numero', 'Nombre', 'DiscucionPresupuesto', 'FechaTexto', 'Tipo',\n",
    "       'FechaInicio', 'FechaTermino', 'Estado', 'BoletinId', 'SintesisId',\n",
    "       'ActaId']\n",
    "asistencias_col = ['IdSesion', 'Convencional', 'HoraIngreso', 'Asistencia', 'Observaciones']\n",
    "votaciones_col = ['IdVotacion', 'Descripcion', 'Materia', 'Articulo', 'Tramite', 'Fecha',\n",
    "       'Sesion', 'TotalSI', 'TotalNO', 'TotalAbstencion', 'TotalDispensado',\n",
    "       'Resultado', 'Votos', 'IdSesion']\n",
    "det_vot_col = ['IdVotacion', 'Voto', 'Nombre']\n",
    "\n",
    "dat_sesiones = pd.DataFrame(sesiones)\n",
    "dat_sesiones.columns = sesiones_col\n",
    "dat_asistencias = pd.DataFrame(data_asistencias, columns= asistencias_col)\n",
    "dat_votaciones = pd.DataFrame(votaciones)\n",
    "dat_votaciones.columns = votaciones_col\n",
    "dat_votaciones_detalle = pd.DataFrame(detalle_vota, columns= det_vot_col)\n",
    "\n",
    "#%%\n",
    "#Cambio en el formato de fecha milisec-Javascript a string\n",
    "dat_sesiones['FechaInicio'] = [datetime.fromtimestamp(int(txt[6:-2])/1000.0) for txt in dat_sesiones['FechaInicio']]\n",
    "dat_sesiones['FechaTermino'] = [datetime.fromtimestamp(int(txt[6:-2])/1000.0) for txt in dat_sesiones['FechaTermino']]"
   ]
  },
  {
   "cell_type": "code",
   "execution_count": 7,
   "id": "2d9d0524",
   "metadata": {},
   "outputs": [],
   "source": [
    "#%%\n",
    "# Opción de guardado en formato .csv\n",
    "#Ubicación de la carpeta de guardado\n",
    "carpeta_local = '/home/felix/Dropbox/Computational_Economics/Intro_python/2021_S2/Datos_webscr/'  \n",
    "\n",
    "dat_sesiones.to_csv(carpeta_local +'dat_sesiones.csv', index = False, sep= ';')\n",
    "dat_asistencias.to_csv(carpeta_local +'dat_asistencias.csv', index = False, sep= ';')\n",
    "dat_votaciones.to_csv(carpeta_local +'dat_votaciones.csv', index = False, sep= ';')\n",
    "dat_votaciones_detalle.to_csv(carpeta_local +'dat_votaciones_detalle.csv', index = False, sep= ';')"
   ]
  },
  {
   "cell_type": "code",
   "execution_count": 10,
   "id": "78ef22c5",
   "metadata": {},
   "outputs": [],
   "source": [
    "df_asist = pd.read_csv(carpeta_local+\"dat_asistencias.csv\", sep=\";\")\n",
    "df_ses = pd.read_csv(carpeta_local+\"dat_sesiones.csv\", sep=\";\")\n",
    "df_vot = pd.read_csv(carpeta_local+\"dat_votaciones.csv\", sep=\";\")\n",
    "df_vot_det = pd.read_csv(carpeta_local+\"dat_votaciones_detalle.csv\", sep=\";\")"
   ]
  },
  {
   "cell_type": "code",
   "execution_count": 14,
   "id": "da15e5a0",
   "metadata": {},
   "outputs": [
    {
     "data": {
      "text/html": [
       "<div>\n",
       "<style scoped>\n",
       "    .dataframe tbody tr th:only-of-type {\n",
       "        vertical-align: middle;\n",
       "    }\n",
       "\n",
       "    .dataframe tbody tr th {\n",
       "        vertical-align: top;\n",
       "    }\n",
       "\n",
       "    .dataframe thead th {\n",
       "        text-align: right;\n",
       "    }\n",
       "</style>\n",
       "<table border=\"1\" class=\"dataframe\">\n",
       "  <thead>\n",
       "    <tr style=\"text-align: right;\">\n",
       "      <th></th>\n",
       "      <th>IdVotacion</th>\n",
       "      <th>Voto</th>\n",
       "      <th>Nombre</th>\n",
       "    </tr>\n",
       "  </thead>\n",
       "  <tbody>\n",
       "  </tbody>\n",
       "</table>\n",
       "</div>"
      ],
      "text/plain": [
       "Empty DataFrame\n",
       "Columns: [IdVotacion, Voto, Nombre]\n",
       "Index: []"
      ]
     },
     "execution_count": 14,
     "metadata": {},
     "output_type": "execute_result"
    }
   ],
   "source": [
    "df_vot_det.head()"
   ]
  }
 ],
 "metadata": {
  "kernelspec": {
   "display_name": "Python 3",
   "language": "python",
   "name": "python3"
  },
  "language_info": {
   "codemirror_mode": {
    "name": "ipython",
    "version": 3
   },
   "file_extension": ".py",
   "mimetype": "text/x-python",
   "name": "python",
   "nbconvert_exporter": "python",
   "pygments_lexer": "ipython3",
   "version": "3.9.1"
  }
 },
 "nbformat": 4,
 "nbformat_minor": 5
}
