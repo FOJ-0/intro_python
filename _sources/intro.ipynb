{
 "cells": [
  {
   "cell_type": "markdown",
   "id": "9a415cab",
   "metadata": {},
   "source": [
    "# Python para Ingeniería Comercial\n",
    "\n",
    "**Profesor:** Félix Ordóñez\n",
    "\n",
    "**Mail:** felix.ordonez@usach.cl\n",
    "\n",
    "**Horario:** Martes bloque 2 y 3. "
   ]
  },
  {
   "cell_type": "markdown",
   "id": "36643df0",
   "metadata": {},
   "source": [
    "## Programa\n",
    "**Objetivo**\n",
    "\n",
    "Este curso tiene por objetivo introducir un marco conceptual y práctico de programación en `Python`, junto con aplicaciones en economía y ciencia de datos. Este lenguaje fue desarrollado en 1989 en base a una programación multipropósito, de fácil legibilidad de código, gratuito y de código abierto. A partir de la última década, especialmente desde que se popularizó la librería *pandas*, el uso de este lenguaje incrementó ampliamente, donde se ha transversalizado en diferentes disciplinas como Data Science, Economía, Astronomía o Inteligencia Artificial, en contraposición de otros lenguajes enfocados sólo en cómputo numérico o estadístico.  \n",
    "\n",
    "Como `Python` es de código abierto, el desarrollo de nuevo contenido es constante y a gran velocidad, por ejemplo esto ha generado mecanismos para interactuar con otros lenguajes como R, SQL, C++ o Dynare++, se han creado librerías como *Numba* que permite mejorar sustancialmente el rendimiento de funciones y loops, o librerías dedicadas al Machine Learning como *Keras*, algo que sin duda ha impulsado su masificación en el mundo académico, el sector público y privado.\n",
    "\n",
    "A lo largo del semestre se abordarán métodos básicos de programación, la utilización de librerías científicas, visualización y análisis de datos, junto con aplicaciones estadísticas y económicas. Al final del curso se espera que los estudiantes obtengan un nivel intermedio-avanzado en el manejo de `Python`. \n",
    "\n",
    "**Requerimientos**\n",
    "\n",
    "No es necesario tener conocimientos previos de programación.\n",
    "\n",
    "**Evaluaciones**\n",
    "\n",
    "- Actividades cortas: 30%\n",
    "- Actividades intermedias: 30% \n",
    "- Trabajo en grupo: 40%\n",
    "    - Informe 1: 10%\n",
    "    - Informe 2: 10%\n",
    "    - Presentación: 20%"
   ]
  },
  {
   "cell_type": "markdown",
   "id": "61492ada",
   "metadata": {},
   "source": [
    "**Contenidos**\n",
    "1. Introducción a Python: \n",
    "- Introducción a un lenguaje de propósito general.\n",
    "- Configuración de Anaconda y Jupyterlab.\n",
    "\n",
    "2. Utilizando Python\n",
    "- Aprendiendo lo básico: instalación de librerías, diferentes types y formatos, como utilizar listas, diccionarios y loops. \n",
    "- Funciones: son un bloque de código que puede (o no) recibir un input y mediante una sentencia reaiza una tarea y/o puede devolver un valor. Acá se aprenderá cómo se utilizan, argumentos de entrada y de salida, funciones anidadas, entre otros.\n",
    "- Clases y objetos: La programación orientada a objetos permite administrar el código mediante métodos y estructuras lógicas. En python se utilizan *clases* para estructurar el código creando un nuevo tipo de objeto. Analizaremos para qué sirven las *clases* y cómo se utilizan.  \n",
    "- Utilización de datos con *pandas*: esta librería permite analizar bases de datos estructuradas. Se trabajará con bases relacionales como SQL, series de tiempo y matrices. \n",
    "- Introducción al manejo de texto: Una gran virtud de python es la facilidad con que se puede manejar archivos de texto. Para esto, se aprenderá cómo manejar bases de texto, depuración de datos, stopwords, y creación de word clouds.  \n",
    "- Visualización de datos: manejo de *Matplotlib* y *Plotly* para crear diferentes tipos de gráficos, tablas y paneles dinámicos. \n",
    "- Optimización de código: uso de *numba*."
   ]
  },
  {
   "cell_type": "markdown",
   "id": "4a641723",
   "metadata": {},
   "source": [
    "**Aplicaciones**\n",
    "\n",
    "- Oferta y demanda: solución de sistema de ecuaciones lineales. \n",
    "- OLS: realización de una regresión lineal para una ecuación de Mincer mediante datos de empleo chilenos.\n",
    "- Webscraping. \n",
    "- Modelo AR(1): programación de un modelo autoregresivo, gráficos de autocorrelación, persistencia del modelo.\n",
    "- Modelo de crecimiento de Solow: simulación del modelo de crecimiento, gráficos de resultados y análisis de diferentes paramterizaciones. \n",
    "- Colusión: programación de un modelo de cournot, funciones de demanda, costos y benficios, solución del equilibrio y gráficos. \n",
    "- Modelo de Markov-Switching: introducción al modelo de Hamilton (1989) y aplicación para el PIB de Chile. \n",
    "- Overlapping Generations Model (OLG): solución del estado estacionario de un modelo OLG, gráficos de capital y trabajo según generaciones. \n",
    "- Dynare++ y modelos DSGE: instalación de Dynare++ y utilización mediante jupyter, solución de modelos nuevo keynesianos. "
   ]
  },
  {
   "cell_type": "markdown",
   "id": "42b86dfc",
   "metadata": {},
   "source": [
    "**Referencias**\n",
    "\n",
    "- Aprende a instalar [Anaconda](https://www.anaconda.com/products/individual) en Windows, Mac o Linux. Acá puedes revisar la documentación de [Conda](https://docs.conda.io/projects/conda/en/latest/) en Windows, Mac o Linux. \n",
    "- [Índice](https://pypi.org/) de paquetes e instalación.\n",
    "- Para introducirte en [Jupyter](https://jupyter.org/).\n",
    "- Acá puedes encontrar un completo [tutorial de Python](https://docs.python.org/3/tutorial/).\n",
    "- Revisa las principales librerías que se usarán en el curso: [NumPy](https://numpy.org/), [Pandas](https://pandas.pydata.org/), [Numba](https://numba.pydata.org/), [Matplotlib](https://matplotlib.org/), [Plotly](https://plotly.com/python/) y [SciPy](https://docs.scipy.org/doc/scipy/reference/).\n",
    "- Para una amplia programación en economía y finanzas usando Python está [QuantEcon](https://python.quantecon.org/).\n",
    "- Proyectos de Python en [GitHub](https://github.com/trending?l=python).\n",
    "- [Historia](https://www.welcometothejungle.com/en/articles/btc-python-popular) de Python y su desarrollo.\n",
    "- [Stackoverflow](https://stackoverflow.com/questions/tagged/python) tiene un gran foro de consultas y respuestas en materia de programación.\n"
   ]
  },
  {
   "cell_type": "code",
   "execution_count": 5,
   "id": "536dc6e1",
   "metadata": {},
   "outputs": [],
   "source": [
    "import pandas as pd\n",
    "asdasd"
   ]
  },
  {
   "cell_type": "markdown",
   "id": "8b147b00",
   "metadata": {},
   "source": []
  }
 ],
 "metadata": {
  "kernelspec": {
   "display_name": "Python 3",
   "language": "python",
   "name": "python3"
  },
  "language_info": {
   "codemirror_mode": {
    "name": "ipython",
    "version": 3
   },
   "file_extension": ".py",
   "mimetype": "text/x-python",
   "name": "python",
   "nbconvert_exporter": "python",
   "pygments_lexer": "ipython3",
   "version": "3.9.1"
  }
 },
 "nbformat": 4,
 "nbformat_minor": 5
}
