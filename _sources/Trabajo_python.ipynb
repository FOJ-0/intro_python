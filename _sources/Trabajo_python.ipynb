{
 "cells": [
  {
   "cell_type": "markdown",
   "id": "5c522829",
   "metadata": {},
   "source": [
    "# Trabajo: Introducción a Python\n",
    "- Cada pregunta la debe responder en una celda diferente. \n",
    "- Antes de cada celda de código debe ir un `markdown` que muestre la pregunta que está respondiendo. \n",
    "- En la celda de código debe agregar un breve comentario de qué está haciendo.  \n",
    "- Mandar el archivo como un **PDF** al correo felix.ordonez@usach.cl con el asunto `Trabajo`.\n",
    "- El nombre del archivo debe ser \"Trabajo_python\". \n",
    "- La fecha de entrega es hasta el 07/08. \n",
    "- La pregunta tiene puntos sólo si está correcta, no tiene puntos por pasos intermedios. \n",
    "- El trabajo se hace en grupos de a 3. Debe colocar el nombre de las/os integrantes. "
   ]
  },
  {
   "cell_type": "markdown",
   "id": "3004ecfd",
   "metadata": {},
   "source": [
    "## Actividad 1 (40 puntos)\n",
    "1. Explique brevemente para qué ocupamos las librerías: `numpy`, `plotly`, `pandas`, `matplotlib`, `nltk`. \n",
    "2. Explique brevemente qué es una variable del tipo `boolean`, `float`, `integer` y `string`. \n",
    "3. ¿Cuál es la diferencia entre una `lista`, un `array` y un `diccionario`. Muestre con un ejemplo simple una diferencia entre los 3. \n",
    "4. Utilizando `numpy`, podemos crear una matriz de unos de dimensión 10x10 utilizando el código *np.ones((10,10))*. En base a esa matriz, utilice un loop anidado primero recorra las filas y luego las columnas, para sumar todos los elementos de la matriz (debe sumar 100). \n",
    "5. Crear una función llamada `suma` que tenga como input `x`. El input va a ser una matriz, entonces la función debe calcular la suma de todos los elementos de la matriz. El retorno de la función deben ser tres cosas: 1) cantidad de filas de la matriz, 2) cantidad de columnas de la matriz y 3) sumar de todos los elementos de la matriz. \n",
    "6. Utilizando la función de la pregunta anterior, agregar un `if/else` que si la suma es mayor a 50 realice un `print` que diga, \"la suma es mayor a 50\". Probar con una matriz que sume mas y otra que de menos de 50. \n",
    "7. Otro condicional que podemos usar es `while`, este nos permite realizar un `bucle`, es decir, realizar una iteración hasta que se cumpla una condición. Modifique la  función del punto 5) para que mediante un while realice la suma de los elementos de la matriz hasta que sea igual a 50. Explique brevemente la diferencia entre `if/else` y `while`. Acá un ejemplo de como funciona while. "
   ]
  },
  {
   "cell_type": "code",
   "execution_count": 6,
   "id": "caf1b8c8",
   "metadata": {},
   "outputs": [
    {
     "name": "stdout",
     "output_type": "stream",
     "text": [
      "La suma es 55\n"
     ]
    }
   ],
   "source": [
    "numero = 0\n",
    "suma = 0\n",
    "while numero <= 10:\n",
    "    suma = numero + suma\n",
    "    numero = numero + 1\n",
    "print (\"La suma es \" + str(suma))"
   ]
  },
  {
   "cell_type": "markdown",
   "id": "82fc76bc",
   "metadata": {},
   "source": [
    "8. Crear una `clase` que contenga 3 funciones:\n",
    "    - funcion_suma() de la pregunta 5). \n",
    "    - funcion_suma_if() de la pregunta 6). \n",
    "    - funcion_suma_while() de la pregunta 7). \n",
    "    \n",
    "    La clase debe permitir 2 cosas: \n",
    "    - En la función __init__() se debe declarar una matriz A como inicial, debe ser una matriz de unos de dimensión 10x10. \n",
    "    - Si uno quiere modificar la matriz A, lo debe poder hacer  cuando declara la clase. \n",
    "    "
   ]
  },
  {
   "cell_type": "code",
   "execution_count": null,
   "id": "08d1c447",
   "metadata": {},
   "outputs": [],
   "source": [
    "#Ejemplo declarar clase: (este ejemplo no va a correr porque no he creado la clase)\n",
    "#1. Matriz de otra dimensión diferente a la de la función __init__()\n",
    "matriz_nueva = np.ones((2,2))\n",
    "#2. Creamos el objeto en función de la clase y la nueva matriz\n",
    "obj1 = clase(A = matriz_nueva)"
   ]
  },
  {
   "cell_type": "markdown",
   "id": "ed84ad15",
   "metadata": {},
   "source": [
    "## Actividad 2 (60 puntos)\n",
    "En esta actividad van a utilizar 4 archivos: 1) IMACEC, 2) EMPLEO, 3) IMP y 4) EXP. Estos archivos se encuentra en formato excel. \n",
    "1. Revisar las bases y ver como vienen. Limpiar (en excel) para que sea sencillo importar los datos. Por ejemplo, en la base de EMPLEO las primeras 5 filas son celdas vacías o título de la hoja. Eso se puede borrar. Las columnas \"C\", \"E\" y otras son columnas en blanco, eliminar para que no queden a la hora de importar. La fila 7 tiene un subtítulo \"en miles\" que no aporta, también se puede eliminar. La idea es que las bases queden sólo con las filas y columnas que va a importar a python. \n",
    "2. Utilizando `pandas` importar las 4 bases, llamar: DF_IMACEC, DF_EMP, DF_IMP, DF_EXP. Limpiar para que se puedan trabajar (cambiar los nombres de variables, chequear el tipo de datos, revisar en qué fecha parten). \n",
    "3. Muestre en una tabla el promedio de personas según las siguientes categorías: total ocupados, independientes (total), asalariados públicos, asalariados del sector privado, personal doméstico. La tabla debe tener en la primera columna el año, en las otras columnas cada categoría ocupacional. \n",
    "4. Crear una DataFrame que tenga la variación porcentual mensual de personas para las categorías independientes (total) y asalariados (total). \n",
    "5. Usando el DataFrame del IMACEC, transponer para que las fechas queden en las filas y las categorías como columnas. Para esto puede usar la función de pandas `pivot_table`. \n",
    "6. Crear la variación porcentual mensual de la columna `imacec`. \n",
    "7. Crear una llave del tipo \"año-mes\" en el DataFrame de la pregunta 4 y otra en el DataFrame de la pregunta 6. \n",
    "8. Usando un `inner join` juntar los DataFrame de la pregunta 7. \n",
    "9. Graficar la variación del IMACEC, número de personas asalariadas e independientes mediante un gráfico de líneas. Puede usar matplotlib o plotly. La serie asociada al IMACEC debe ser roja, utilizar `dash` para diferenciar las series de asalariados e independientes. El gráfico debe tener título, nombre de ejes y leyenda. \n",
    "10. Usando los DataFrame de exportaciones (EXP) e importaciones (IMP), crear un gráfico de `scatter` que tenga el total de exportaciones en el eje horizontal y el total de importaciones (CIF) en el vertical. Agregue al gráfico una línea de 45°. El gráfico debe tener título, nombre de ejes y leyenda. \n",
    "11. Para el último periodo disponible crear un gráfico del tipo `sunburst` con el DF_IMP. Usar plotly. Si revisa el excel va a ver que hay distintos niveles de agregación, por ejemplo: \n",
    "    - Total importaciones (total)\n",
    "        - Bienes de consumo (nivel 1)\n",
    "            - Durables (nivel 2)\n",
    "                - Automoviles (nivel 3)\n",
    "                \n",
    "    Para el gráfico utilice sólo los niveles 1 y 2.\n",
    "12. Para el último periodo disponible crear un gráfico del tipo `Treemap` con el DF_EXP.  Usar plotly. Si revisa el excel va a ver que hay distintos niveles de agregación, por ejemplo: \n",
    "    - Total exportaciones (total)\n",
    "        - Minería (nivel 1)\n",
    "            - Cobre (nivel 2)\n",
    "                - Cátodos (nivel 3)\n",
    "                \n",
    "    Para el gráfico utilice sólo los niveles 1 y 2.\n"
   ]
  },
  {
   "cell_type": "markdown",
   "id": "178f69e9",
   "metadata": {},
   "source": [
    "## Actividad 3 (40 puntos)\n",
    "Usando la base `discurso3.txt` realice lo siguiente: \n",
    "1. Depurar el texto para que sea utilizable en el manejo de datos. Debe remover símbolos, números, espacios en blanco, saltos de línea, el texto debe estar en minúscula. \n",
    "2. Explique brevemente qué es un `token` y por qué lo utilizamos. \n",
    "3. Crear una variable que contenga los `token` a nivel de palabras. \n",
    "4. Explique brevemente que es una `stopword`.\n",
    "5. Crear una variable que contenga los `token` sin los `stopwords`.\n",
    "6. En un `subplot` con 2 gráficos que tengan una nube de palabras (wordcloud) con el vector creado en la pregunta 3 y otro de la pregunta 5. \n",
    "7. Explique brevemente que hace `stemming`. En la clase usamos `SnowballStemmer`, ¿qué otro podemos ocupar?. Muestre la raíz de la palabra \"agricultura\" y \"agrucultor\" con `SnowballStemmer` y con el otro que usted proponga. \n",
    "8. Explique brevemente a qué corresponde un `n-grama`.  En un gráfico muestre la frecuencia de un \"tri-grama\" para los 10 que más se repiten. "
   ]
  },
  {
   "cell_type": "code",
   "execution_count": null,
   "id": "16528b2a",
   "metadata": {},
   "outputs": [],
   "source": []
  }
 ],
 "metadata": {
  "kernelspec": {
   "display_name": "Python 3",
   "language": "python",
   "name": "python3"
  },
  "language_info": {
   "codemirror_mode": {
    "name": "ipython",
    "version": 3
   },
   "file_extension": ".py",
   "mimetype": "text/x-python",
   "name": "python",
   "nbconvert_exporter": "python",
   "pygments_lexer": "ipython3",
   "version": "3.9.1"
  }
 },
 "nbformat": 4,
 "nbformat_minor": 5
}
