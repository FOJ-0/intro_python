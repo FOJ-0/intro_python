{
 "cells": [
  {
   "cell_type": "markdown",
   "id": "8d800552",
   "metadata": {},
   "source": [
    "# Trabajo en grupo\n",
    "- Trabajo en grupo: 40%\n",
    "    - Informe 1: 10%\n",
    "    - Informe 2: 10%\n",
    "    - Presentación: 20%"
   ]
  },
  {
   "cell_type": "markdown",
   "id": "04ebcbe5",
   "metadata": {},
   "source": [
    "## Descripción\n",
    "El objetivo es realizar una aplicación de los contenidos del curso, en particular del manejo de bases de datos, estadísticas y visualizaciones. \n",
    "\n",
    "## Grupos\n",
    "Grupos de 3-4 personas. Ingresar en el siguiente formulario. \n",
    "https://forms.gle/X3s3gUGRA2aZtHFb9\n",
    "\n",
    "## Primer informe (26/04):\n",
    "- Integrantes\n",
    "- Base de datos que van a ocupar\n",
    "- Idea de cuatro gráficas que quieren mostrar. Un párrafo por cada idea. \n",
    "## Segundo informe (24/05): \n",
    "- Descripción de la base de datos y justificación de por qué la ocuparon. \n",
    "- Estadísticas de la base de datos relevantes: cantidad de observaciones, promedios, frecuencias, desviaciones estándar, según corresponda. \n",
    "- Cuatro gráficas según los datos. Estas deben utilizar diferentes tipos de visualizaciones: scatter, bar, heatmap, line, pie, sun...\n",
    "- Cada gráfica debe tener título, nombres de eje y toda la información autocontenida para que sea entendible. \n",
    "## Presentaciones (última semana de clases): \n",
    "- Presentar y justificar sus gráficas"
   ]
  },
  {
   "cell_type": "code",
   "execution_count": null,
   "id": "8b9d6e81",
   "metadata": {},
   "outputs": [],
   "source": []
  }
 ],
 "metadata": {
  "kernelspec": {
   "display_name": "Python 3",
   "language": "python",
   "name": "python3"
  },
  "language_info": {
   "codemirror_mode": {
    "name": "ipython",
    "version": 3
   },
   "file_extension": ".py",
   "mimetype": "text/x-python",
   "name": "python",
   "nbconvert_exporter": "python",
   "pygments_lexer": "ipython3",
   "version": "3.9.1"
  }
 },
 "nbformat": 4,
 "nbformat_minor": 5
}
